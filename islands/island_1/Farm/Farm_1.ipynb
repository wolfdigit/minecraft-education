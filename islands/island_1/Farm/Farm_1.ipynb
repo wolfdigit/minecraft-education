{
 "cells": [
  {
   "cell_type": "markdown",
   "metadata": {},
   "source": [
    "## Placing seeds\n",
    "\n",
    "Now that the ground has been tilled, you should see the marker change to a white colour.   \n",
    "The next step is planting the seeds. To do so, you should use `agent.place()`.\n",
    "\n",
    "To use `agent.place()`, see below:\n",
    "```python\n",
    "agent.place(direction, slot_id)\n",
    "```\n",
    "\n",
    "- `slot_id`: The slot number to get the item to place from. In this case, you should always use 1.\n",
    "- `direction`: The direction we want to have the agent place items. The directions you can use are: `forward`, `back`, `left`, `right`, `up`, `down`.\n",
    "\n",
    "\n",
    "**Place a seed from slot 1, below your agent.**"
   ]
  },
  {
   "cell_type": "code",
   "execution_count": null,
   "metadata": {
    "minecraft": {
     "closeCodeBuilderOnRun": true,
     "onCodeCancelledCommand": "scoreboard players set @s codeExecution 0",
     "onCodeErrorCommand": "scoreboard players set @s codeExecution -1",
     "onCodeStartedCommand": "scoreboard players set @s codeExecution 1",
     "onCodeStoppedCommand": "scoreboard players set @s codeExecution 0",
     "onCodeSuccessfulCommand": "scoreboard players set @s codeExecution 2",
     "readonly": false
    }
   },
   "outputs": [],
   "source": [
    "# Complete the code below\n",
    "agent.\n"
   ]
  },
  {
   "cell_type": "markdown",
   "metadata": {},
   "source": [
    "# Planting the rest\n",
    "\n",
    "Now you have planted a seed it's time to finish the job by planting the other 2 seeds. Take a look for the markers placed by the farmer.  \n",
    "\n",
    "**Complete the other 2 required planting tasks.**"
   ]
  },
  {
   "cell_type": "code",
   "execution_count": null,
   "metadata": {
    "default_code": "# Add your code below\n\n\n\n",
    "minecraft": {
     "closeCodeBuilderOnRun": true,
     "onCodeCancelledCommand": "scoreboard players set @s codeExecution 0",
     "onCodeErrorCommand": "scoreboard players set @s codeExecution -1",
     "onCodeStartedCommand": "scoreboard players set @s codeExecution 1",
     "onCodeStoppedCommand": "scoreboard players set @s codeExecution 0",
     "onCodeSuccessfulCommand": "scoreboard players set @s codeExecution 2",
     "readonly": false
    }
   },
   "outputs": [],
   "source": [
    "# Add your code below\n",
    "\n",
    "\n",
    "\n"
   ]
  }
 ],
 "metadata": {
  "kernelspec": {
   "display_name": "Python 3",
   "language": "python",
   "name": "python3"
  },
  "language_info": {
   "codemirror_mode": {
    "name": "ipython",
    "version": 3
   },
   "file_extension": ".py",
   "mimetype": "text/x-python",
   "name": "python",
   "nbconvert_exporter": "python",
   "pygments_lexer": "ipython3",
   "version": "3.8.3rc1"
  },
  "minecraft": {
   "description": "Section 2",
   "page_id": "3.0",
   "page_name": "Section 2",
   "style": "minecraft.css"
  }
 },
 "nbformat": 4,
 "nbformat_minor": 4
}
