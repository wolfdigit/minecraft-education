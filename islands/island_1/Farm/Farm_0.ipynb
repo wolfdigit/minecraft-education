{
 "cells": [
  {
   "cell_type": "markdown",
   "metadata": {},
   "source": [
    "# 種田任務簡介\n",
    "讓我們用agent來幫農夫耕地和播種。農夫已經把種子放在agent的物品欄了，可以開始囉！   \n",
    "\n",
    "![Farming](farm.jpg)"
   ]
  },
  {
   "cell_type": "markdown",
   "metadata": {},
   "source": [
    "## 移動你的agent\n",
    "\n",
    "如果你需要複習如何移動agent的話，這邊是使用`agent.move()`的方法\n",
    "\n",
    "```python\n",
    "agent.move(direction)\n",
    "```\n",
    "\n",
    "- `direction`: 我們想要讓agent移動的方向。可以用的方向有`forward`(前), `back`(後), `left`(左), `right`(右), `up`(上), `down`(下)\n",
    "\n",
    "\n",
    "**試著完成下面的程式來移動你的agent往左，然後再往左2步**"
   ]
  },
  {
   "cell_type": "code",
   "execution_count": null,
   "metadata": {
    "minecraft": {
     "closeCodeBuilderOnRun": true,
     "onCodeCancelledCommand": "scoreboard players set @s codeExecution 0",
     "onCodeErrorCommand": "scoreboard players set @s codeExecution -1",
     "onCodeStartedCommand": "scoreboard players set @s codeExecution 1",
     "onCodeStoppedCommand": "scoreboard players set @s codeExecution 0",
     "onCodeSuccessfulCommand": "scoreboard players set @s codeExecution 2",
     "readonly": false
    }
   },
   "outputs": [],
   "source": [
    "# 試著完成下面那一行程式，然後再加入更多次移動\n",
    "agent.\n",
    "\n",
    "\n"
   ]
  },
  {
   "cell_type": "markdown",
   "metadata": {},
   "source": [
    "## 在需要的位置耕地\n",
    "看一下，你應該會看到農夫放的3個標記，用來告訴你哪些方塊需要耕地   \n",
    "耕地是讓地上的土質適合播種。一旦你把agent移到泥土方塊上方之後，你就可以對這個方塊耕地\n",
    "\n",
    "使用`agent.till()`來讓你的agent耕地。下面會說明如何使用`agent.till()`指令\n",
    "\n",
    "```python\n",
    "agent.till(direction)\n",
    "```\n",
    "\n",
    "- `direction`: 我們希望agent耕地的方向。可以用的方向有`forward`(前), `back`(後), `left`(左), `right`(右), `up`(上), `down`(下)\n",
    "\n",
    "**當漂浮在需要處理的泥土方塊上方時，往下耕地來讓此處的泥土適合播種**"
   ]
  },
  {
   "cell_type": "code",
   "execution_count": null,
   "metadata": {
    "minecraft": {
     "closeCodeBuilderOnRun": true,
     "onCodeCancelledCommand": "scoreboard players set @s codeExecution 0",
     "onCodeErrorCommand": "scoreboard players set @s codeExecution -1",
     "onCodeStartedCommand": "scoreboard players set @s codeExecution 1",
     "onCodeStoppedCommand": "scoreboard players set @s codeExecution 0",
     "onCodeSuccessfulCommand": "scoreboard players set @s codeExecution 2",
     "readonly": false
    }
   },
   "outputs": [],
   "source": [
    "# 完成下面這行程式\n",
    "agent.\n"
   ]
  }
 ],
 "metadata": {
  "kernelspec": {
   "display_name": "Python 3",
   "language": "python",
   "name": "python3"
  },
  "language_info": {
   "codemirror_mode": {
    "name": "ipython",
    "version": 3
   },
   "file_extension": ".py",
   "mimetype": "text/x-python",
   "name": "python",
   "nbconvert_exporter": "python",
   "pygments_lexer": "ipython3",
   "version": "3.8.5"
  },
  "minecraft": {
   "description": "第1節",
   "page_id": "3.0",
   "page_name": "第1節",
   "style": "minecraft.css"
  }
 },
 "nbformat": 4,
 "nbformat_minor": 4
}
