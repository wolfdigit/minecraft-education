{
 "cells": [
  {
   "cell_type": "markdown",
   "metadata": {},
   "source": [
    "# 任務完成！"
   ]
  },
  {
   "cell_type": "markdown",
   "metadata": {},
   "source": [
    "## Agent執照\n",
    "![NPC](npc_small.jpg)\n",
    "做得好！我很高興能頒發**Agent執照**給你    \n",
    "當你要幫助島上的其他居民的時候，你會發現這個很好用，因為這是你會使用agent的證明   "
   ]
  },
  {
   "cell_type": "markdown",
   "metadata": {},
   "source": [
    "## 哨子\n",
    "![Whistle](whistle_small.jpg)   \n",
    "你現在還得到了一個**哨子**. \n",
    "如果你在手上拿著它的時候**點右鍵**，它會**叫來你的agent**到你的位置上，不論它原本在世界的哪個角落   \n",
    "喔還有，萬一你弄丟了你的哨子，可以再回來找我   \n"
   ]
  }
 ],
 "metadata": {
  "kernelspec": {
   "display_name": "Python 3",
   "language": "python",
   "name": "python3"
  },
  "language_info": {
   "codemirror_mode": {
    "name": "ipython",
    "version": 3
   },
   "file_extension": ".py",
   "mimetype": "text/x-python",
   "name": "python",
   "nbconvert_exporter": "python",
   "pygments_lexer": "ipython3",
   "version": "3.8.5"
  },
  "minecraft": {
   "description": "第1節",
   "page_id": "1.1",
   "page_name": "第1節",
   "style": "minecraft.css"
  }
 },
 "nbformat": 4,
 "nbformat_minor": 4
}
