{
 "cells": [
  {
   "cell_type": "markdown",
   "metadata": {},
   "source": [
    "# Task complete!"
   ]
  },
  {
   "cell_type": "markdown",
   "metadata": {},
   "source": [
    "## Agent Licence\n",
    "![NPC](npc_small.jpg)\n",
    "Great job! I am happy to award an **Agent Licence** to you.    \n",
    "You might find this useful if you want to help out other folks on the island, as it proves you know how to use your Agent.   "
   ]
  },
  {
   "cell_type": "markdown",
   "metadata": {},
   "source": [
    "## Whistle\n",
    "![Whistle](whistle_small.jpg)   \n",
    "You have also now been given a **Whistle**. \n",
    "If you **right click** while holding it in your hand, it will **call your agent** to you, from wherever it might be in the world.   \n",
    "Oh and, if you ever lose your whistle, come back and see me.   \n"
   ]
  }
 ],
 "metadata": {
  "kernelspec": {
   "display_name": "Python 3",
   "language": "python",
   "name": "python3"
  },
  "language_info": {
   "codemirror_mode": {
    "name": "ipython",
    "version": 3
   },
   "file_extension": ".py",
   "mimetype": "text/x-python",
   "name": "python",
   "nbconvert_exporter": "python",
   "pygments_lexer": "ipython3",
   "version": "3.8.5"
  },
  "minecraft": {
   "description": "Section 1",
   "page_id": "1.1",
   "page_name": "Section 1",
   "style": "minecraft.css"
  }
 },
 "nbformat": 4,
 "nbformat_minor": 4
}
