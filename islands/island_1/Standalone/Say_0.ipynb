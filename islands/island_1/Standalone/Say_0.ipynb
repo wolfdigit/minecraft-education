{
 "cells": [
  {
   "cell_type": "markdown",
   "metadata": {},
   "source": [
    "# 使用 say() 指令\n",
    "在這項活動中，我們要認識Python裡的say()指令。\n",
    "\n"
   ]
  },
  {
   "cell_type": "markdown",
   "metadata": {},
   "source": [
    "## say()是用來做什麼的？\n",
    "\n",
    "say()指令是用來在聊天裡輸出一個訊息，是用你的身分發出的！ \n",
    "\n",
    "![Say output](say1.jpg)\n",
    "\n",
    "\n",
    "**按下「執行」按鈕來跑看看下面這段程式    \n",
    "你想要講出其他話嗎？試試看修改雙引號\"\"裡面的文字，看會發生什麼事？**"
   ]
  },
  {
   "cell_type": "code",
   "execution_count": null,
   "metadata": {
    "minecraft": {
     "closeCodeBuilderOnRun": true,
     "onCodeCancelledCommand": "scoreboard players set @s codeExecution 0",
     "onCodeErrorCommand": "scoreboard players set @s codeExecution -1",
     "onCodeStartedCommand": "scoreboard players set @s codeExecution 1",
     "onCodeStoppedCommand": "scoreboard players set @s codeExecution 0",
     "onCodeSuccessfulCommand": "scoreboard players set @s codeExecution 2",
     "readonly": false
    }
   },
   "outputs": [],
   "source": [
    "say(\"Hello World!\")\n"
   ]
  },
  {
   "cell_type": "markdown",
   "metadata": {},
   "source": [
    "## 為什麼需要用引號？\n",
    "像你剛剛看到的，我們有在say指令要講的文字的外面用雙引號\"\"包起來   \n",
    "但是為什麼需要它們...？   \n",
    "   \n",
    "這是因為在Python語言裡面，標示出文字(專業一點會叫它String字串)的方式就是用雙引號把它包在裡面\n",
    "\n",
    "**試試看把下面這段程式修好**"
   ]
  },
  {
   "cell_type": "code",
   "execution_count": null,
   "metadata": {
    "minecraft": {
     "closeCodeBuilderOnRun": true,
     "onCodeCancelledCommand": "scoreboard players set @s codeExecution 0",
     "onCodeErrorCommand": "scoreboard players set @s codeExecution -1",
     "onCodeStartedCommand": "scoreboard players set @s codeExecution 1",
     "onCodeStoppedCommand": "scoreboard players set @s codeExecution 0",
     "onCodeSuccessfulCommand": "scoreboard players set @s codeExecution 2",
     "readonly": false
    }
   },
   "outputs": [],
   "source": [
    "say(Once upon a time\")\n",
    "say(\"There was a mysterious world...)\n",
    "say(In which everything was made out of blocks, exactly the same size.)\n",
    "say(Also in this world was a village, perched on top of some floating islands.\")\n",
    "say(\"How the island floats, no one knows...)"
   ]
  },
  {
   "cell_type": "markdown",
   "metadata": {},
   "source": [
    "你做完之後，按下一步的箭頭繼續"
   ]
  }
 ],
 "metadata": {
  "kernelspec": {
   "display_name": "Python 3",
   "language": "python",
   "name": "python3"
  },
  "language_info": {
   "codemirror_mode": {
    "name": "ipython",
    "version": 3
   },
   "file_extension": ".py",
   "mimetype": "text/x-python",
   "name": "python",
   "nbconvert_exporter": "python",
   "pygments_lexer": "ipython3",
   "version": "3.8.5"
  },
  "minecraft": {
   "description": "第1節",
   "page_id": "3.0",
   "page_name": "第1節",
   "style": "minecraft.css"
  }
 },
 "nbformat": 4,
 "nbformat_minor": 4
}
