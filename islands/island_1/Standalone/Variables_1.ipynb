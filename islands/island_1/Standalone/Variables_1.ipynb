{
 "cells": [
  {
   "cell_type": "markdown",
   "metadata": {},
   "source": [
    "## 變數的結語\n",
    "\n",
    "在寫程式的時候，變數非常的有用，而且每個地方都會用到它！   \n",
    "在Python語言，它可以用來存放任何資料(包括字串、整數、浮點數、布林)，然後在你程式裡的其他地方可以很輕易地拿出來使用   \n",
    "要記得，變數的用法都會像這個格式： \n",
    "   \n",
    "```\n",
    "變數名稱 = 要儲存的資料\n",
    "```\n",
    "例如   \n",
    "```python\n",
    "name = \"bob\"\n",
    "age = 5\n",
    "```\n"
   ]
  },
  {
   "cell_type": "markdown",
   "metadata": {},
   "source": [
    "你做完之後，請按下面這段的執行按鈕來完成任務"
   ]
  },
  {
   "cell_type": "code",
   "execution_count": null,
   "metadata": {
    "minecraft": {
     "closeCodeBuilderOnRun": true,
     "onCodeCancelledCommand": "scoreboard players set @s codeExecution 0",
     "onCodeErrorCommand": "scoreboard players set @s codeExecution -1",
     "onCodeStartedCommand": "scoreboard players set @s codeExecution 1",
     "onCodeStoppedCommand": "scoreboard players set @s codeExecution 0",
     "onCodeSuccessfulCommand": "scoreboard players set @s f1-var-complete 1",
     "readonly": false
    }
   },
   "outputs": [],
   "source": [
    "say(\"Task complete\")"
   ]
  }
 ],
 "metadata": {
  "kernelspec": {
   "display_name": "Python 3",
   "language": "python",
   "name": "python3"
  },
  "language_info": {
   "codemirror_mode": {
    "name": "ipython",
    "version": 3
   },
   "file_extension": ".py",
   "mimetype": "text/x-python",
   "name": "python",
   "nbconvert_exporter": "python",
   "pygments_lexer": "ipython3",
   "version": "3.8.5"
  },
  "minecraft": {
   "description": "第2節",
   "page_id": "3.0",
   "page_name": "第2節",
   "style": "minecraft.css"
  }
 },
 "nbformat": 4,
 "nbformat_minor": 4
}
