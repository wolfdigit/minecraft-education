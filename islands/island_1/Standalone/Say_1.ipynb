{
 "cells": [
  {
   "cell_type": "markdown",
   "metadata": {},
   "source": [
    "## 還有哪些資料型態？\n",
    "\n",
    "字串(文字)只是Python裡的其中一種資料型態，其他還有幾種有趣的**資料型態**   \n",
    "- 整數Integers: 整數，沒有小數點，例如 1, 5, -2\n",
    "- 浮點數Floats: 帶有小數點的數，例如 1.4, 5.7, -3.8\n",
    "- 布林Booleans: 真假值，True代表真，False代表假\n",
    "\n",
    "say()指令也可以輸出這些資料型態，它們就不需要用雙引號包起來了\n",
    "\n",
    "\n",
    "**按下「執行」按鈕來跑看看下面這段程式。你可以把輸出改成23、74.2、和False嗎？**"
   ]
  },
  {
   "cell_type": "code",
   "execution_count": null,
   "metadata": {
    "default_code": "say(6)\nsay(3.4)\nsay(True)\n\n",
    "minecraft": {
     "closeCodeBuilderOnRun": true,
     "onCodeCancelledCommand": "scoreboard players set @s codeExecution 0",
     "onCodeErrorCommand": "scoreboard players set @s codeExecution -1",
     "onCodeStartedCommand": "scoreboard players set @s codeExecution 1",
     "onCodeStoppedCommand": "scoreboard players set @s codeExecution 0",
     "onCodeSuccessfulCommand": "scoreboard players set @s codeExecution 2",
     "readonly": false
    }
   },
   "outputs": [],
   "source": [
    "say(6)\n",
    "say(3.4)\n",
    "say(True)\n",
    "\n"
   ]
  },
  {
   "cell_type": "markdown",
   "metadata": {},
   "source": [
    "你做完之後，請按下面這段的執行按鈕來完成任務"
   ]
  },
  {
   "cell_type": "code",
   "execution_count": null,
   "metadata": {
    "minecraft": {
     "closeCodeBuilderOnRun": true,
     "onCodeCancelledCommand": "scoreboard players set @s codeExecution 0",
     "onCodeErrorCommand": "scoreboard players set @s codeExecution -1",
     "onCodeStartedCommand": "scoreboard players set @s codeExecution 1",
     "onCodeStoppedCommand": "scoreboard players set @s codeExecution 0",
     "onCodeSuccessfulCommand": "scoreboard players set @s f1-say-complete 1",
     "readonly": false
    }
   },
   "outputs": [],
   "source": [
    "say(\"Task complete\")\n",
    "\n"
   ]
  }
 ],
 "metadata": {
  "kernelspec": {
   "display_name": "Python 3",
   "language": "python",
   "name": "python3"
  },
  "language_info": {
   "codemirror_mode": {
    "name": "ipython",
    "version": 3
   },
   "file_extension": ".py",
   "mimetype": "text/x-python",
   "name": "python",
   "nbconvert_exporter": "python",
   "pygments_lexer": "ipython3",
   "version": "3.8.3rc1"
  },
  "minecraft": {
   "description": "第2節",
   "page_id": "3.0",
   "page_name": "第2節",
   "style": "minecraft.css"
  }
 },
 "nbformat": 4,
 "nbformat_minor": 4
}
