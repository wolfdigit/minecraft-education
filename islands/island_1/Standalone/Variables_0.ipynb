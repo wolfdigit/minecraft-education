{
 "cells": [
  {
   "cell_type": "markdown",
   "metadata": {},
   "source": [
    "# 認識Variables變數\n",
    "在這項活動中，你會學到如何使用Python的`Variables`變數，以及它的運作原理   \n",
    "\n"
   ]
  },
  {
   "cell_type": "markdown",
   "metadata": {},
   "source": [
    "## 什麼是變數？\n",
    "\n",
    "在程式設計中，`變數`是用來暫時存放資料的地方   \n",
    "它可以把資料儲存起來，之後再把資料讀出來   \n",
    "每個`變數`都要有名稱，你要幫它們命名   \n",
    "   \n",
    "下面這行程式碼示範如何創建一個變數\n",
    "```python\n",
    "my_amazing_variable = \"Hello world\"\n",
    "```\n",
    "\n",
    "**按下「執行」按鈕來執行下面這段程式。你可以試著修改\"\"裡面的文字部分**"
   ]
  },
  {
   "cell_type": "code",
   "execution_count": null,
   "metadata": {
    "minecraft": {
     "closeCodeBuilderOnRun": true,
     "onCodeCancelledCommand": "scoreboard players set @s codeExecution 0",
     "onCodeErrorCommand": "scoreboard players set @s codeExecution -1",
     "onCodeStartedCommand": "scoreboard players set @s codeExecution 1",
     "onCodeStoppedCommand": "scoreboard players set @s codeExecution 0",
     "onCodeSuccessfulCommand": "scoreboard players set @s codeExecution 2",
     "readonly": false
    }
   },
   "outputs": [],
   "source": [
    "# 編輯下面的文字(字串)改成你要的訊息\n",
    "my_amazing_variable = \"Test\" \n",
    "\n",
    "# 下面這行會把你的變數裡存的內容輸出到遊戲的聊天裡面\n",
    "say(my_amazing_variable)\n"
   ]
  },
  {
   "cell_type": "markdown",
   "metadata": {},
   "source": [
    "## 覆寫變數內容\n",
    "用相同的語法，你也可以改變之前已經創建的變數的內容，例如這樣\n",
    "```python\n",
    "my_amazing_variable = \"Hello\"\n",
    "\n",
    "# 這一行會把\"Hello\"覆蓋掉，改成\"World\"\n",
    "my_amazing_variable = \"World\"\n",
    "```\n",
    "\n",
    "**規定不能修改下面這段程式的第1行，你有辦法把變數內容改成\"Good news\"嗎？**"
   ]
  },
  {
   "cell_type": "code",
   "execution_count": null,
   "metadata": {
    "default_code": "my_amazing_variable = \"Bad news\"\n# 在這行以下加入你的程式碼\n\n\n\n# 下面這行會把你的變數裡存的內容輸出到遊戲的聊天裡面\nsay(my_amazing_variable)",
    "minecraft": {
     "closeCodeBuilderOnRun": true,
     "onCodeCancelledCommand": "scoreboard players set @s codeExecution 0",
     "onCodeErrorCommand": "scoreboard players set @s codeExecution -1",
     "onCodeStartedCommand": "scoreboard players set @s codeExecution 1",
     "onCodeStoppedCommand": "scoreboard players set @s codeExecution 0",
     "onCodeSuccessfulCommand": "scoreboard players set @s codeExecution 2",
     "readonly": false
    }
   },
   "outputs": [],
   "source": [
    "my_amazing_variable = \"Bad news\"\n",
    "# 在這行以下加入你的程式碼\n",
    "\n",
    "\n",
    "\n",
    "# 下面這行會把你的變數裡存的內容輸出到遊戲的聊天裡面\n",
    "say(my_amazing_variable)"
   ]
  },
  {
   "cell_type": "markdown",
   "metadata": {},
   "source": [
    "做完之後，按下一步箭頭繼續"
   ]
  }
 ],
 "metadata": {
  "kernelspec": {
   "display_name": "Python 3",
   "language": "python",
   "name": "python3"
  },
  "language_info": {
   "codemirror_mode": {
    "name": "ipython",
    "version": 3
   },
   "file_extension": ".py",
   "mimetype": "text/x-python",
   "name": "python",
   "nbconvert_exporter": "python",
   "pygments_lexer": "ipython3",
   "version": "3.8.3rc1"
  },
  "minecraft": {
   "description": "第1節",
   "page_id": "3.0",
   "page_name": "第1節",
   "style": "minecraft.css"
  }
 },
 "nbformat": 4,
 "nbformat_minor": 4
}
