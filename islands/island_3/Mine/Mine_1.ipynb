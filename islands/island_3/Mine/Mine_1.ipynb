{
 "cells": [
  {
   "cell_type": "markdown",
   "metadata": {},
   "source": [
    "# Gold Digging!\n",
    "\n",
    "Recently the island has come across a few stray blocks of gold which they can use to help advance their technology! Michael has asked if you're willing to help mine some gold ore, with the Agent, in the areas that would not be safe for people to go down.\n",
    "\n",
    "![Picture of Mine expert and mine](cover.png)\n"
   ]
  },
  {
   "cell_type": "markdown",
   "metadata": {},
   "source": [
    "## Step 1\n",
    "\n",
    "Michael has an idea of where these blocks of gold are underground. He got his team of miners to replace the top blocks to cobblestone to show where to dig down!\n",
    "\n",
    "To start, let's use `agent.move` and move onto the first block.\n",
    "\n",
    "**Move the Agent `forward` one block to step on top of the cobblestone.**"
   ]
  },
  {
   "cell_type": "code",
   "execution_count": null,
   "metadata": {
    "minecraft": {
     "closeCodeBuilderOnRun": true,
     "onCodeCancelledCommand": "scoreboard players set @s codeExecution 0",
     "onCodeErrorCommand": "scoreboard players set @s codeExecution -1",
     "onCodeStartedCommand": "scoreboard players set @s codeExecution 1",
     "onCodeStoppedCommand": "scoreboard players set @s codeExecution 0",
     "onCodeSuccessfulCommand": "scoreboard players set @s codeExecution 2",
     "overridePython": "",
     "readonly": false
    }
   },
   "outputs": [],
   "source": [
    "\n",
    "# Add your code above"
   ]
  },
  {
   "cell_type": "markdown",
   "metadata": {},
   "source": [
    "## Step 2\n",
    "\n",
    "Now to start digging! Michael knows that the gold is going to be three blocks below the surface.\n",
    "\n",
    "For this, we will need to use `agent.destroy` and `agent.move` to dig *down* underground. To repeat this three times, we'll use a `for` loop.\n",
    "\n",
    "**Complete the for loop to repeat three times and have the Agent destroy the block below it and move down.**"
   ]
  },
  {
   "cell_type": "code",
   "execution_count": null,
   "metadata": {
    "minecraft": {
     "closeCodeBuilderOnRun": true,
     "onCodeCancelledCommand": "scoreboard players set @s codeExecution 0",
     "onCodeErrorCommand": "scoreboard players set @s codeExecution -1",
     "onCodeStartedCommand": "scoreboard players set @s codeExecution 1",
     "onCodeStoppedCommand": "scoreboard players set @s codeExecution 0",
     "onCodeSuccessfulCommand": "scoreboard players set @s codeExecution 2",
     "overridePython": "",
     "readonly": false
    }
   },
   "outputs": [],
   "source": [
    "for dig in range(    ,    ):\n",
    "    # Complete the for loop above and add an agent.destroy and agent.move below\n",
    "    \n",
    "    \n",
    "    "
   ]
  },
  {
   "cell_type": "markdown",
   "metadata": {},
   "source": [
    "Great! When you're ready to move on, click the next button."
   ]
  }
 ],
 "metadata": {
  "kernelspec": {
   "display_name": "Python 3 (ipykernel)",
   "language": "python",
   "name": "python3"
  },
  "language_info": {
   "codemirror_mode": {
    "name": "ipython",
    "version": 3
   },
   "file_extension": ".py",
   "mimetype": "text/x-python",
   "name": "python",
   "nbconvert_exporter": "python",
   "pygments_lexer": "ipython3",
   "version": "3.9.7"
  },
  "minecraft": {
   "description": "Section 1",
   "page_id": "1.1",
   "page_name": "Section 1",
   "style": "minecraft.css"
  }
 },
 "nbformat": 4,
 "nbformat_minor": 4
}
