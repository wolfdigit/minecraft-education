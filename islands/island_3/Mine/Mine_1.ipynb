{
 "cells": [
  {
   "cell_type": "markdown",
   "metadata": {},
   "source": [
    "# 挖掘金礦！\n",
    "\n",
    "最近這個島上發現一些金礦可以用來發展他們的科技！Michael希望你幫忙挖一些金礦出來，用你的agent，因為那些區域讓人下去不太安全。\n",
    "\n",
    "![Picture of Mine expert and mine](cover.png)\n"
   ]
  },
  {
   "cell_type": "markdown",
   "metadata": {},
   "source": [
    "## 步驟 1\n",
    "\n",
    "Michael知道金礦在哪些方塊地下，他讓他的礦工團隊把最上面的方塊換成鵝卵石來標示哪些地方應該挖下去！\n",
    "\n",
    "開始第一步，我們要用`agent.move`把agent移到第一個方塊上。\n",
    "\n",
    "**往前`forward`移動Agent一格，讓它站到鵝卵石上。**"
   ]
  },
  {
   "cell_type": "code",
   "execution_count": null,
   "metadata": {
    "minecraft": {
     "closeCodeBuilderOnRun": true,
     "onCodeCancelledCommand": "scoreboard players set @s codeExecution 0",
     "onCodeErrorCommand": "scoreboard players set @s codeExecution -1",
     "onCodeStartedCommand": "scoreboard players set @s codeExecution 1",
     "onCodeStoppedCommand": "scoreboard players set @s codeExecution 0",
     "onCodeSuccessfulCommand": "scoreboard players set @s codeExecution 2",
     "overridePython": "",
     "readonly": false
    }
   },
   "outputs": [],
   "source": [
    "\n",
    "# 在上面加入你的程式碼"
   ]
  },
  {
   "cell_type": "markdown",
   "metadata": {},
   "source": [
    "## 步驟 2\n",
    "\n",
    "再來要開始挖掘！ Michael知道金礦會在地表底下3格的深度。\n",
    "\n",
    "這樣的話，我們要用`agent.destroy`和`agent.move`來往*下*`down`挖。 要重複這個動作3次，我們會用到`for`迴圈。\n",
    "\n",
    "**完成for迴圈來重複3次，而且讓Agent開採下方的方塊然後往下移。**"
   ]
  },
  {
   "cell_type": "code",
   "execution_count": null,
   "metadata": {
    "minecraft": {
     "closeCodeBuilderOnRun": true,
     "onCodeCancelledCommand": "scoreboard players set @s codeExecution 0",
     "onCodeErrorCommand": "scoreboard players set @s codeExecution -1",
     "onCodeStartedCommand": "scoreboard players set @s codeExecution 1",
     "onCodeStoppedCommand": "scoreboard players set @s codeExecution 0",
     "onCodeSuccessfulCommand": "scoreboard players set @s codeExecution 2",
     "overridePython": "",
     "readonly": false
    }
   },
   "outputs": [],
   "source": [
    "for dig in range(    ,    ):\n",
    "    # 完成上面那行迴圈，然後在下面加入一個agent.destroy和agent.move\n",
    "    \n",
    "    \n",
    "    "
   ]
  },
  {
   "cell_type": "markdown",
   "metadata": {},
   "source": [
    "很好！ 當你準備好繼續的時候，按下一步按鈕"
   ]
  }
 ],
 "metadata": {
  "kernelspec": {
   "display_name": "Python 3 (ipykernel)",
   "language": "python",
   "name": "python3"
  },
  "language_info": {
   "codemirror_mode": {
    "name": "ipython",
    "version": 3
   },
   "file_extension": ".py",
   "mimetype": "text/x-python",
   "name": "python",
   "nbconvert_exporter": "python",
   "pygments_lexer": "ipython3",
   "version": "3.9.7"
  },
  "minecraft": {
   "description": "第1節",
   "page_id": "1.1",
   "page_name": "第1節",
   "style": "minecraft.css"
  }
 },
 "nbformat": 4,
 "nbformat_minor": 4
}
