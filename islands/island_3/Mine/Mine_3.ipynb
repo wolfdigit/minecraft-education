{
 "cells": [
  {
   "cell_type": "markdown",
   "metadata": {},
   "source": [
    "## 步驟 5\n",
    "\n",
    "主要的程式碼都已經學會而且寫出來了，該是時候把它們全部組在一起讓它們運作了！\n",
    "\n",
    "大部分的程式碼都放在這裡了，但是還沒完全好...\n",
    "\n",
    "**完成下面的程式碼，包括整體的for迴圈用來重複檢查礦坑的程式`3`次，在最後面讓agent往前移動！**"
   ]
  },
  {
   "cell_type": "code",
   "execution_count": null,
   "metadata": {
    "default_code": "for tunnel          :\n    # 完成上面這行程式碼，讓for迴圈重複3次！\n    agent.move(\"forward\") \n    \n    for dig in range(0,3):\n        agent.destroy(\"down\")\n        agent.move(\"down\")\n        \n    if(agent.inspect(\"down\") == \"gold_ore\"):\n        agent.destroy(\"down\")\n        \n    for rise in range(0,3):\n        agent.move(\"up\")\n        \n    # Add the final code to move the agent forward, below\n       ",
    "minecraft": {
     "closeCodeBuilderOnRun": true,
     "onCodeCancelledCommand": "scoreboard players set @s codeExecution 0",
     "onCodeErrorCommand": "scoreboard players set @s codeExecution -1",
     "onCodeStartedCommand": "scoreboard players set @s codeExecution 1",
     "onCodeStoppedCommand": "scoreboard players set @s codeExecution 0",
     "onCodeSuccessfulCommand": "scoreboard players set @s codeExecution 2",
     "overridePython": "",
     "readonly": false
    }
   },
   "outputs": [],
   "source": [
    "for tunnel          :\n",
    "    # 完成上面這行程式碼，讓for迴圈重複3次！\n",
    "    agent.move(\"forward\") \n",
    "    \n",
    "    for dig in range(0,3):\n",
    "        agent.destroy(\"down\")\n",
    "        agent.move(\"down\")\n",
    "        \n",
    "    if(agent.inspect(\"down\").id == \"gold_ore\"):\n",
    "        agent.destroy(\"down\")\n",
    "        \n",
    "    for rise in range(0,3):\n",
    "        agent.move(\"up\")\n",
    "        \n",
    "    # 在下面加入最後一點程式，把agent往前forward移動\n",
    "    \n",
    "    "
   ]
  }
 ],
 "metadata": {
  "kernelspec": {
   "display_name": "Python 3 (ipykernel)",
   "language": "python",
   "name": "python3"
  },
  "language_info": {
   "codemirror_mode": {
    "name": "ipython",
    "version": 3
   },
   "file_extension": ".py",
   "mimetype": "text/x-python",
   "name": "python",
   "nbconvert_exporter": "python",
   "pygments_lexer": "ipython3",
   "version": "3.9.7"
  },
  "minecraft": {
   "description": "第3節",
   "page_id": "1.3",
   "page_name": "第3節",
   "style": "minecraft.css"
  }
 },
 "nbformat": 4,
 "nbformat_minor": 4
}
