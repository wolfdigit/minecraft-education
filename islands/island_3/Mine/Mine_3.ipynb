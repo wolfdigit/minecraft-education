{
 "cells": [
  {
   "cell_type": "markdown",
   "metadata": {},
   "source": [
    "## Step 5\n",
    "\n",
    "With the main code out of the way and completed time to put it all together and get it working!\n",
    "\n",
    "Most of the code is here but, it's not ready yet...\n",
    "\n",
    "**To complete the code, finish the overall for loop to run the tunnel checking code `3` times and then make the agent move forward at the end!**"
   ]
  },
  {
   "cell_type": "code",
   "execution_count": null,
   "metadata": {
    "default_code": "for tunnel          :\n    # Complete the for loop above to repeat 3 times!\n    agent.move(\"forward\") \n    \n    for dig in range(0,3):\n        agent.destroy(\"down\")\n        agent.move(\"down\")\n        \n    if(agent.inspect(\"down\") == \"gold_ore\"):\n        agent.destroy(\"down\")\n        \n    for rise in range(0,3):\n        agent.move(\"up\")\n        \n    # Add the final code to move the agent forward, below\n       ",
    "minecraft": {
     "closeCodeBuilderOnRun": true,
     "onCodeCancelledCommand": "scoreboard players set @s codeExecution 0",
     "onCodeErrorCommand": "scoreboard players set @s codeExecution -1",
     "onCodeStartedCommand": "scoreboard players set @s codeExecution 1",
     "onCodeStoppedCommand": "scoreboard players set @s codeExecution 0",
     "onCodeSuccessfulCommand": "scoreboard players set @s codeExecution 2",
     "overridePython": "",
     "readonly": false
    }
   },
   "outputs": [],
   "source": [
    "for tunnel          :\n",
    "    # Complete the for loop above to repeat 3 times!\n",
    "    agent.move(\"forward\") \n",
    "    \n",
    "    for dig in range(0,3):\n",
    "        agent.destroy(\"down\")\n",
    "        agent.move(\"down\")\n",
    "        \n",
    "    if(agent.inspect(\"down\").id == \"gold_ore\"):\n",
    "        agent.destroy(\"down\")\n",
    "        \n",
    "    for rise in range(0,3):\n",
    "        agent.move(\"up\")\n",
    "        \n",
    "    # Add the final code to move the agent forward, below\n",
    "    \n",
    "    "
   ]
  }
 ],
 "metadata": {
  "kernelspec": {
   "display_name": "Python 3 (ipykernel)",
   "language": "python",
   "name": "python3"
  },
  "language_info": {
   "codemirror_mode": {
    "name": "ipython",
    "version": 3
   },
   "file_extension": ".py",
   "mimetype": "text/x-python",
   "name": "python",
   "nbconvert_exporter": "python",
   "pygments_lexer": "ipython3",
   "version": "3.9.7"
  },
  "minecraft": {
   "description": "Section 3",
   "page_id": "1.3",
   "page_name": "Section 3",
   "style": "minecraft.css"
  }
 },
 "nbformat": 4,
 "nbformat_minor": 4
}
