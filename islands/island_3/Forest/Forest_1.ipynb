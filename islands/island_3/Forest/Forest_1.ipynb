{
 "cells": [
  {
   "cell_type": "markdown",
   "metadata": {},
   "source": [
    "# Taking down the Tree\n",
    "\n",
    "Help the Tree Experts take down the rotting tree! As your agent can fly up and down, they have asked you if you can help remove a bulk of the tree trunk. \n",
    "\n",
    "Don't worry though, supports and scaffolding have been put in place to hold the top part up while you work, so it will not collapse.\n",
    "\n",
    "![Cover image of tree](cover.png)\n"
   ]
  },
  {
   "cell_type": "markdown",
   "metadata": {},
   "source": [
    "## Step 1\n",
    "\n",
    "To start, we'll need to remove the base of the tree. This is as simple as removing the bottom 4 blocks with your agent using `agent.destroy`, and moving using `agent.move` to the next block!\n",
    "\n",
    "**Using `agent.destroy` and `agent.move` remove the 4 logs at the bottom of the tree!**"
   ]
  },
  {
   "cell_type": "code",
   "execution_count": null,
   "metadata": {
    "minecraft": {
     "closeCodeBuilderOnRun": true,
     "onCodeCancelledCommand": "scoreboard players set @s codeExecution 0",
     "onCodeErrorCommand": "scoreboard players set @s codeExecution -1",
     "onCodeStartedCommand": "scoreboard players set @s codeExecution 1",
     "onCodeStoppedCommand": "scoreboard players set @s codeExecution 0",
     "onCodeSuccessfulCommand": "scoreboard players set @s codeExecution 2",
     "overridePython": "",
     "readonly": false
    }
   },
   "outputs": [],
   "source": [
    "# Removes the block in front of the agent, Add the rest!\n",
    "agent.destroy(\"forward\")\n",
    "\n",
    "\n",
    "\n",
    "# Add your code above"
   ]
  },
  {
   "cell_type": "markdown",
   "metadata": {},
   "source": [
    "## Step 2\n",
    "\n",
    "Now that you have the bottom layer of logs removed from the tree. Let's remove a stack of logs! You can use a `for` loop to repeat the same code over and over again, a set number of times.\n",
    "\n",
    "Here's a reminder of what a `for` loop looks like:\n",
    "```python\n",
    "for count in range(min, max):\n",
    "    # Code to be repeated\n",
    "```\n",
    "\n",
    "- `min`: the starting index for the range, usually this is 0.\n",
    "- `max`: the final index for the range.\n",
    "\n",
    "*Note*: Let's say your for loop would have the min of 0, and the max of 3. You could say that the code would loop 3 times, going from 0, to 1, to 2, then ending at 3 but not running again.\n",
    "\n",
    "**Complete the `for` loop below to run `12` times and say the variable `count` each loop!**"
   ]
  },
  {
   "cell_type": "code",
   "execution_count": null,
   "metadata": {
    "minecraft": {
     "closeCodeBuilderOnRun": true,
     "onCodeCancelledCommand": "scoreboard players set @s codeExecution 0",
     "onCodeErrorCommand": "scoreboard players set @s codeExecution -1",
     "onCodeStartedCommand": "scoreboard players set @s codeExecution 1",
     "onCodeStoppedCommand": "scoreboard players set @s codeExecution 0",
     "onCodeSuccessfulCommand": "scoreboard players set @s codeExecution 2",
     "overridePython": "",
     "readonly": false
    }
   },
   "outputs": [],
   "source": [
    "for count in range(   ,   ):\n",
    "    say()\n",
    "#Add your code above"
   ]
  },
  {
   "cell_type": "markdown",
   "metadata": {
    "minecraft": {
     "closeCodeBuilderOnRun": true,
     "onCodeCancelledCommand": "scoreboard players set @s codeExecution 0",
     "onCodeErrorCommand": "scoreboard players set @s codeExecution -1",
     "onCodeStartedCommand": "scoreboard players set @s codeExecution 1",
     "onCodeStoppedCommand": "scoreboard players set @s codeExecution 0",
     "onCodeSuccessfulCommand": "scoreboard players set @s codeExecution 2",
     "overridePython": "",
     "readonly": false
    }
   },
   "source": [
    "When you're ready, press next to go to the next section."
   ]
  }
 ],
 "metadata": {
  "kernelspec": {
   "display_name": "Python 3",
   "language": "python",
   "name": "python3"
  },
  "language_info": {
   "codemirror_mode": {
    "name": "ipython",
    "version": 3
   },
   "file_extension": ".py",
   "mimetype": "text/x-python",
   "name": "python",
   "nbconvert_exporter": "python",
   "pygments_lexer": "ipython3",
   "version": "3.7.3"
  },
  "minecraft": {
   "description": "Section 1",
   "page_id": "1.1",
   "page_name": "Section 1",
   "style": "minecraft.css"
  }
 },
 "nbformat": 4,
 "nbformat_minor": 4
}
