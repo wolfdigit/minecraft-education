{
 "cells": [
  {
   "cell_type": "markdown",
   "metadata": {},
   "source": [
    "# 砍倒樹木\n",
    "\n",
    "幫助樹木專家砍倒正在腐爛的樹！ 因為你的agent可以飛上飛下，樹木專家請你幫忙移除一些樹幹。 \n",
    "\n",
    "不過別擔心，支撐和鷹架已經架好了可以固定住上面的部分，所以你在做事的時候上面不會垮下來。\n",
    "\n",
    "![Cover image of tree](cover.png)\n"
   ]
  },
  {
   "cell_type": "markdown",
   "metadata": {},
   "source": [
    "## 步驟 1\n",
    "\n",
    "一開始，我們要移除樹木的基部。這很簡單，就是用你的agent移除最下面的4格，你會用到`agent.destroy`來移除、還有`agent.move`來移動到下一個要移除的方塊！\n",
    "\n",
    "**使用`agent.destroy`和`agent.move`移除樹木最底下的4格原木！**"
   ]
  },
  {
   "cell_type": "code",
   "execution_count": null,
   "metadata": {
    "minecraft": {
     "closeCodeBuilderOnRun": true,
     "onCodeCancelledCommand": "scoreboard players set @s codeExecution 0",
     "onCodeErrorCommand": "scoreboard players set @s codeExecution -1",
     "onCodeStartedCommand": "scoreboard players set @s codeExecution 1",
     "onCodeStoppedCommand": "scoreboard players set @s codeExecution 0",
     "onCodeSuccessfulCommand": "scoreboard players set @s codeExecution 2",
     "overridePython": "",
     "readonly": false
    }
   },
   "outputs": [],
   "source": [
    "# 移除agent前面的方塊，還有增加其他程式！\n",
    "agent.destroy(\"forward\")\n",
    "\n",
    "\n",
    "\n",
    "# 在上面加入你的程式碼"
   ]
  },
  {
   "cell_type": "markdown",
   "metadata": {},
   "source": [
    "## 步驟 2\n",
    "\n",
    "你已經移除樹木底層的原木了，再來要移除一整疊的原木！ 你可以用一個`for`迴圈來重複執行相同的程式碼一遍又一遍，用一個固定的重複次數。\n",
    "\n",
    "提醒一下，這是`for`迴圈的語法：\n",
    "```python\n",
    "for count in range(最小值, 最大值):\n",
    "    # 要重複執行的程式碼\n",
    "```\n",
    "\n",
    "- `最小值`: 區間開始的值，通常是用0。\n",
    "- `最大值`: 區間結束的值。\n",
    "\n",
    "*附註*: 假設你的for迴圈用最小值0、最大值3，這樣的話你的程式會重複執行3次：分別是0, 1, 和2，最後結束在3但是3不會進去執行。\n",
    "\n",
    "**完成下面的`for`迴圈來執行`12`次，而且在迴圈裡面每次要`say`說出`count`的值！**"
   ]
  },
  {
   "cell_type": "code",
   "execution_count": null,
   "metadata": {
    "minecraft": {
     "closeCodeBuilderOnRun": true,
     "onCodeCancelledCommand": "scoreboard players set @s codeExecution 0",
     "onCodeErrorCommand": "scoreboard players set @s codeExecution -1",
     "onCodeStartedCommand": "scoreboard players set @s codeExecution 1",
     "onCodeStoppedCommand": "scoreboard players set @s codeExecution 0",
     "onCodeSuccessfulCommand": "scoreboard players set @s codeExecution 2",
     "overridePython": "",
     "readonly": false
    }
   },
   "outputs": [],
   "source": [
    "for count in range(   ,   ):\n",
    "    say()\n",
    "# 在上面加入你的程式碼"
   ]
  },
  {
   "cell_type": "markdown",
   "metadata": {
    "minecraft": {
     "closeCodeBuilderOnRun": true,
     "onCodeCancelledCommand": "scoreboard players set @s codeExecution 0",
     "onCodeErrorCommand": "scoreboard players set @s codeExecution -1",
     "onCodeStartedCommand": "scoreboard players set @s codeExecution 1",
     "onCodeStoppedCommand": "scoreboard players set @s codeExecution 0",
     "onCodeSuccessfulCommand": "scoreboard players set @s codeExecution 2",
     "overridePython": "",
     "readonly": false
    }
   },
   "source": [
    "完成之後，按下一步按鈕進到下一節。"
   ]
  }
 ],
 "metadata": {
  "kernelspec": {
   "display_name": "Python 3",
   "language": "python",
   "name": "python3"
  },
  "language_info": {
   "codemirror_mode": {
    "name": "ipython",
    "version": 3
   },
   "file_extension": ".py",
   "mimetype": "text/x-python",
   "name": "python",
   "nbconvert_exporter": "python",
   "pygments_lexer": "ipython3",
   "version": "3.7.3"
  },
  "minecraft": {
   "description": "第1節",
   "page_id": "1.1",
   "page_name": "第1節",
   "style": "minecraft.css"
  }
 },
 "nbformat": 4,
 "nbformat_minor": 4
}
