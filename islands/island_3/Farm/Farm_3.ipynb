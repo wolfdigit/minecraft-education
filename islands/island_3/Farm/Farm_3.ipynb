{
 "cells": [
  {
   "cell_type": "markdown",
   "metadata": {},
   "source": [
    "## 步驟 5\n",
    "\n",
    "完成if敘述之後，我們要來做`elif`敘述！\n",
    "\n",
    "**完成下面的`elif`敘述，讓它檢查方塊名稱是不是等於`\"air\"`。如果是的話，複製/重複使用和你第一個if敘述一樣的`agent.place`。**"
   ]
  },
  {
   "cell_type": "code",
   "execution_count": null,
   "metadata": {
    "minecraft": {
     "closeCodeBuilderOnRun": true,
     "onCodeCancelledCommand": "scoreboard players set @s codeExecution 0",
     "onCodeErrorCommand": "scoreboard players set @s codeExecution -1",
     "onCodeStartedCommand": "scoreboard players set @s codeExecution 1",
     "onCodeStoppedCommand": "scoreboard players set @s codeExecution 0",
     "onCodeSuccessfulCommand": "scoreboard players set @s codeExecution 2",
     "overridePython": "",
     "readonly": false
    }
   },
   "outputs": [],
   "source": [
    "block = agent.inspect(\"down\")\n",
    "if(block == \"wheat\"):\n",
    "    agent.destroy(\"down\")\n",
    "    agent.place(\"down\",1)\n",
    "    say(\"Wheat!\")\n",
    "elif(       ):\n",
    "    # Finish the elif above then add the agent.place below\n",
    "    \n",
    "    say(\"Air!\")"
   ]
  },
  {
   "cell_type": "markdown",
   "metadata": {
    "minecraft": {
     "closeCodeBuilderOnRun": true,
     "onCodeCancelledCommand": "scoreboard players set @s codeExecution 0",
     "onCodeErrorCommand": "scoreboard players set @s codeExecution -1",
     "onCodeStartedCommand": "scoreboard players set @s codeExecution 1",
     "onCodeStoppedCommand": "scoreboard players set @s codeExecution 0",
     "onCodeSuccessfulCommand": "scoreboard players set @s codeExecution 2",
     "overridePython": "",
     "readonly": false
    }
   },
   "source": [
    "## 步驟 6\n",
    "\n",
    "很好! 現在把它們整合在一起。我們來加入for迴圈讓這些程式碼重複執行\n",
    "\n",
    "**完成下面for迴圈來執行區間`0`到`8`。**"
   ]
  },
  {
   "cell_type": "code",
   "execution_count": null,
   "metadata": {
    "default_code": "for   in range(   ,   ):\n    # Complete the for loop above!\n    agent.move(\"forward\")\n    block = agent.inspect(\"down\")\n    if(block == \"wheat\"):\n        agent.destroy(\"down\")\n        agent.place(\"down\",1)\n        say(\"Wheat!\")\n    elif(block == \"air\"):\n        agent.place(\"down\",1)\n        say(\"Air!\")",
    "minecraft": {
     "closeCodeBuilderOnRun": true,
     "onCodeCancelledCommand": "scoreboard players set @s codeExecution 0",
     "onCodeErrorCommand": "scoreboard players set @s codeExecution -1",
     "onCodeStartedCommand": "scoreboard players set @s codeExecution 1",
     "onCodeStoppedCommand": "scoreboard players set @s codeExecution 0",
     "onCodeSuccessfulCommand": "scoreboard players set @s codeExecution 2",
     "overridePython": "",
     "readonly": false
    }
   },
   "outputs": [],
   "source": [
    "for   in range(   ,   ):\n",
    "    # Complete the for loop above!\n",
    "    agent.move(\"forward\")\n",
    "    block = agent.inspect(\"down\")\n",
    "    if(block == \"wheat\"):\n",
    "        agent.destroy(\"down\")\n",
    "        agent.place(\"down\",1)\n",
    "        say(\"Wheat!\")\n",
    "    elif(block == \"air\"):\n",
    "        agent.place(\"down\",1)\n",
    "        say(\"Air!\")"
   ]
  },
  {
   "cell_type": "markdown",
   "metadata": {
    "minecraft": {
     "closeCodeBuilderOnRun": true,
     "onCodeCancelledCommand": "scoreboard players set @s codeExecution 0",
     "onCodeErrorCommand": "scoreboard players set @s codeExecution -1",
     "onCodeStartedCommand": "scoreboard players set @s codeExecution 1",
     "onCodeStoppedCommand": "scoreboard players set @s codeExecution 0",
     "onCodeSuccessfulCommand": "scoreboard players set @s codeExecution 2",
     "overridePython": "",
     "readonly": false
    }
   },
   "source": [
    "你的程式碼都準備好了，現在就執行它，然後 **用哨子把你的agent叫回來到鑽石方塊上** 祝你耕作愉快！"
   ]
  }
 ],
 "metadata": {
  "kernelspec": {
   "display_name": "Python 3",
   "language": "python",
   "name": "python3"
  },
  "language_info": {
   "codemirror_mode": {
    "name": "ipython",
    "version": 3
   },
   "file_extension": ".py",
   "mimetype": "text/x-python",
   "name": "python",
   "nbconvert_exporter": "python",
   "pygments_lexer": "ipython3",
   "version": "3.8.3rc1"
  },
  "minecraft": {
   "description": "第3節",
   "page_id": "1.3",
   "page_name": "第3節",
   "style": "minecraft.css"
  }
 },
 "nbformat": 4,
 "nbformat_minor": 4
}
