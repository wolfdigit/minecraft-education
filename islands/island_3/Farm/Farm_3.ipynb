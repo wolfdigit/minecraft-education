{
 "cells": [
  {
   "cell_type": "markdown",
   "metadata": {},
   "source": [
    "## Step 5\n",
    "\n",
    "With the if statement finished, let's make the `elif` statement!\n",
    "\n",
    "**Complete the `elif` statement below and make it check if the block name is equal to `\"air\"`. If it is, copy/reuse the same `agent.place` from your first if statement.**"
   ]
  },
  {
   "cell_type": "code",
   "execution_count": null,
   "metadata": {
    "minecraft": {
     "closeCodeBuilderOnRun": true,
     "onCodeCancelledCommand": "scoreboard players set @s codeExecution 0",
     "onCodeErrorCommand": "scoreboard players set @s codeExecution -1",
     "onCodeStartedCommand": "scoreboard players set @s codeExecution 1",
     "onCodeStoppedCommand": "scoreboard players set @s codeExecution 0",
     "onCodeSuccessfulCommand": "scoreboard players set @s codeExecution 2",
     "overridePython": "",
     "readonly": false
    }
   },
   "outputs": [],
   "source": [
    "block = agent.inspect(\"down\")\n",
    "if(block == \"wheat\"):\n",
    "    agent.destroy(\"down\")\n",
    "    agent.place(\"down\",1)\n",
    "    say(\"Wheat!\")\n",
    "elif(       ):\n",
    "    # Finish the elif above then add the agent.place below\n",
    "    \n",
    "    say(\"Air!\")"
   ]
  },
  {
   "cell_type": "markdown",
   "metadata": {
    "minecraft": {
     "closeCodeBuilderOnRun": true,
     "onCodeCancelledCommand": "scoreboard players set @s codeExecution 0",
     "onCodeErrorCommand": "scoreboard players set @s codeExecution -1",
     "onCodeStartedCommand": "scoreboard players set @s codeExecution 1",
     "onCodeStoppedCommand": "scoreboard players set @s codeExecution 0",
     "onCodeSuccessfulCommand": "scoreboard players set @s codeExecution 2",
     "overridePython": "",
     "readonly": false
    }
   },
   "source": [
    "## Step 6\n",
    "\n",
    "Great! Now with all that together, let's add our for loop to repeat it all, more than once.\n",
    "\n",
    "**Complete the for loop below to run in the range of `0` to `8`.**"
   ]
  },
  {
   "cell_type": "code",
   "execution_count": null,
   "metadata": {
    "default_code": "for   in range(   ,   ):\n    # Complete the for loop above!\n    agent.move(\"forward\")\n    block = agent.inspect(\"down\")\n    if(block == \"wheat\"):\n        agent.destroy(\"down\")\n        agent.place(\"down\",1)\n        say(\"Wheat!\")\n    elif(block == \"air\"):\n        agent.place(\"down\",1)\n        say(\"Air!\")",
    "minecraft": {
     "closeCodeBuilderOnRun": true,
     "onCodeCancelledCommand": "scoreboard players set @s codeExecution 0",
     "onCodeErrorCommand": "scoreboard players set @s codeExecution -1",
     "onCodeStartedCommand": "scoreboard players set @s codeExecution 1",
     "onCodeStoppedCommand": "scoreboard players set @s codeExecution 0",
     "onCodeSuccessfulCommand": "scoreboard players set @s codeExecution 2",
     "overridePython": "",
     "readonly": false
    }
   },
   "outputs": [],
   "source": [
    "for   in range(   ,   ):\n",
    "    # Complete the for loop above!\n",
    "    agent.move(\"forward\")\n",
    "    block = agent.inspect(\"down\")\n",
    "    if(block == \"wheat\"):\n",
    "        agent.destroy(\"down\")\n",
    "        agent.place(\"down\",1)\n",
    "        say(\"Wheat!\")\n",
    "    elif(block == \"air\"):\n",
    "        agent.place(\"down\",1)\n",
    "        say(\"Air!\")"
   ]
  },
  {
   "cell_type": "markdown",
   "metadata": {
    "minecraft": {
     "closeCodeBuilderOnRun": true,
     "onCodeCancelledCommand": "scoreboard players set @s codeExecution 0",
     "onCodeErrorCommand": "scoreboard players set @s codeExecution -1",
     "onCodeStartedCommand": "scoreboard players set @s codeExecution 1",
     "onCodeStoppedCommand": "scoreboard players set @s codeExecution 0",
     "onCodeSuccessfulCommand": "scoreboard players set @s codeExecution 2",
     "overridePython": "",
     "readonly": false
    }
   },
   "source": [
    "Now with all your code together, run it and **call your agent back to the diamond blocks using your whistle**. Happy farming!"
   ]
  }
 ],
 "metadata": {
  "kernelspec": {
   "display_name": "Python 3",
   "language": "python",
   "name": "python3"
  },
  "language_info": {
   "codemirror_mode": {
    "name": "ipython",
    "version": 3
   },
   "file_extension": ".py",
   "mimetype": "text/x-python",
   "name": "python",
   "nbconvert_exporter": "python",
   "pygments_lexer": "ipython3",
   "version": "3.8.3rc1"
  },
  "minecraft": {
   "description": "Section 3",
   "page_id": "1.3",
   "page_name": "Section 3",
   "style": "minecraft.css"
  }
 },
 "nbformat": 4,
 "nbformat_minor": 4
}
