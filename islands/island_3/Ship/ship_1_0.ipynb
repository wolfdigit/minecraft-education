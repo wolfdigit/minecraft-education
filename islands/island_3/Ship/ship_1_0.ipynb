{
 "cells": [
  {
   "cell_type": "markdown",
   "metadata": {},
   "source": [
    "# 認識for迴圈\n",
    "在這次任務裡，你會練習如何使用For迴圈。   "
   ]
  },
  {
   "cell_type": "markdown",
   "metadata": {},
   "source": [
    "## 開始認識迴圈\n",
    "在Python裡，如果你要重複執行某些東西好幾次(但是不要一直複製貼上一堆相同的程式碼)，你可以用所謂的「迴圈」   \n",
    "Python的迴圈有分成兩大類：\n",
    "- **For迴圈** - 如果你知道要重複執行幾次的時候使用。\n",
    "- **While迴圈** - 如果你不確定需要執行幾次的時候使用。\n",
    "\n",
    "在這個世界裡我們先把重點放在**For迴圈**。   \n",
    "\n",
    "創建**for迴圈**的語法類似這樣：\n",
    "```python\n",
    "for count in range(0, 5):\n",
    "    say(\"Hello\")\n",
    "```\n",
    "上面這段程式碼會重複執行`say(\"Hello\")`5次。\n",
    "\n",
    "**在下面寫一段簡單的程式，輸出(使用 say())一個訊息 8 次。**"
   ]
  },
  {
   "cell_type": "code",
   "execution_count": null,
   "metadata": {
    "minecraft": {
     "closeCodeBuilderOnRun": true,
     "onCodeCancelledCommand": "scoreboard players set @s codeExecution 0",
     "onCodeErrorCommand": "scoreboard players set @s codeExecution -1",
     "onCodeStartedCommand": "scoreboard players set @s codeExecution 1",
     "onCodeStoppedCommand": "scoreboard players set @s codeExecution 0",
     "onCodeSuccessfulCommand": "scoreboard players set @s codeExecution 2",
     "overridePython": "",
     "readonly": false
    }
   },
   "outputs": [],
   "source": [
    "for count  \n",
    "    say\n"
   ]
  },
  {
   "cell_type": "markdown",
   "metadata": {},
   "source": [
    "## 覆蓋船艙上的開口  \n",
    "![Captain](captain.jpg)   \n",
    "**Pappert船長** - *我們快要停靠碼頭了，但是現在，你可以幫我把船艙上的開口蓋起來嗎？就是下面主甲板的那些開口。     \n",
    "我有給你的Agent一些**地毯**了(放在第1格)。你可以用**for迴圈**來放置地毯到開口上嗎？  \n",
    "你蓋滿一列之後，可以用**哨子** (或者寫程式`agent.move()`) 把你的agent移過來，然後再跑一次你的程式。*   \n",
    "\n",
    "`agent.place()`的用法參考下面這樣：\n",
    "```python\n",
    "agent.place(方向, 欄位編號)\n",
    "```\n",
    "\n",
    "- `欄位編號`: 要放置的物品在物品欄裡的位置。在這個任務裡你都用1就好。\n",
    "- `方向`: 我們希望agent放置物品的方向。可以用的方向有`forward`(前), `back`(後), `left`(左), `right`(右), `up`(上), `down`(下)。以現在這個任務你應該會想到用`down`。   \n",
    "\n",
    "![Deck](deck.jpg)\n",
    "\n",
    "**用地毯蓋滿整個甲板。地毯已經放在你的agent的物品欄第1格了。**"
   ]
  },
  {
   "cell_type": "code",
   "execution_count": null,
   "metadata": {
    "minecraft": {
     "closeCodeBuilderOnRun": true,
     "onCodeCancelledCommand": "scoreboard players set @s codeExecution 0",
     "onCodeErrorCommand": "scoreboard players set @s codeExecution -1",
     "onCodeStartedCommand": "scoreboard players set @s codeExecution 1",
     "onCodeStoppedCommand": "scoreboard players set @s codeExecution 0",
     "onCodeSuccessfulCommand": "scoreboard players set @s codeExecution 2",
     "overridePython": "",
     "readonly": false
    }
   },
   "outputs": [],
   "source": [
    "for count in range( , ):     \n",
    "    agent.\n",
    "    agent."
   ]
  },
  {
   "cell_type": "markdown",
   "metadata": {},
   "source": [
    "非常好！把船艙開口都蓋好之後，按下一步箭頭進到下一節。"
   ]
  }
 ],
 "metadata": {
  "kernelspec": {
   "display_name": "Python 3",
   "language": "python",
   "name": "python3"
  },
  "language_info": {
   "codemirror_mode": {
    "name": "ipython",
    "version": 3
   },
   "file_extension": ".py",
   "mimetype": "text/x-python",
   "name": "python",
   "nbconvert_exporter": "python",
   "pygments_lexer": "ipython3",
   "version": "3.7.3"
  },
  "minecraft": {
   "description": "第1節",
   "page_id": "1.0",
   "page_name": "第1節",
   "style": "minecraft.css"
  }
 },
 "nbformat": 4,
 "nbformat_minor": 4
}
