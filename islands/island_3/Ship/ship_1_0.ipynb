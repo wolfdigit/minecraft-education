{
 "cells": [
  {
   "cell_type": "markdown",
   "metadata": {},
   "source": [
    "# Introduction to For Loops\n",
    "In this activity, you will be getting hands-on with For Loops.   "
   ]
  },
  {
   "cell_type": "markdown",
   "metadata": {},
   "source": [
    "## Getting started with Loops\n",
    "In Python, if you want to run something multiple times (without copying and pasting code lots of times), you use what is called a loop.   \n",
    "There are 2 main types of loops in Python:\n",
    "- **For loop** - Use this if you know how many times you want to loop for.\n",
    "- **While loop** - Use this if you don't know how many times you are going to want to loop for.\n",
    "\n",
    "We will be focusing on the **For loop** in this world.   \n",
    "\n",
    "A **for loop** is created using the following syntax:\n",
    "```python\n",
    "for count in range(0, 5):\n",
    "    say(\"Hello\")\n",
    "```\n",
    "The above code will run the `say(\"hello\")` command 5 times.\n",
    "\n",
    "** Create a simple program below that outputs (via say() ) a message 8 times.**"
   ]
  },
  {
   "cell_type": "code",
   "execution_count": null,
   "metadata": {
    "minecraft": {
     "closeCodeBuilderOnRun": true,
     "onCodeCancelledCommand": "scoreboard players set @s codeExecution 0",
     "onCodeErrorCommand": "scoreboard players set @s codeExecution -1",
     "onCodeStartedCommand": "scoreboard players set @s codeExecution 1",
     "onCodeStoppedCommand": "scoreboard players set @s codeExecution 0",
     "onCodeSuccessfulCommand": "scoreboard players set @s codeExecution 2",
     "overridePython": "",
     "readonly": false
    }
   },
   "outputs": [],
   "source": [
    "for count  \n",
    "    say\n"
   ]
  },
  {
   "cell_type": "markdown",
   "metadata": {},
   "source": [
    "## Covering the hatches  \n",
    "![Captain](captain.jpg)   \n",
    "**Captain Pappert** - *We are just coming into dock now, but first, you wouldn't mind helping me cover over the hatches? They are down on the main deck of the ship.     \n",
    "I have given your Agent some **carpet** (in slot 1). Can you use a **for loop** to place the carpet over the hatches?  \n",
    "Once you have completed a row, use your **whistle** (or `agent.move()`) to move your agent along, then run your code again.*   \n",
    "\n",
    "To use `agent.place()`, see below:\n",
    "```python\n",
    "agent.place(direction, slot_id)\n",
    "```\n",
    "\n",
    "- `slot_id`: The slot number to get the item to place from. In this case, you should always use 1.\n",
    "- `direction`: The direction we want to have the agent place to place an item. The directions you can use are: `forward`, `back`, `left`, `right`, `up`, `down`. You will probably want to use `down` this time.   \n",
    "\n",
    "![Deck](deck.jpg)\n",
    "\n",
    "**Cover over the deck, with the carpet that has been given to your agent in slot 1.**"
   ]
  },
  {
   "cell_type": "code",
   "execution_count": null,
   "metadata": {
    "minecraft": {
     "closeCodeBuilderOnRun": true,
     "onCodeCancelledCommand": "scoreboard players set @s codeExecution 0",
     "onCodeErrorCommand": "scoreboard players set @s codeExecution -1",
     "onCodeStartedCommand": "scoreboard players set @s codeExecution 1",
     "onCodeStoppedCommand": "scoreboard players set @s codeExecution 0",
     "onCodeSuccessfulCommand": "scoreboard players set @s codeExecution 2",
     "overridePython": "",
     "readonly": false
    }
   },
   "outputs": [],
   "source": [
    "for count in range( , ):     \n",
    "    agent.\n",
    "    agent."
   ]
  },
  {
   "cell_type": "markdown",
   "metadata": {},
   "source": [
    "Great! When the hatches are covered, click next to go to the next section."
   ]
  }
 ],
 "metadata": {
  "kernelspec": {
   "display_name": "Python 3",
   "language": "python",
   "name": "python3"
  },
  "language_info": {
   "codemirror_mode": {
    "name": "ipython",
    "version": 3
   },
   "file_extension": ".py",
   "mimetype": "text/x-python",
   "name": "python",
   "nbconvert_exporter": "python",
   "pygments_lexer": "ipython3",
   "version": "3.7.3"
  },
  "minecraft": {
   "description": "Section 1",
   "page_id": "1.0",
   "page_name": "Section 1",
   "style": "minecraft.css"
  }
 },
 "nbformat": 4,
 "nbformat_minor": 4
}
