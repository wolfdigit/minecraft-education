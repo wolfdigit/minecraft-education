{
 "cells": [
  {
   "cell_type": "markdown",
   "metadata": {},
   "source": [
    "## 提醒\n",
    "前一節的任務要先完成才能繼續進行！"
   ]
  },
  {
   "cell_type": "markdown",
   "metadata": {},
   "source": [
    "## 建造下船步橋\n",
    "\n",
    "![Gangplank location](gangplank.jpg)\n",
    "\n",
    "現在船艙開口覆蓋好之後，船長把船停到盡量靠近碼頭了。   \n",
    "你還需要搭建一座步橋才能下船。你的agent有得到一些木材放在它的物品欄第1格。   \n",
    "\n",
    "**寫一支for迴圈程式來建造步橋延伸到碼頭那邊，你會需要猜看看距離島嶼還有多遠！**"
   ]
  },
  {
   "cell_type": "code",
   "execution_count": null,
   "metadata": {
    "default_code": "for \n    agent.\n    agent.\n       ",
    "minecraft": {
     "closeCodeBuilderOnRun": true,
     "onCodeCancelledCommand": "scoreboard players set @s codeExecution 0",
     "onCodeErrorCommand": "scoreboard players set @s codeExecution -1",
     "onCodeStartedCommand": "scoreboard players set @s codeExecution 1",
     "onCodeStoppedCommand": "scoreboard players set @s codeExecution 0",
     "onCodeSuccessfulCommand": "scoreboard players set @s codeExecution 2",
     "overridePython": "",
     "readonly": false
    }
   },
   "outputs": [],
   "source": [
    "for \n",
    "    agent.\n",
    "    agent."
   ]
  },
  {
   "cell_type": "markdown",
   "metadata": {},
   "source": [
    "完成之後就可以關掉程式碼生成器，上島去探索這個城鎮吧。"
   ]
  }
 ],
 "metadata": {
  "kernelspec": {
   "display_name": "Python 3",
   "language": "python",
   "name": "python3"
  },
  "language_info": {
   "codemirror_mode": {
    "name": "ipython",
    "version": 3
   },
   "file_extension": ".py",
   "mimetype": "text/x-python",
   "name": "python",
   "nbconvert_exporter": "python",
   "pygments_lexer": "ipython3",
   "version": "3.8.3rc1"
  },
  "minecraft": {
   "description": "第2節",
   "page_id": "1.1",
   "page_name": "第2節",
   "style": "minecraft.css"
  }
 },
 "nbformat": 4,
 "nbformat_minor": 4
}
