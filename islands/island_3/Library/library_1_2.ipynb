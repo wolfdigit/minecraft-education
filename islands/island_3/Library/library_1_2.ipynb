{
 "cells": [
  {
   "cell_type": "markdown",
   "metadata": {},
   "source": [
    "## 標記書架\n",
    "一旦你找到書之後，你要標記那個書架好讓圖書館員幫你拿到書。 \n",
    "圖書館員在agnet增加了另一個功能：`mark_book(方向)`，當agent找到書之後要對那個書架執行這個指令。   "
   ]
  },
  {
   "cell_type": "code",
   "execution_count": null,
   "metadata": {
    "default_code": "for count in     \n    if\n    \n    else\n    \n    ",
    "minecraft": {
     "closeCodeBuilderOnRun": true,
     "onCodeCancelledCommand": "scoreboard players set @s codeExecution 0",
     "onCodeErrorCommand": "scoreboard players set @s codeExecution -1",
     "onCodeStartedCommand": "scoreboard players set @s codeExecution 1",
     "onCodeStoppedCommand": "scoreboard players set @s codeExecution 0",
     "onCodeSuccessfulCommand": "scoreboard players set @s codeExecution 2",
     "overridePython": "def found_book(direction):\n    inspect = agent.inspect(direction)\n    block = str(inspect.id)\n    if \"coral_block\" in block:\n        return True\n    else:\n        return False\n\ndef mark_book(direction):\n    if direction == \"forward\":\n        agent.place(\"back\", 1)\n    else:\n        say(\"要在書架面向前方才可以標記！\")\n\n@user-code",
     "readonly": false
    },
    "tags": []
   },
   "outputs": [],
   "source": [
    "for count in range( , ):    \n",
    "    if found_      ==      :\n",
    "        say(\"找到書了！\")\n",
    "        \n",
    "    else:\n",
    "        say(\"在這個書架沒找到魔法書\")\n",
    "    agent.move(\"up\")\n",
    "\n",
    "# 完成for迴圈、if判斷、還有標記正確的書架"
   ]
  },
  {
   "cell_type": "markdown",
   "metadata": {},
   "source": [
    "## 拿到那本書\n",
    "當你標記好書架之後，走回去找圖書館員，請他幫你拿出那本書。 請小心確認那是對的書架，因為圖書館員很忙的。"
   ]
  }
 ],
 "metadata": {
  "kernelspec": {
   "display_name": "Python 3 (ipykernel)",
   "language": "python",
   "name": "python3"
  },
  "language_info": {
   "codemirror_mode": {
    "name": "ipython",
    "version": 3
   },
   "file_extension": ".py",
   "mimetype": "text/x-python",
   "name": "python",
   "nbconvert_exporter": "python",
   "pygments_lexer": "ipython3",
   "version": "3.9.7"
  },
  "minecraft": {
   "description": "第2節",
   "page_id": "1.2",
   "page_name": "第2節",
   "style": "minecraft.css"
  }
 },
 "nbformat": 4,
 "nbformat_minor": 4
}
