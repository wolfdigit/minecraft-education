{
 "cells": [
  {
   "cell_type": "markdown",
   "metadata": {},
   "source": [
    "## Marking the shelf\n",
    "Once you have found the book, you need to mark that shelf so the librarian can get you the book. \n",
    "The librarian has added another function to the agent, `mark_book(DIRECTION)`, which should be run on the shelf your agent has found the book on.   "
   ]
  },
  {
   "cell_type": "code",
   "execution_count": null,
   "metadata": {
    "default_code": "for count in     \n    if\n    \n    else\n    \n    ",
    "minecraft": {
     "closeCodeBuilderOnRun": true,
     "onCodeCancelledCommand": "scoreboard players set @s codeExecution 0",
     "onCodeErrorCommand": "scoreboard players set @s codeExecution -1",
     "onCodeStartedCommand": "scoreboard players set @s codeExecution 1",
     "onCodeStoppedCommand": "scoreboard players set @s codeExecution 0",
     "onCodeSuccessfulCommand": "scoreboard players set @s codeExecution 2",
     "overridePython": "def found_book(direction):\n    inspect = agent.inspect(direction)\n    block = str(inspect.id)\n    if \"coral_block\" in block:\n        return True\n    else:\n        return False\n\ndef mark_book(direction):\n    if direction == \"forward\":\n        agent.place(\"back\", 1)\n    else:\n        say(\"Only able to mark if facing forward at the bookshelf!\")\n\n@user-code",
     "readonly": false
    },
    "tags": []
   },
   "outputs": [],
   "source": [
    "for count in range( , ):    \n",
    "    if found_      ==      :\n",
    "        say(\"Found the book!\")\n",
    "        \n",
    "    else:\n",
    "        say(\"Spell book not found on this shelf\")\n",
    "    agent.move(\"up\")\n",
    "\n",
    "# Complete the for loop, if statement and mark the correct bookshelf with code"
   ]
  },
  {
   "cell_type": "markdown",
   "metadata": {},
   "source": [
    "## Getting the book\n",
    "Once you have marked the shelf, walk back over to the librarian and ask her to get the book for you. Be careful though to make sure it is the correct shelf, as the librarian is very busy."
   ]
  }
 ],
 "metadata": {
  "kernelspec": {
   "display_name": "Python 3 (ipykernel)",
   "language": "python",
   "name": "python3"
  },
  "language_info": {
   "codemirror_mode": {
    "name": "ipython",
    "version": 3
   },
   "file_extension": ".py",
   "mimetype": "text/x-python",
   "name": "python",
   "nbconvert_exporter": "python",
   "pygments_lexer": "ipython3",
   "version": "3.9.7"
  },
  "minecraft": {
   "description": "Section 2",
   "page_id": "1.2",
   "page_name": "Section 2",
   "style": "minecraft.css"
  }
 },
 "nbformat": 4,
 "nbformat_minor": 4
}
