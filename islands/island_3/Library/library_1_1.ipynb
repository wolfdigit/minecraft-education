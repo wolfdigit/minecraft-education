{
 "cells": [
  {
   "cell_type": "markdown",
   "metadata": {},
   "source": [
    "# Spell book finding\n",
    "Locate the spellbook in the library that is needed by the Wizard.   \n",
    "![Bookshelves](shelves.jpg)"
   ]
  },
  {
   "cell_type": "markdown",
   "metadata": {},
   "source": [
    "## Scanning shelves\n",
    "\n",
    "The library has lots of shelves of books. They all look the same... However, will we find the right book?   \n",
    "\n",
    "*\"I can help with that! I have added a special function to your agent called `found_book(DIRECTION)`. It can be used in an **if statement** to confirm if the bookshelf you are checking has the needed book on it. It returns True if the book is found or False if not.\" - Willow - Librarian*\n",
    "\n",
    "**Find your agent and finish off the code below to check the bookshelf in front of it.**    "
   ]
  },
  {
   "cell_type": "code",
   "execution_count": null,
   "metadata": {
    "minecraft": {
     "closeCodeBuilderOnRun": true,
     "hidden": true,
     "onCodeCancelledCommand": "scoreboard players set @s codeExecution 0",
     "onCodeErrorCommand": "scoreboard players set @s codeExecution -1",
     "onCodeStartedCommand": "scoreboard players set @s codeExecution 1",
     "onCodeStoppedCommand": "scoreboard players set @s codeExecution 0",
     "onCodeSuccessfulCommand": "scoreboard players set @s codeExecution 2",
     "overridePython": "",
     "readonly": false
    }
   },
   "outputs": [],
   "source": [
    "def found_book(direction):\n",
    "    if agent.inspect(direction) == \"coral_block\":\n",
    "        return True\n",
    "    else:\n",
    "        return False\n",
    "def mark_book(direction):\n",
    "    if direction == \"forward\":\n",
    "        agent.place(\"back\", 1)\n",
    "    else:\n",
    "        say(\"Only able to mark if facing forward at the bookshelf!\")\n",
    "    \n",
    "@user-code"
   ]
  },
  {
   "cell_type": "code",
   "execution_count": null,
   "metadata": {
    "minecraft": {
     "closeCodeBuilderOnRun": true,
     "onCodeCancelledCommand": "scoreboard players set @s codeExecution 0",
     "onCodeErrorCommand": "scoreboard players set @s codeExecution -1",
     "onCodeStartedCommand": "scoreboard players set @s codeExecution 1",
     "onCodeStoppedCommand": "scoreboard players set @s codeExecution 0",
     "onCodeSuccessfulCommand": "scoreboard players set @s codeExecution 2",
     "overridePython": "def found_book(direction):\n    inspect = agent.inspect(direction)\n    block = str(inspect.id)\n    if \"coral_block\" in block:\n        return True\n    else:\n        return False\n\ndef mark_book(direction):\n    if direction == \"forward\":\n        agent.place(\"back\", 1)\n    else:\n        say(\"Only able to mark if facing forward at the bookshelf!\")\n\n@user-code",
     "readonly": false
    },
    "tags": []
   },
   "outputs": [],
   "source": [
    "if found_book(\"forward\") ==     :\n",
    "    say(\"Found the book!\")\n",
    "else:\n",
    "    say(\"\")\n",
    "\n",
    "# Finish the right hand side of the if statement (to check if it is True) and add a message in the say command above."
   ]
  },
  {
   "cell_type": "markdown",
   "metadata": {},
   "source": [
    "## Scanning an entire column of books\n",
    "So that isn't the right book then... But there are plenty more bookshelves to check. You can use a **for loop** to check multiple bookshelves in 1 go!   \n",
    "\n",
    "Here's a reminder of what a `for` loop looks like:\n",
    "```python\n",
    "for count in range(min, max):\n",
    "    # Code to be repeated\n",
    "```\n",
    "\n",
    "- `min`: the starting index for the range, usually this is 0.\n",
    "- `max`: the final index for the range.\n",
    "\n",
    "**Count the number of bookshelves in the columns, then create a for loop using the code from the previous activity, that will check all the books in that column.**   \n"
   ]
  },
  {
   "cell_type": "code",
   "execution_count": null,
   "metadata": {
    "minecraft": {
     "closeCodeBuilderOnRun": true,
     "onCodeCancelledCommand": "scoreboard players set @s codeExecution 0",
     "onCodeErrorCommand": "scoreboard players set @s codeExecution -1",
     "onCodeStartedCommand": "scoreboard players set @s codeExecution 1",
     "onCodeStoppedCommand": "scoreboard players set @s codeExecution 0",
     "onCodeSuccessfulCommand": "scoreboard players set @s codeExecution 2",
     "overridePython": "def found_book(direction):\n    inspect = agent.inspect(direction)\n    block = str(inspect.id)\n    if \"coral_block\" in block:\n        return True\n    else:\n        return False\n\ndef mark_book(direction):\n    if direction == \"forward\":\n        agent.place(\"back\", 1)\n    else:\n        say(\"Only able to mark if facing forward at the bookshelf!\")\n\n@user-code",
     "readonly": false
    },
    "tags": []
   },
   "outputs": [],
   "source": [
    "for count in range( , ):    \n",
    "    if found_      ==      :\n",
    "        say(\"\")\n",
    "    else:\n",
    "        say(\"\")\n",
    "    agent.move(\"up\")\n",
    "\n",
    "# Complete the for loop, if statement and both say commands with useful messages"
   ]
  }
 ],
 "metadata": {
  "kernelspec": {
   "display_name": "Python 3 (ipykernel)",
   "language": "python",
   "name": "python3"
  },
  "language_info": {
   "codemirror_mode": {
    "name": "ipython",
    "version": 3
   },
   "file_extension": ".py",
   "mimetype": "text/x-python",
   "name": "python",
   "nbconvert_exporter": "python",
   "pygments_lexer": "ipython3",
   "version": "3.9.7"
  },
  "minecraft": {
   "description": "Section 1",
   "page_id": "1.1",
   "page_name": "Section 1",
   "style": "minecraft.css"
  }
 },
 "nbformat": 4,
 "nbformat_minor": 4
}
