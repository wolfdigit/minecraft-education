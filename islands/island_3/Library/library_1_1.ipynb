{
 "cells": [
  {
   "cell_type": "markdown",
   "metadata": {},
   "source": [
    "# 尋找咒語書\n",
    "在圖書館裡找到女巫要的咒語書。   \n",
    "![Bookshelves](shelves.jpg)"
   ]
  },
  {
   "cell_type": "markdown",
   "metadata": {},
   "source": [
    "## 掃描整個書架\n",
    "\n",
    "圖書館的書架上有一大堆書，它們看起來都很像... 不過，我們能找到正確的那本嗎？   \n",
    "\n",
    "*\"我可以幫忙！ 我幫你的agent加了新功能`found_book(方向)`。 這可以放在**if判斷**裡面，用來確認你現在檢查的書架上有沒有你要的書。 這個功能在有找到書的時候會回傳`True`，沒有的話會回傳`False`。\" - 圖書館員Willow*\n",
    "\n",
    "**去找你的agent，然後完成下面這段程式來檢查它前面的書架。**    "
   ]
  },
  {
   "cell_type": "code",
   "execution_count": null,
   "metadata": {
    "minecraft": {
     "closeCodeBuilderOnRun": true,
     "hidden": true,
     "onCodeCancelledCommand": "scoreboard players set @s codeExecution 0",
     "onCodeErrorCommand": "scoreboard players set @s codeExecution -1",
     "onCodeStartedCommand": "scoreboard players set @s codeExecution 1",
     "onCodeStoppedCommand": "scoreboard players set @s codeExecution 0",
     "onCodeSuccessfulCommand": "scoreboard players set @s codeExecution 2",
     "overridePython": "",
     "readonly": false
    }
   },
   "outputs": [],
   "source": [
    "def found_book(direction):\n",
    "    if agent.inspect(direction) == \"coral_block\":\n",
    "        return True\n",
    "    else:\n",
    "        return False\n",
    "def mark_book(direction):\n",
    "    if direction == \"forward\":\n",
    "        agent.place(\"back\", 1)\n",
    "    else:\n",
    "        say(\"要在書架面向前方才可以標記！\")\n",
    "    \n",
    "@user-code"
   ]
  },
  {
   "cell_type": "code",
   "execution_count": null,
   "metadata": {
    "minecraft": {
     "closeCodeBuilderOnRun": true,
     "onCodeCancelledCommand": "scoreboard players set @s codeExecution 0",
     "onCodeErrorCommand": "scoreboard players set @s codeExecution -1",
     "onCodeStartedCommand": "scoreboard players set @s codeExecution 1",
     "onCodeStoppedCommand": "scoreboard players set @s codeExecution 0",
     "onCodeSuccessfulCommand": "scoreboard players set @s codeExecution 2",
     "overridePython": "def found_book(direction):\n    inspect = agent.inspect(direction)\n    block = str(inspect.id)\n    if \"coral_block\" in block:\n        return True\n    else:\n        return False\n\ndef mark_book(direction):\n    if direction == \"forward\":\n        agent.place(\"back\", 1)\n    else:\n        say(\"要在書架面向前方才可以標記！\")\n\n@user-code",
     "readonly": false
    },
    "tags": []
   },
   "outputs": [],
   "source": [
    "if found_book(\"forward\") ==     :\n",
    "    say(\"找到書了！\")\n",
    "else:\n",
    "    say(\"\")\n",
    "\n",
    "# 上面這段程式要 填寫if敘述的右半邊 (檢查是不是True) ， 還有在say裡面加上一些訊息。"
   ]
  },
  {
   "cell_type": "markdown",
   "metadata": {},
   "source": [
    "## 掃描一整櫃書\n",
    "所以那本不是我們要找的書... 但是這裡還有很多書架要找。 你可以用**for迴圈**來一次檢查好幾個書架！   \n",
    "\n",
    "提醒你`for`迴圈的寫法長這樣：\n",
    "```python\n",
    "for count in range(最小值, 最大值):\n",
    "    # 要重複執行的程式碼\n",
    "```\n",
    "\n",
    "- `最小值`: 區間開始的值，通常是用0。\n",
    "- `最大值`: 區間結束的值。\n",
    "\n",
    "**先數數看這一整櫃有幾個書架，然後參考前一份程式寫個for迴圈來檢查這一櫃裡面所有的書。**   \n"
   ]
  },
  {
   "cell_type": "code",
   "execution_count": null,
   "metadata": {
    "minecraft": {
     "closeCodeBuilderOnRun": true,
     "onCodeCancelledCommand": "scoreboard players set @s codeExecution 0",
     "onCodeErrorCommand": "scoreboard players set @s codeExecution -1",
     "onCodeStartedCommand": "scoreboard players set @s codeExecution 1",
     "onCodeStoppedCommand": "scoreboard players set @s codeExecution 0",
     "onCodeSuccessfulCommand": "scoreboard players set @s codeExecution 2",
     "overridePython": "def found_book(direction):\n    inspect = agent.inspect(direction)\n    block = str(inspect.id)\n    if \"coral_block\" in block:\n        return True\n    else:\n        return False\n\ndef mark_book(direction):\n    if direction == \"forward\":\n        agent.place(\"back\", 1)\n    else:\n        say(\"要在書架面向前方才可以標記！\")\n\n@user-code",
     "readonly": false
    },
    "tags": []
   },
   "outputs": [],
   "source": [
    "for count in range( , ):    \n",
    "    if found_      ==      :\n",
    "        say(\"\")\n",
    "    else:\n",
    "        say(\"\")\n",
    "    agent.move(\"up\")\n",
    "\n",
    "# 完成for迴圈、if判斷、還有兩個say指令填入有意義的訊息"
   ]
  }
 ],
 "metadata": {
  "kernelspec": {
   "display_name": "Python 3 (ipykernel)",
   "language": "python",
   "name": "python3"
  },
  "language_info": {
   "codemirror_mode": {
    "name": "ipython",
    "version": 3
   },
   "file_extension": ".py",
   "mimetype": "text/x-python",
   "name": "python",
   "nbconvert_exporter": "python",
   "pygments_lexer": "ipython3",
   "version": "3.9.7"
  },
  "minecraft": {
   "description": "第1節",
   "page_id": "1.1",
   "page_name": "第1節",
   "style": "minecraft.css"
  }
 },
 "nbformat": 4,
 "nbformat_minor": 4
}
