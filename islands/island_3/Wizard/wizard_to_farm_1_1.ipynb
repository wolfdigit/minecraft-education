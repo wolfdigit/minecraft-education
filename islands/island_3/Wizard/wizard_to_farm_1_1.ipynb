{
 "cells": [
  {
   "cell_type": "markdown",
   "metadata": {},
   "source": [
    "# Get some wool from the farm\n",
    "\n",
    "![Farm](farm.jpg)\n",
    "Head to the farm and get some wool for the wizard to make the robe for the king. "
   ]
  }
 ],
 "metadata": {
  "kernelspec": {
   "display_name": "Python 3",
   "language": "python",
   "name": "python3"
  },
  "language_info": {
   "codemirror_mode": {
    "name": "ipython",
    "version": 3
   },
   "file_extension": ".py",
   "mimetype": "text/x-python",
   "name": "python",
   "nbconvert_exporter": "python",
   "pygments_lexer": "ipython3",
   "version": "3.7.3"
  },
  "minecraft": {
   "description": "Section 1",
   "page_id": "1.1",
   "page_name": "Section 1",
   "style": "minecraft.css"
  }
 },
 "nbformat": 4,
 "nbformat_minor": 4
}
