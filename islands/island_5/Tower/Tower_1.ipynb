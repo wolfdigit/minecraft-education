{
 "cells": [
  {
   "cell_type": "code",
   "execution_count": null,
   "metadata": {
    "minecraft": {
     "closeCodeBuilderOnRun": true,
     "hidden": true,
     "onCodeCancelledCommand": "scoreboard players set @s codeExecution 0",
     "onCodeErrorCommand": "scoreboard players set @s codeExecution -1",
     "onCodeStartedCommand": "scoreboard players set @s codeExecution 1",
     "onCodeStoppedCommand": "scoreboard players set @s codeExecution 0",
     "onCodeSuccessfulCommand": "scoreboard players set @s codeExecution 2",
     "overridePython": "",
     "readonly": false
    }
   },
   "outputs": [],
   "source": [
    "import time\n",
    "\n",
    "def draw_square(size: int):\n",
    "    for direction in [\"forward\",\"right\",\"back\",\"left\"]:\n",
    "        for position in range(0,size-1):\n",
    "            agent.place(\"down\",1)\n",
    "            agent.move(direction)\n",
    "\n",
    "# User Code\n",
    "def build_tower():\n",
    "    for layers in range(0,15):\n",
    "        agent.move(\"up\")\n",
    "        draw_square(3)\n",
    "# End of User Code\n",
    "\n",
    "agent.teleport([1018,159,79], [1018,159,76])\n",
    "build_tower()\n",
    "\n",
    "time.sleep(2)\n",
    "timer = 0\n",
    "while timer < 30:\n",
    "    # The MC Function places a emerald block if the code is allowed to build the 2 support towers\n",
    "    if world.is_block([1027,154,60], \"emerald_block\"):\n",
    "        # Tower A\n",
    "        agent.teleport([1009,159,70], [1009,159,66])\n",
    "        build_tower()\n",
    "        # Tower B\n",
    "        agent.teleport([1027,159,70], [1027,159,66])\n",
    "        build_tower()\n",
    "        break\n",
    "    # if a nether wart block is placed, then there's an error with the tower and we raise an issue\n",
    "    if world.is_block([1027,154,60], \"nether_wart_block\"):\n",
    "        say(\"There seems to be an issue with your tower\")\n",
    "        raise Exception(\"Issue with your build_tower, please fix\")\n",
    "    else:\n",
    "        time.sleep(1)\n",
    "        timer = timer + 1\n",
    "# If the timer reaches 30(seconds) we time out and say there's an issue\n",
    "if timer == 30:\n",
    "    say(\"There seems to be an issue with your tower function\")\n",
    "    say(\"Reset the tower with the builder and start again\")\n",
    "    raise Exception(\"Issue with your build_tower, please fix\")"
   ]
  },
  {
   "cell_type": "markdown",
   "metadata": {},
   "source": [
    "# 建造基座塔\n",
    "\n",
    "當地的工人已經把望遠鏡準備好了，可是還缺少基座來支撐望遠鏡碟盤！ 幫忙他們建造基座好讓他們在上面安裝望遠鏡。\n",
    "\n",
    "![The telescope](cover.jpg)"
   ]
  },
  {
   "cell_type": "markdown",
   "metadata": {},
   "source": [
    "## 步驟 1\n",
    "\n",
    "在這個任務裡，我們會用到`函數`。 `函數`是程式碼構成的小小程式，可以依照你的需要被你的主程式呼叫/執行好幾次。 舉例來說， `say()`就是一個函數讓你呼叫/執行來輸出一段文字到聊天中。    \n",
    "在接下來的練習裡， 建造工人會為你測試和執行你的函數。   \n",
    "\n",
    "工人們請你寫出一個`函數`叫做`\"build_tower()\"`。\n",
    "\n",
    "創造一個`函數`的寫法像這樣：\n",
    "```python\n",
    "def my_function():\n",
    "```\n",
    "- `def`: 告訴Python你要建立一個新的函數。\n",
    "- `my_function()`: 這個新函數的名稱。 你要執行函數裡的程式碼的話，可以在你的主程式裡加入`my_function()`。\n",
    "\n",
    "**在下面建立一個新函數叫做`build_tower()`。 別忘了括號後面要有個分號`:`！**"
   ]
  },
  {
   "cell_type": "code",
   "execution_count": null,
   "metadata": {
    "minecraft": {
     "closeCodeBuilderOnRun": true,
     "onCodeCancelledCommand": "scoreboard players set @s codeExecution 0",
     "onCodeErrorCommand": "scoreboard players set @s codeExecution -1",
     "onCodeStartedCommand": "scoreboard players set @s codeExecution 1",
     "onCodeStoppedCommand": "scoreboard players set @s codeExecution 0",
     "onCodeSuccessfulCommand": "scoreboard players set @s codeExecution 2",
     "overridePython": "import time\n\ndef draw_square(size: int):\n    for direction in [\"forward\",\"right\",\"back\",\"left\"]:\n        for position in range(0,size-1):\n            agent.place(\"down\",1)\n            agent.move(direction)\n\n@user-code\n\nagent.teleport([1018,159,79], [1018,159,76])\nbuild_tower()\n\n",
     "readonly": false
    }
   },
   "outputs": [],
   "source": [
    "\n",
    "    # 在上面建立新函數\n",
    "    say(\"函數運作正常\")"
   ]
  },
  {
   "cell_type": "markdown",
   "metadata": {},
   "source": [
    "## 步驟 2\n",
    "\n",
    "現在你建好`函數`了， 我們要用它來建一個`15`格高的塔。 要做到這件事， 我們要用一個能重複執行`15`次的`for`迴圈。   \n",
    "記得嗎？ for迴圈可以像這樣子建出來：\n",
    "```python\n",
    "for counter in range(0, 200):\n",
    "```\n",
    "上面這個範例會執行它裡面的程式碼200次。\n",
    "\n",
    "**完成下面的程式碼，創建一個`for`迴圈從`0`數到`15`。**"
   ]
  },
  {
   "cell_type": "code",
   "execution_count": null,
   "metadata": {
    "minecraft": {
     "closeCodeBuilderOnRun": true,
     "onCodeCancelledCommand": "scoreboard players set @s codeExecution 0",
     "onCodeErrorCommand": "scoreboard players set @s codeExecution -1",
     "onCodeStartedCommand": "scoreboard players set @s codeExecution 1",
     "onCodeStoppedCommand": "scoreboard players set @s codeExecution 0",
     "onCodeSuccessfulCommand": "scoreboard players set @s codeExecution 2",
     "overridePython": "import time\n\ndef draw_square(size: int):\n    for direction in [\"forward\",\"right\",\"back\",\"left\"]:\n        for position in range(0,size-1):\n            agent.place(\"down\",1)\n            agent.move(direction)\n\n@user-code\n\nagent.teleport([1018,159,79], [1018,159,76])\nbuild_tower()\n\n",
     "readonly": false
    }
   },
   "outputs": [],
   "source": [
    "def build_tower():\n",
    "    for height in \n",
    "        # 完成上面這行\n",
    "        say(\"函數運作正常\")"
   ]
  },
  {
   "cell_type": "markdown",
   "metadata": {},
   "source": [
    "做得好！ 當你準備好之後，繼續往下一節。"
   ]
  }
 ],
 "metadata": {
  "kernelspec": {
   "display_name": "Python 3",
   "language": "python",
   "name": "python3"
  },
  "language_info": {
   "codemirror_mode": {
    "name": "ipython",
    "version": 3
   },
   "file_extension": ".py",
   "mimetype": "text/x-python",
   "name": "python",
   "nbconvert_exporter": "python",
   "pygments_lexer": "ipython3",
   "version": "3.8.3"
  },
  "minecraft": {
   "description": "第1節",
   "page_id": "1.1",
   "page_name": "第1節",
   "style": "minecraft.css"
  }
 },
 "nbformat": 4,
 "nbformat_minor": 4
}
