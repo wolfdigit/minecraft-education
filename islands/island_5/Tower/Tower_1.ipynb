{
 "cells": [
  {
   "cell_type": "code",
   "execution_count": null,
   "metadata": {
    "minecraft": {
     "closeCodeBuilderOnRun": true,
     "hidden": true,
     "onCodeCancelledCommand": "scoreboard players set @s codeExecution 0",
     "onCodeErrorCommand": "scoreboard players set @s codeExecution -1",
     "onCodeStartedCommand": "scoreboard players set @s codeExecution 1",
     "onCodeStoppedCommand": "scoreboard players set @s codeExecution 0",
     "onCodeSuccessfulCommand": "scoreboard players set @s codeExecution 2",
     "overridePython": "",
     "readonly": false
    }
   },
   "outputs": [],
   "source": [
    "import time\n",
    "\n",
    "def draw_square(size: int):\n",
    "    for direction in [\"forward\",\"right\",\"back\",\"left\"]:\n",
    "        for position in range(0,size-1):\n",
    "            agent.place(\"down\",1)\n",
    "            agent.move(direction)\n",
    "\n",
    "# User Code\n",
    "def build_tower():\n",
    "    for layers in range(0,15):\n",
    "        agent.move(\"up\")\n",
    "        draw_square(3)\n",
    "# End of User Code\n",
    "\n",
    "agent.teleport([1018,159,79], [1018,159,76])\n",
    "build_tower()\n",
    "\n",
    "time.sleep(2)\n",
    "timer = 0\n",
    "while timer < 30:\n",
    "    # The MC Function places a emerald block if the code is allowed to build the 2 support towers\n",
    "    if world.is_block([1027,154,60], \"emerald_block\"):\n",
    "        # Tower A\n",
    "        agent.teleport([1009,159,70], [1009,159,66])\n",
    "        build_tower()\n",
    "        # Tower B\n",
    "        agent.teleport([1027,159,70], [1027,159,66])\n",
    "        build_tower()\n",
    "        break\n",
    "    # if a nether wart block is placed, then there's an error with the tower and we raise an issue\n",
    "    if world.is_block([1027,154,60], \"nether_wart_block\"):\n",
    "        say(\"There seems to be an issue with your tower\")\n",
    "        raise Exception(\"Issue with your build_tower, please fix\")\n",
    "    else:\n",
    "        time.sleep(1)\n",
    "        timer = timer + 1\n",
    "# If the timer reaches 30(seconds) we time out and say there's an issue\n",
    "if timer == 30:\n",
    "    say(\"There seems to be an issue with your tower function\")\n",
    "    say(\"Reset the tower with the builder and start again\")\n",
    "    raise Exception(\"Issue with your build_tower, please fix\")"
   ]
  },
  {
   "cell_type": "markdown",
   "metadata": {},
   "source": [
    "# Building the Support towers\n",
    "\n",
    "The local builders have the new telescope ready but need supports built to hold the dish! Help them by building the supports so that they can set up the telescope.\n",
    "\n",
    "![The telescope](cover.jpg)"
   ]
  },
  {
   "cell_type": "markdown",
   "metadata": {},
   "source": [
    "## Step 1\n",
    "\n",
    "For this task, we will use `functions`. `Functions` are mini-programs of code, that can be called/ran as many times as you want in your main program. For example, `say()` is a function that you call/run to output text into the chat.    \n",
    "As you go through these exercises below, the builders will test and run your function for you.   \n",
    "\n",
    "The builders have asked you to create a `function` called `\"build_tower()\"`.\n",
    "\n",
    "You can create a `function` like so:\n",
    "```python\n",
    "def my_function():\n",
    "```\n",
    "- `def`: Tells Python you want to create a new function.\n",
    "- `my_function()`: The name of the new function. You can run the code inside of it by putting `my_function()` in your code.\n",
    "\n",
    "**Create a new function below called `build_tower()`. Don't forget the colon after the brackets!**"
   ]
  },
  {
   "cell_type": "code",
   "execution_count": null,
   "metadata": {
    "minecraft": {
     "closeCodeBuilderOnRun": true,
     "onCodeCancelledCommand": "scoreboard players set @s codeExecution 0",
     "onCodeErrorCommand": "scoreboard players set @s codeExecution -1",
     "onCodeStartedCommand": "scoreboard players set @s codeExecution 1",
     "onCodeStoppedCommand": "scoreboard players set @s codeExecution 0",
     "onCodeSuccessfulCommand": "scoreboard players set @s codeExecution 2",
     "overridePython": "import time\n\ndef draw_square(size: int):\n    for direction in [\"forward\",\"right\",\"back\",\"left\"]:\n        for position in range(0,size-1):\n            agent.place(\"down\",1)\n            agent.move(direction)\n\n@user-code\n\nagent.teleport([1018,159,79], [1018,159,76])\nbuild_tower()\n\n",
     "readonly": false
    }
   },
   "outputs": [],
   "source": [
    "\n",
    "# Create the new function above\n",
    "    say(\"Function works\")"
   ]
  },
  {
   "cell_type": "markdown",
   "metadata": {},
   "source": [
    "## Step 2\n",
    "\n",
    "Now that you have the `function` set up, we need it to build a tower that is `15` blocks high. To do this, we need to use a `for` loop that will run `15` times.   \n",
    "Remember, for loops can be created like so:\n",
    "```python\n",
    "for counter in range(0, 200):\n",
    "```\n",
    "The above example will run code below it, 200 times.\n",
    "\n",
    "**Complete the code below, to create a `for` loop that counts from `0` to `15`.**"
   ]
  },
  {
   "cell_type": "code",
   "execution_count": null,
   "metadata": {
    "minecraft": {
     "closeCodeBuilderOnRun": true,
     "onCodeCancelledCommand": "scoreboard players set @s codeExecution 0",
     "onCodeErrorCommand": "scoreboard players set @s codeExecution -1",
     "onCodeStartedCommand": "scoreboard players set @s codeExecution 1",
     "onCodeStoppedCommand": "scoreboard players set @s codeExecution 0",
     "onCodeSuccessfulCommand": "scoreboard players set @s codeExecution 2",
     "overridePython": "import time\n\ndef draw_square(size: int):\n    for direction in [\"forward\",\"right\",\"back\",\"left\"]:\n        for position in range(0,size-1):\n            agent.place(\"down\",1)\n            agent.move(direction)\n\n@user-code\n\nagent.teleport([1018,159,79], [1018,159,76])\nbuild_tower()\n\n",
     "readonly": false
    }
   },
   "outputs": [],
   "source": [
    "def build_tower():\n",
    "    for height in \n",
    "        # Complete the line above\n",
    "        say(\"Function works\")"
   ]
  },
  {
   "cell_type": "markdown",
   "metadata": {},
   "source": [
    "Nice work! When you're ready, move on to the next section."
   ]
  }
 ],
 "metadata": {
  "kernelspec": {
   "display_name": "Python 3",
   "language": "python",
   "name": "python3"
  },
  "language_info": {
   "codemirror_mode": {
    "name": "ipython",
    "version": 3
   },
   "file_extension": ".py",
   "mimetype": "text/x-python",
   "name": "python",
   "nbconvert_exporter": "python",
   "pygments_lexer": "ipython3",
   "version": "3.8.3"
  },
  "minecraft": {
   "description": "Section 1",
   "page_id": "1.1",
   "page_name": "Section 1",
   "style": "minecraft.css"
  }
 },
 "nbformat": 4,
 "nbformat_minor": 4
}
