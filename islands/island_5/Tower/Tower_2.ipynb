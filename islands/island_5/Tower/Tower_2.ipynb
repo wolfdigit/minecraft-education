{
 "cells": [
  {
   "cell_type": "markdown",
   "metadata": {},
   "source": [
    "## Step 3\n",
    "\n",
    "*Note, your Agent will automatically teleport to the diamond block when you start your code.*\n",
    "\n",
    "After you have the `for` loop set up, we need to move the Agent up one block each iteration, to build all of the layers for the tower.\n",
    "\n",
    "**Have your Agent move `\"up\"` within the for loop.**"
   ]
  },
  {
   "cell_type": "code",
   "execution_count": null,
   "metadata": {
    "minecraft": {
     "closeCodeBuilderOnRun": true,
     "onCodeCancelledCommand": "scoreboard players set @s codeExecution 0",
     "onCodeErrorCommand": "scoreboard players set @s codeExecution -1",
     "onCodeStartedCommand": "scoreboard players set @s codeExecution 1",
     "onCodeStoppedCommand": "scoreboard players set @s codeExecution 0",
     "onCodeSuccessfulCommand": "scoreboard players set @s codeExecution 2",
     "overridePython": "import time\n\ndef draw_square(size: int):\n    for direction in [\"forward\",\"right\",\"back\",\"left\"]:\n        for position in range(0,size-1):\n            agent.place(\"down\",1)\n            agent.move(direction)\n\n@user-code\n\nagent.teleport([1018,159,79], [1018,159,76])\nbuild_tower()\n\n",
     "readonly": false
    }
   },
   "outputs": [],
   "source": [
    "def build_tower():\n",
    "    for height in range(0, 15):\n",
    "        \n",
    "        # Add your agent.move code above"
   ]
  },
  {
   "cell_type": "markdown",
   "metadata": {},
   "source": [
    "## Step 4\n",
    "\n",
    "Now each time your Agent moves up, you can build a new layer of the tower. To do this we use the `draw_square()` function. This allows you to build a square at the point your Agent is standing.\n",
    "\n",
    "To use `draw_square()`:\n",
    "```python\n",
    "draw_square(width)\n",
    "```\n",
    "- `width`: How wide you want the layer to be. For example, 5 for a 5x5 layer.\n",
    "\n",
    "**Complete the code below to run the `draw_square()` function with a width of `3`.**"
   ]
  },
  {
   "cell_type": "code",
   "execution_count": null,
   "metadata": {
    "default_code": "def build_tower():\n    for height in range(0, 15):\n        agent.move(\"up\")\n        draw_square( )\n        # Complete the line above",
    "minecraft": {
     "closeCodeBuilderOnRun": true,
     "onCodeCancelledCommand": "scoreboard players set @s codeExecution 0",
     "onCodeErrorCommand": "scoreboard players set @s codeExecution -1",
     "onCodeStartedCommand": "scoreboard players set @s codeExecution 1",
     "onCodeStoppedCommand": "scoreboard players set @s codeExecution 0",
     "onCodeSuccessfulCommand": "scoreboard players set @s codeExecution 2",
     "overridePython": "import time\n\ndef draw_square(size: int):\n    for direction in [\"forward\",\"right\",\"back\",\"left\"]:\n        for position in range(0,size-1):\n            agent.place(\"down\",1)\n            agent.move(direction)\n\n@user-code\n\nagent.teleport([1018,159,79], [1018,159,76])\nbuild_tower()\n\ntime.sleep(2)\ntimer = 0\nwhile timer < 30:\n    # The MC Fnction palces a emerald block if the code is allowed to build the 2 support towers\n    if world.is_block([1027,154,60], \"emerald_block\"):\n        # Tower A\n        agent.teleport([1009,159,70], [1009,159,66])\n        build_tower()\n        # Tower B\n        agent.teleport([1027,159,70], [1027,159,66])\n        build_tower()\n        break\n    # if a nether wart block is placed, then there's an error with the tower and we raise an issue\n    if world.is_block([1027,154,60], \"nether_wart_block\"):\n        say(\"There seems to be an issue with your tower\")\n        raise Exception(\"Issue with your build_tower, please fix\")\n    else:\n        time.sleep(1)\n        timer = timer + 1\nif timer == 30:\n    say(\"There seems to be an issue with your tower function\")\n    say(\"Reset the tower with the builder and start again\")\n    raise Exception(\"Issue with your build_tower, please fix\")",
     "readonly": false
    }
   },
   "outputs": [],
   "source": [
    "def build_tower():\n",
    "    for height in range(0, 15):\n",
    "        agent.move(\"up\")\n",
    "        \n",
    "        # Add your code above"
   ]
  },
  {
   "cell_type": "markdown",
   "metadata": {},
   "source": [
    "When you're done, run your code and, the builders will use your Agent to build the towers."
   ]
  }
 ],
 "metadata": {
  "kernelspec": {
   "display_name": "Python 3",
   "language": "python",
   "name": "python3"
  },
  "language_info": {
   "codemirror_mode": {
    "name": "ipython",
    "version": 3
   },
   "file_extension": ".py",
   "mimetype": "text/x-python",
   "name": "python",
   "nbconvert_exporter": "python",
   "pygments_lexer": "ipython3",
   "version": "3.8.3"
  },
  "minecraft": {
   "description": "Section 2",
   "page_id": "1.2",
   "page_name": "Section 2",
   "style": "minecraft.css"
  }
 },
 "nbformat": 4,
 "nbformat_minor": 4
}
