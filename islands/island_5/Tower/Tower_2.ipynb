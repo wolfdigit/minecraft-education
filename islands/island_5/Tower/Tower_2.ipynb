{
 "cells": [
  {
   "cell_type": "markdown",
   "metadata": {},
   "source": [
    "## 步驟 3\n",
    "\n",
    "*提醒，當你的程式開始執行時，你的Agent會自動傳送回鑽石方塊。*\n",
    "\n",
    "你把`for`迴圈建好之後， 每次迭代裡我們要把Agent往上移1格， 來建造塔的每一層。\n",
    "\n",
    "**在for迴圈裡面讓你的Agent往上`\"up\"`移。**"
   ]
  },
  {
   "cell_type": "code",
   "execution_count": null,
   "metadata": {
    "minecraft": {
     "closeCodeBuilderOnRun": true,
     "onCodeCancelledCommand": "scoreboard players set @s codeExecution 0",
     "onCodeErrorCommand": "scoreboard players set @s codeExecution -1",
     "onCodeStartedCommand": "scoreboard players set @s codeExecution 1",
     "onCodeStoppedCommand": "scoreboard players set @s codeExecution 0",
     "onCodeSuccessfulCommand": "scoreboard players set @s codeExecution 2",
     "overridePython": "import time\n\ndef draw_square(size: int):\n    for direction in [\"forward\",\"right\",\"back\",\"left\"]:\n        for position in range(0,size-1):\n            agent.place(\"down\",1)\n            agent.move(direction)\n\n@user-code\n\nagent.teleport([1018,159,79], [1018,159,76])\nbuild_tower()\n\n",
     "readonly": false
    }
   },
   "outputs": [],
   "source": [
    "def build_tower():\n",
    "    for height in range(0, 15):\n",
    "        \n",
    "        # 在上面加入你的agent.move程式碼"
   ]
  },
  {
   "cell_type": "markdown",
   "metadata": {},
   "source": [
    "## 步驟 4\n",
    "\n",
    "現在你的Agent會每次往上移了， 你就可以建造塔的新的一層。 這件事我們可以用`draw_square()`函數來達成。 這讓你在Agent現在所在位置建造一個方形。\n",
    "\n",
    "`draw_square()`的用法：\n",
    "```python\n",
    "draw_square(寬度)\n",
    "```\n",
    "- `寬度`: 你希望這一層有多寬。 例如，寫5就會建出一個5x5的層。\n",
    "\n",
    "**完成下面程式碼，執行`draw_square()`函數，其中寬度是`3`。**"
   ]
  },
  {
   "cell_type": "code",
   "execution_count": null,
   "metadata": {
    "default_code": "def build_tower():\n    for height in range(0, 15):\n        agent.move(\"up\")\n        draw_square( )\n        # Complete the line above",
    "minecraft": {
     "closeCodeBuilderOnRun": true,
     "onCodeCancelledCommand": "scoreboard players set @s codeExecution 0",
     "onCodeErrorCommand": "scoreboard players set @s codeExecution -1",
     "onCodeStartedCommand": "scoreboard players set @s codeExecution 1",
     "onCodeStoppedCommand": "scoreboard players set @s codeExecution 0",
     "onCodeSuccessfulCommand": "scoreboard players set @s codeExecution 2",
     "overridePython": "import time\n\ndef draw_square(size: int):\n    for direction in [\"forward\",\"right\",\"back\",\"left\"]:\n        for position in range(0,size-1):\n            agent.place(\"down\",1)\n            agent.move(direction)\n\n@user-code\n\nagent.teleport([1018,159,79], [1018,159,76])\nbuild_tower()\n\ntime.sleep(2)\ntimer = 0\nwhile timer < 30:\n    # The MC Fnction palces a emerald block if the code is allowed to build the 2 support towers\n    if world.is_block([1027,154,60], \"emerald_block\"):\n        # Tower A\n        agent.teleport([1009,159,70], [1009,159,66])\n        build_tower()\n        # Tower B\n        agent.teleport([1027,159,70], [1027,159,66])\n        build_tower()\n        break\n    # if a nether wart block is placed, then there's an error with the tower and we raise an issue\n    if world.is_block([1027,154,60], \"nether_wart_block\"):\n        say(\"你的塔似乎有些問題...\")\n        raise Exception(\"你的build_tower有點問題， 請修正\")\n    else:\n        time.sleep(1)\n        timer = timer + 1\nif timer == 30:\n    say(\"你的蓋塔函數似乎有些問題...\")\n    say(\"找建築工人重設這些塔然後再重新試試看\")\n    raise Exception(\"你的build_tower有問題， 請修正\")",
     "readonly": false
    }
   },
   "outputs": [],
   "source": [
    "def build_tower():\n",
    "    for height in range(0, 15):\n",
    "        agent.move(\"up\")\n",
    "        \n",
    "        # 在上面加入你的程式碼"
   ]
  },
  {
   "cell_type": "markdown",
   "metadata": {},
   "source": [
    "你完成之後，執行你的程式，工人們就會用你的Agent建造基座塔。"
   ]
  }
 ],
 "metadata": {
  "kernelspec": {
   "display_name": "Python 3",
   "language": "python",
   "name": "python3"
  },
  "language_info": {
   "codemirror_mode": {
    "name": "ipython",
    "version": 3
   },
   "file_extension": ".py",
   "mimetype": "text/x-python",
   "name": "python",
   "nbconvert_exporter": "python",
   "pygments_lexer": "ipython3",
   "version": "3.8.3"
  },
  "minecraft": {
   "description": "第2節",
   "page_id": "1.2",
   "page_name": "第2節",
   "style": "minecraft.css"
  }
 },
 "nbformat": 4,
 "nbformat_minor": 4
}
