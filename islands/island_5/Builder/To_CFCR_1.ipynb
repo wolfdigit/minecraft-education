{
 "cells": [
  {
   "cell_type": "markdown",
   "metadata": {},
   "source": [
    "# 前往電腦研究中心\n",
    "\n",
    "![Building for Centre for Computer Research](CFCR.jpg)\n",
    "\n",
    "感謝你幫忙建造望遠鏡基座塔！\n",
    "\n",
    "我聽說電腦研究中心可以借助你的agent專長來解碼之前的望遠鏡收到的訊號。 可以請你過去幫忙他們一下嗎？\n",
    "\n",
    "**Declan**"
   ]
  }
 ],
 "metadata": {
  "kernelspec": {
   "display_name": "Python 3",
   "language": "python",
   "name": "python3"
  },
  "language_info": {
   "codemirror_mode": {
    "name": "ipython",
    "version": 3
   },
   "file_extension": ".py",
   "mimetype": "text/x-python",
   "name": "python",
   "nbconvert_exporter": "python",
   "pygments_lexer": "ipython3",
   "version": "3.8.3"
  },
  "minecraft": {
   "description": "第1節",
   "page_id": "1.1",
   "page_name": "第1節",
   "style": "minecraft.css"
  }
 },
 "nbformat": 4,
 "nbformat_minor": 4
}
