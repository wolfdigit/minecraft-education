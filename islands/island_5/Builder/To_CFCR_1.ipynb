{
 "cells": [
  {
   "cell_type": "markdown",
   "metadata": {},
   "source": [
    "# Head to the Centre for Computer Research\n",
    "\n",
    "![Building for Centre for Computer Research](CFCR.jpg)\n",
    "\n",
    "Thank you for the help with building the towers for the telescope!\n",
    "\n",
    "I heard that the Centre for Computer Research could do with your agent expertise to decode some information coming in from a previous telescope. Could you go over to give them a hand?\n",
    "\n",
    "**Declan**"
   ]
  }
 ],
 "metadata": {
  "kernelspec": {
   "display_name": "Python 3",
   "language": "python",
   "name": "python3"
  },
  "language_info": {
   "codemirror_mode": {
    "name": "ipython",
    "version": 3
   },
   "file_extension": ".py",
   "mimetype": "text/x-python",
   "name": "python",
   "nbconvert_exporter": "python",
   "pygments_lexer": "ipython3",
   "version": "3.8.3"
  },
  "minecraft": {
   "description": "第1節",
   "page_id": "1.1",
   "page_name": "第1節",
   "style": "minecraft.css"
  }
 },
 "nbformat": 4,
 "nbformat_minor": 4
}
