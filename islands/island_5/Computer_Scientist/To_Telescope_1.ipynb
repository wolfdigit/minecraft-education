{
 "cells": [
  {
   "cell_type": "markdown",
   "metadata": {},
   "source": [
    "# 前往望遠鏡控制室\n",
    "\n",
    "![Picture of the Telescope Control Room](Control_Room.jpg)\n",
    "\n",
    "最後算出來的望遠鏡角度是**124.321**度！   \n",
    "\n",
    "有了這個資訊，我想他們應該快要可以啟動望遠鏡了。 請你幫忙把這個訊息帶給他們，並問看看他們還有沒有需要其他協助。   \n",
    "\n",
    "**Jolene - 電腦技師**"
   ]
  }
 ],
 "metadata": {
  "kernelspec": {
   "display_name": "Python 3",
   "language": "python",
   "name": "python3"
  },
  "language_info": {
   "codemirror_mode": {
    "name": "ipython",
    "version": 3
   },
   "file_extension": ".py",
   "mimetype": "text/x-python",
   "name": "python",
   "nbconvert_exporter": "python",
   "pygments_lexer": "ipython3",
   "version": "3.8.5"
  },
  "minecraft": {
   "description": "第1節",
   "page_id": "1.1",
   "page_name": "第1節",
   "style": "minecraft.css"
  }
 },
 "nbformat": 4,
 "nbformat_minor": 4
}
