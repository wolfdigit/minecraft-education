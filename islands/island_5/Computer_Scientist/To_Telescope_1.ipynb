{
 "cells": [
  {
   "cell_type": "markdown",
   "metadata": {},
   "source": [
    "# Head to the Telescope Control Room\n",
    "\n",
    "![Picture of the Telescope Control Room](Control_Room.jpg)\n",
    "\n",
    "The final calculated angle for the telescope is **124.321** degrees!   \n",
    "\n",
    "With this information, I think they will be nearly ready to switch the telescope on. Please bring this information to them and check if there is anything else they need help with.   \n",
    "\n",
    "**Jolene - Computer Technician**"
   ]
  }
 ],
 "metadata": {
  "kernelspec": {
   "display_name": "Python 3",
   "language": "python",
   "name": "python3"
  },
  "language_info": {
   "codemirror_mode": {
    "name": "ipython",
    "version": 3
   },
   "file_extension": ".py",
   "mimetype": "text/x-python",
   "name": "python",
   "nbconvert_exporter": "python",
   "pygments_lexer": "ipython3",
   "version": "3.8.5"
  },
  "minecraft": {
   "description": "Section 1",
   "page_id": "1.1",
   "page_name": "Section 1",
   "style": "minecraft.css"
  }
 },
 "nbformat": 4,
 "nbformat_minor": 4
}
