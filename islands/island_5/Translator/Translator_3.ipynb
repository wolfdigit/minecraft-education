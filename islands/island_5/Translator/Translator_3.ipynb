{
 "cells": [
  {
   "cell_type": "markdown",
   "metadata": {},
   "source": [
    "## 步驟 5\n",
    "\n",
    "最後一個步驟是要為另外兩個字母再多加2個`elif`和`return`敘述。\n",
    "\n",
    "| info   | return |\n",
    "|--------|--------|\n",
    "| `c`    | `3`    |\n",
    "| `d`    | `4`    |\n",
    "\n",
    "*附註： 開始執行你的程式之前，你需要按下你Agent上方的**Reset Bit Input**(重設輸入位元)按鈕！*\n",
    "\n",
    "**使用`elif`和`return`來增加當`info`等於`c`或`d`時要執行的程式， 並且回傳上面表格裡指定的對應值。**"
   ]
  },
  {
   "cell_type": "code",
   "execution_count": null,
   "metadata": {
    "default_code": "def decode(info):\n    if info == \"a\":\n        return 1\n    elif info == \"b\":\n        return 2\n    \n    \n    \n    \n    # Add your elif and returns for when info is equal to c or d",
    "minecraft": {
     "closeCodeBuilderOnRun": true,
     "onCodeCancelledCommand": "scoreboard players set @s codeExecution 0",
     "onCodeErrorCommand": "scoreboard players set @s codeExecution -1",
     "onCodeStartedCommand": "scoreboard players set @s codeExecution 1",
     "onCodeStoppedCommand": "scoreboard players set @s codeExecution 0",
     "onCodeSuccessfulCommand": "scoreboard players set @s codeExecution 2",
     "overridePython": "import time\n\n@user-code\n\nvariable_dict = {\n        1: \"a\",\n        2: \"b\",\n        3: \"c\",\n        4: \"d\",\n    }\n\nlist_of_numbers = [1, 2, 4, 3, 2, 1]\ncounter = 0\nfor bit in list_of_numbers:\n    inspect = agent.inspect(\"forward\")\n    block_data = int(inspect.data)\n    block = variable_dict.get(block_data, \"Z\")\n    counter = counter + 1\n    num = decode(block)\n\n    if num == None:\n        raise Exception(\"沒有給出數字！ 請修正你的程式， 或按Reset Bit Input按鈕並從頭開始一次。\")\n        break\n    say(\"解出位元是 : {}\".format(int(num)))\n\n    if num != bit:\n        say(\"解出位元錯誤！\")\n        raise Exception(\"錯誤的位元！ 請修正你的程式， 或按Reset Bit Input按鈕並從頭開始一次。\")\n        break\n    else:\n        if counter == 6:\n            say(\"收到所有資料了，任務完成！\")\n            say(\"資料: 1, 2, 4, 3, 2, 1\")\n            time.sleep(1)\n        else:\n            say(\"讀取下個位元\")\n        world.summon(\"snow_golem\", [1007,150,132])\n    time.sleep(1)\n\nworld.summon(\"snow_golem\", [1014,148,132])",
     "readonly": false
    },
    "tags": []
   },
   "outputs": [],
   "source": [
    "def decode(info):\n",
    "    if info == \"a\":\n",
    "        return 1\n",
    "    elif info == \"b\":\n",
    "        return 2\n",
    "    \n",
    "    \n",
    "    \n",
    "    \n",
    "    # 加入你的elif和return給info等於c或d的情況"
   ]
  },
  {
   "cell_type": "markdown",
   "metadata": {},
   "source": [
    "當你準備好之後， 執行你的程式看看它是否正常運作！"
   ]
  }
 ],
 "metadata": {
  "kernelspec": {
   "display_name": "Python 3 (ipykernel)",
   "language": "python",
   "name": "python3"
  },
  "language_info": {
   "codemirror_mode": {
    "name": "ipython",
    "version": 3
   },
   "file_extension": ".py",
   "mimetype": "text/x-python",
   "name": "python",
   "nbconvert_exporter": "python",
   "pygments_lexer": "ipython3",
   "version": "3.9.7"
  },
  "minecraft": {
   "description": "第3節",
   "page_id": "1.2",
   "page_name": "第3節",
   "style": "minecraft.css"
  }
 },
 "nbformat": 4,
 "nbformat_minor": 4
}
