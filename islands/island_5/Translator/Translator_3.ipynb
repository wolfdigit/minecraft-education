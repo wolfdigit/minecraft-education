{
 "cells": [
  {
   "cell_type": "markdown",
   "metadata": {},
   "source": [
    "## Step 5\n",
    "\n",
    "The final step is to add 2 more `elif` and `return` statements for 2 more letters.\n",
    "\n",
    "| info   | return |\n",
    "|--------|--------|\n",
    "| `c`    | `3`    |\n",
    "| `d`    | `4`    |\n",
    "\n",
    "*Note: You will need to hit the **Reset Bit Input** button above your Agent is before you start your code!*\n",
    "\n",
    "**Using `elif` and `return`, add code to run when `info` is equal to `c` or `d` and return the matching value from the table above.**"
   ]
  },
  {
   "cell_type": "code",
   "execution_count": null,
   "metadata": {
    "default_code": "def decode(info):\n    if info == \"a\":\n        return 1\n    elif info == \"b\":\n        return 2\n    \n    \n    \n    \n    # Add your elif and returns for when info is equal to c or d",
    "minecraft": {
     "closeCodeBuilderOnRun": true,
     "onCodeCancelledCommand": "scoreboard players set @s codeExecution 0",
     "onCodeErrorCommand": "scoreboard players set @s codeExecution -1",
     "onCodeStartedCommand": "scoreboard players set @s codeExecution 1",
     "onCodeStoppedCommand": "scoreboard players set @s codeExecution 0",
     "onCodeSuccessfulCommand": "scoreboard players set @s codeExecution 2",
     "overridePython": "import time\n\n@user-code\n\nvariable_dict = {\n        1: \"a\",\n        2: \"b\",\n        3: \"c\",\n        4: \"d\",\n    }\n\nlist_of_numbers = [1, 2, 4, 3, 2, 1]\ncounter = 0\nfor bit in list_of_numbers:\n    inspect = agent.inspect(\"forward\")\n    block_data = int(inspect.data)\n    block = variable_dict.get(block_data, \"Z\")\n    counter = counter + 1\n    num = decode(block)\n\n    if num == None:\n        raise Exception(\"No number given! Please fix your function, or Reset Bit Input and try again.\")\n        break\n    say(\"Decoded bit as : {}\".format(int(num)))\n\n    if num != bit:\n        say(\"Incorrect bit given!\")\n        raise Exception(\"Incorrect bit! Please fix your function, or Reset Bit Input and try again.\")\n        break\n    else:\n        if counter == 6:\n            say(\"Received full all the data, task complete!\")\n            say(\"Data: 1, 2, 4, 3, 2, 1\")\n            time.sleep(1)\n        else:\n            say(\"Loading Next Bit\")\n        world.summon(\"snow_golem\", [1007,150,132])\n    time.sleep(1)\n\nworld.summon(\"snow_golem\", [1014,148,132])",
     "readonly": false
    },
    "tags": []
   },
   "outputs": [],
   "source": [
    "def decode(info):\n",
    "    if info == \"a\":\n",
    "        return 1\n",
    "    elif info == \"b\":\n",
    "        return 2\n",
    "    \n",
    "    \n",
    "    \n",
    "    \n",
    "    # Add your elif and returns for when info is equal to c or d"
   ]
  },
  {
   "cell_type": "markdown",
   "metadata": {},
   "source": [
    "When you're ready, run your code and see if it works!"
   ]
  }
 ],
 "metadata": {
  "kernelspec": {
   "display_name": "Python 3 (ipykernel)",
   "language": "python",
   "name": "python3"
  },
  "language_info": {
   "codemirror_mode": {
    "name": "ipython",
    "version": 3
   },
   "file_extension": ".py",
   "mimetype": "text/x-python",
   "name": "python",
   "nbconvert_exporter": "python",
   "pygments_lexer": "ipython3",
   "version": "3.9.7"
  },
  "minecraft": {
   "description": "第3節",
   "page_id": "1.2",
   "page_name": "第3節",
   "style": "minecraft.css"
  }
 },
 "nbformat": 4,
 "nbformat_minor": 4
}
