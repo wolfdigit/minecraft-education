{
 "cells": [
  {
   "cell_type": "markdown",
   "metadata": {},
   "source": [
    "## Step 3\n",
    "\n",
    "Now we need to `return` a number within our `if` statement, back to the main program. If we're given `\"a\"`, it matches with `1`, so we will return `1`.\n",
    "\n",
    "A return is used within a function to hand back a value once the function is finished. After you run `return`, the function ends. This is similar to how `agent.position()` with return the Agent's position for us to use in our code.\n",
    "\n",
    "**Complete the code below to `return` a `1` within the `if` statement.**"
   ]
  },
  {
   "cell_type": "code",
   "execution_count": null,
   "metadata": {
    "minecraft": {
     "closeCodeBuilderOnRun": true,
     "onCodeCancelledCommand": "scoreboard players set @s codeExecution 0",
     "onCodeErrorCommand": "scoreboard players set @s codeExecution -1",
     "onCodeStartedCommand": "scoreboard players set @s codeExecution 1",
     "onCodeStoppedCommand": "scoreboard players set @s codeExecution 0",
     "onCodeSuccessfulCommand": "scoreboard players set @s codeExecution 2",
     "overridePython": "@user-code\n\nlist_of_numbers = [1, 2, 4, 3, 2, 1]\nvariable_dict = {\n    1: \"a\",\n    2: \"b\",\n    3: \"c\",\n    4: \"d\",\n}\n\ninspect = agent.inspect(\"forward\")\nblock_data = int(inspect.data)\nblock = variable_dict.get(block_data, \"Z\")\nnum = decode(block)\nif num is not None:\n    say(\"The number received was {}\".format(num))\n",
     "readonly": false
    },
    "tags": []
   },
   "outputs": [],
   "source": [
    "def decode(info):\n",
    "    if info == \"a\":\n",
    "        \n",
    "        # Place your return on the line above"
   ]
  },
  {
   "cell_type": "markdown",
   "metadata": {},
   "source": [
    "## Step 4\n",
    "\n",
    "Now that you've made an if statement return `1` when `info` is `\"a\"`, we need to do the same for `b`. When `info` is equal to `b`, we'll return `2`. \n",
    "\n",
    "To do this we can use an `elif` statement after our first `if` statement...\n",
    "```python\n",
    "elif info == \"b\":\n",
    "    # Do stuff if the info is b\n",
    "```\n",
    "\n",
    "**Add an `elif` statement below when `info` is equal to `\"b\"`, you return `2`.**"
   ]
  },
  {
   "cell_type": "code",
   "execution_count": null,
   "metadata": {
    "default_code": "def decode(info):\n    detail = decode_information(info)\n    if detail > 9:\n        return 0\n    return\n    # Complete the line of code above!\n",
    "minecraft": {
     "closeCodeBuilderOnRun": true,
     "onCodeCancelledCommand": "scoreboard players set @s codeExecution 0",
     "onCodeErrorCommand": "scoreboard players set @s codeExecution -1",
     "onCodeStartedCommand": "scoreboard players set @s codeExecution 1",
     "onCodeStoppedCommand": "scoreboard players set @s codeExecution 0",
     "onCodeSuccessfulCommand": "scoreboard players set @s codeExecution 2",
     "overridePython": "import time\n\n@user-code\n\nvariable_dict = {\n        1: \"a\",\n        2: \"b\",\n        3: \"c\",\n        4: \"d\",\n    }\n\nlist_of_numbers = [1, 2, 4, 3, 2, 1]\ncounter = 0\nfor bit in list_of_numbers:\n    inspect = agent.inspect(\"forward\")\n    block_data = int(inspect.data)\n    block = variable_dict.get(block_data, \"Z\")\n    counter = counter + 1\n    num = decode(block)\n\n    if num == None:\n        raise Exception(\"No number given! Please fix your function, or Reset Bit Input and try again.\")\n        break\n    say(\"Decoded bit as : {}\".format(int(num)))\n\n    if num != bit:\n        say(\"Incorrect bit given!\")\n        raise Exception(\"Incorrect bit! Please fix your function, or Reset Bit Input and try again.\")\n        break\n    else:\n        if counter == 6:\n            say(\"Received full all the data, task complete!\")\n            say(\"Data: 1, 2, 4, 3, 2, 1\")\n            time.sleep(1)\n        else:\n            say(\"Loading Next Bit\")\n        world.summon(\"snow_golem\", [1007,150,132])\n    time.sleep(1)\n\nworld.summon(\"snow_golem\", [1014,148,132])",
     "readonly": false
    },
    "tags": []
   },
   "outputs": [],
   "source": [
    "def decode(info):\n",
    "    if info == \"a\":\n",
    "        return 1\n",
    "    \n",
    "        \n",
    "    # Add your elif and return above here"
   ]
  },
  {
   "cell_type": "markdown",
   "metadata": {},
   "source": [
    "Run your code and see if it works! When you're ready, continue to the next section to decode the final two bits!"
   ]
  }
 ],
 "metadata": {
  "kernelspec": {
   "display_name": "Python 3 (ipykernel)",
   "language": "python",
   "name": "python3"
  },
  "language_info": {
   "codemirror_mode": {
    "name": "ipython",
    "version": 3
   },
   "file_extension": ".py",
   "mimetype": "text/x-python",
   "name": "python",
   "nbconvert_exporter": "python",
   "pygments_lexer": "ipython3",
   "version": "3.9.7"
  },
  "minecraft": {
   "description": "Section 2",
   "page_id": "1.2",
   "page_name": "Section 2",
   "style": "minecraft.css"
  }
 },
 "nbformat": 4,
 "nbformat_minor": 4
}
