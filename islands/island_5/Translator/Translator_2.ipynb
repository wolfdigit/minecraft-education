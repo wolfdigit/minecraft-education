{
 "cells": [
  {
   "cell_type": "markdown",
   "metadata": {},
   "source": [
    "## 步驟 3\n",
    "\n",
    "現在我們需要在`if`敘述裡面`return`(回傳)一個數字， 傳回去給主程式。 如果我們拿到`\"a\"`， 它是對應到`1`， 所以我們要回傳`1`。\n",
    "\n",
    "return是在函數裡面用來在函數結束的時候交回一個值。 在你執行`return`之後，這個函數會立刻結束。 這類似於`agent.position()`如何回傳Agent的位置給我們，讓我們在我們的程式裡面使用這個值。\n",
    "\n",
    "**完成下面的程式，在`if`敘述裡面`return`回傳一個值`1`。**"
   ]
  },
  {
   "cell_type": "code",
   "execution_count": null,
   "metadata": {
    "minecraft": {
     "closeCodeBuilderOnRun": true,
     "onCodeCancelledCommand": "scoreboard players set @s codeExecution 0",
     "onCodeErrorCommand": "scoreboard players set @s codeExecution -1",
     "onCodeStartedCommand": "scoreboard players set @s codeExecution 1",
     "onCodeStoppedCommand": "scoreboard players set @s codeExecution 0",
     "onCodeSuccessfulCommand": "scoreboard players set @s codeExecution 2",
     "overridePython": "@user-code\n\nlist_of_numbers = [1, 2, 4, 3, 2, 1]\nvariable_dict = {\n    1: \"a\",\n    2: \"b\",\n    3: \"c\",\n    4: \"d\",\n}\n\ninspect = agent.inspect(\"forward\")\nblock_data = int(inspect.data)\nblock = variable_dict.get(block_data, \"Z\")\nnum = decode(block)\nif num is not None:\n    say(\"收到的數字是 {}\".format(num))\n",
     "readonly": false
    },
    "tags": []
   },
   "outputs": [],
   "source": [
    "def decode(info):\n",
    "    if info == \"a\":\n",
    "        \n",
    "        # 在上面這行加入你的return"
   ]
  },
  {
   "cell_type": "markdown",
   "metadata": {},
   "source": [
    "## 步驟 4\n",
    "\n",
    "現在你有一個`if`判斷讓程式在`info`是`\"a\"`的時候回傳`1`了， 再來我們要用一樣的方法處理`b`。 當`info`等於`b`的時候， 我們要回傳`2`。 \n",
    "\n",
    "要達成這件事，我們可以用一個`elif`敘述加在第一個`if`敘述之後...\n",
    "```python\n",
    "elif info == \"b\":\n",
    "    # 如果info是b的話做某些事情\n",
    "```\n",
    "\n",
    "**在下面程式加入一個`elif`敘述， 當`info`等於`\"b\"`時， 你會回傳`2`。**"
   ]
  },
  {
   "cell_type": "code",
   "execution_count": null,
   "metadata": {
    "default_code": "def decode(info):\n    detail = decode_information(info)\n    if detail > 9:\n        return 0\n    return\n    # Complete the line of code above!\n",
    "minecraft": {
     "closeCodeBuilderOnRun": true,
     "onCodeCancelledCommand": "scoreboard players set @s codeExecution 0",
     "onCodeErrorCommand": "scoreboard players set @s codeExecution -1",
     "onCodeStartedCommand": "scoreboard players set @s codeExecution 1",
     "onCodeStoppedCommand": "scoreboard players set @s codeExecution 0",
     "onCodeSuccessfulCommand": "scoreboard players set @s codeExecution 2",
     "overridePython": "import time\n\n@user-code\n\nvariable_dict = {\n        1: \"a\",\n        2: \"b\",\n        3: \"c\",\n        4: \"d\",\n    }\n\nlist_of_numbers = [1, 2, 4, 3, 2, 1]\ncounter = 0\nfor bit in list_of_numbers:\n    inspect = agent.inspect(\"forward\")\n    block_data = int(inspect.data)\n    block = variable_dict.get(block_data, \"Z\")\n    counter = counter + 1\n    num = decode(block)\n\n    if num == None:\n        raise Exception(\"沒有給出數字！ 請修正你的程式， 或按Reset Bit Input按鈕並從頭開始一次。\")\n        break\n    say(\"解出位元是 : {}\".format(int(num)))\n\n    if num != bit:\n        say(\"解出位元錯誤！\")\n        raise Exception(\"錯誤的位元！ 請修正你的程式， 或按Reset Bit Input按鈕並從頭開始一次。\")\n        break\n    else:\n        if counter == 6:\n            say(\"收到所有資料了，任務完成！\")\n            say(\"資料: 1, 2, 4, 3, 2, 1\")\n            time.sleep(1)\n        else:\n            say(\"讀取下個位元\")\n        world.summon(\"snow_golem\", [1007,150,132])\n    time.sleep(1)\n\nworld.summon(\"snow_golem\", [1014,148,132])",
     "readonly": false
    },
    "tags": []
   },
   "outputs": [],
   "source": [
    "def decode(info):\n",
    "    if info == \"a\":\n",
    "        return 1\n",
    "    \n",
    "        \n",
    "    # 在這裡上面加入你的elif和return"
   ]
  },
  {
   "cell_type": "markdown",
   "metadata": {},
   "source": [
    "執行你的程式看它是否正常運作！ 當你準備好之後，繼續進入下一節來解碼最後兩個位元！"
   ]
  }
 ],
 "metadata": {
  "kernelspec": {
   "display_name": "Python 3 (ipykernel)",
   "language": "python",
   "name": "python3"
  },
  "language_info": {
   "codemirror_mode": {
    "name": "ipython",
    "version": 3
   },
   "file_extension": ".py",
   "mimetype": "text/x-python",
   "name": "python",
   "nbconvert_exporter": "python",
   "pygments_lexer": "ipython3",
   "version": "3.9.7"
  },
  "minecraft": {
   "description": "第2節",
   "page_id": "1.2",
   "page_name": "第2節",
   "style": "minecraft.css"
  }
 },
 "nbformat": 4,
 "nbformat_minor": 4
}
