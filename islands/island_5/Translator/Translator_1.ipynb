{
 "cells": [
  {
   "cell_type": "code",
   "execution_count": null,
   "metadata": {
    "minecraft": {
     "closeCodeBuilderOnRun": true,
     "hidden": true,
     "onCodeCancelledCommand": "scoreboard players set @s codeExecution 0",
     "onCodeErrorCommand": "scoreboard players set @s codeExecution -1",
     "onCodeStartedCommand": "scoreboard players set @s codeExecution 1",
     "onCodeStoppedCommand": "scoreboard players set @s codeExecution 0",
     "onCodeSuccessfulCommand": "scoreboard players set @s codeExecution 2",
     "overridePython": "",
     "readonly": false
    }
   },
   "outputs": [],
   "source": [
    "import time\n",
    "\n",
    "# User Code\n",
    "def decode(block):\n",
    "    if block == \"a\":\n",
    "        return 1\n",
    "    elif block == \"b\":\n",
    "        return 2\n",
    "    elif block == \"c\":\n",
    "        return 3\n",
    "    elif block == \"d\":\n",
    "        return 4\n",
    "# End of User Code\n",
    "\n",
    "# This dict holds all the\n",
    "variable_dict = {\n",
    "        1: \"a\",\n",
    "        2: \"b\",\n",
    "        3: \"c\",\n",
    "        4: \"d\",\n",
    "    }\n",
    "\n",
    "list_of_numbers = [1, 2, 4, 3, 2, 1]\n",
    "counter = 0  # Counter used for checking how far we're through the message\n",
    "for bit in list_of_numbers:\n",
    "    inspect = agent.inspect(\"forward\")\n",
    "    block_data = int(inspect.data)\n",
    "    block = variable_dict.get(block_data, \"Z\")\n",
    "    counter = counter + 1\n",
    "    num = decode(block)\n",
    "\n",
    "    if num == None:\n",
    "        raise Exception(\"沒有給出數字！ 請修正你的程式， 或按Reset Bit Input按鈕並從頭開始一次。\")\n",
    "        break\n",
    "    say(\"解出位元是 : {}\".format(int(num)))\n",
    "\n",
    "    if num != bit:\n",
    "        say(\"解出位元錯誤！\")\n",
    "        raise Exception(\"錯誤的位元！ 請修正你的程式， 或按Reset Bit Input按鈕並從頭開始一次。\")\n",
    "        break\n",
    "    else:\n",
    "        if counter == 6:  # If we recieve the last bit\n",
    "            say(\"收到所有資料了，任務完成！\")\n",
    "            say(\"資料: 1, 2, 4, 3, 2, 1\")\n",
    "            time.sleep(1)  # Delay to allow the player to see the message be for we complete the task\n",
    "        else:\n",
    "            say(\"讀取下個位元\")\n",
    "        world.summon(\"snow_golem\", [1007,150,132])\n",
    "    time.sleep(1)\n",
    "\n",
    "world.summon(\"snow_golem\", [1014,148,132])"
   ]
  },
  {
   "cell_type": "markdown",
   "metadata": {},
   "source": [
    "# 解碼輸入訊號\n",
    "\n",
    "**Jolene**- \"*歡迎來到電腦研究中心。 我們創造了一個先進的電腦程式， 用來計算望遠鏡要接收來自太空的訊息需要指向的角度。 可以請你幫忙我們解碼它輸出的資料嗎？*\"\n",
    "\n",
    "![Computer terminal](cover.jpg)"
   ]
  },
  {
   "cell_type": "markdown",
   "metadata": {},
   "source": [
    "## 步驟 1\n",
    "\n",
    "電腦研究中心請你幫忙他們創建一個解碼`decode`函數。 這個函數和你的Agent會被用來解碼電腦輸出的答案。    \n",
    "\n",
    "為了要把資料傳輸到你的`函數`裡， 你需要創建一個`參數`。 `參數`讓你可以從主程式傳資料進到函數裡面， 成為一個變數。   \n",
    "\n",
    "這個範例是一個叫做`process`的函數， 它有一個參數叫做`my_info`：\n",
    "```python\n",
    "def process(my_info):\n",
    "    say(my_info) # 說出my_info的值\n",
    "\n",
    "process(\"Hello World!\") # 呼叫`process`函數，而且傳入\"Hello World!\"成為函數裡的my_info。\n",
    "```\n",
    "\n",
    "在這個任務裡，`my_info`就會是要解碼的電腦輸出資料。\n",
    "\n",
    "**完成下面程式碼， 創建一個叫做`decode`的函數， 它有一個參數叫做`info`。**"
   ]
  },
  {
   "cell_type": "code",
   "execution_count": null,
   "metadata": {
    "minecraft": {
     "closeCodeBuilderOnRun": true,
     "onCodeCancelledCommand": "scoreboard players set @s codeExecution 0",
     "onCodeErrorCommand": "scoreboard players set @s codeExecution -1",
     "onCodeStartedCommand": "scoreboard players set @s codeExecution 1",
     "onCodeStoppedCommand": "scoreboard players set @s codeExecution 0",
     "onCodeSuccessfulCommand": "scoreboard players set @s codeExecution 2",
     "overridePython": "@user-code\n\nlist_of_numbers = [1, 2, 4, 3, 2, 1]\nvariable_dict = {\n    1: \"a\",\n    2: \"b\",\n    3: \"c\",\n    4: \"d\",\n}\n\ninspect = agent.inspect(\"forward\")\nblock_data = int(inspect.data)\nblock = variable_dict.get(block_data, \"Z\")\nnum = decode(block)\nif num is not None:\n    say(\"接收到的數字是 {}\".format(num))\n",
     "readonly": false
    },
    "tags": []
   },
   "outputs": [],
   "source": [
    "def       (    ):\n",
    "    # 編輯上面這行\n",
    "    say(\"我得到訊息了！\")"
   ]
  },
  {
   "cell_type": "markdown",
   "metadata": {},
   "source": [
    "## 步驟 2\n",
    "\n",
    "很棒！ 現在我們有資料利用`info`參數送進函數裡了。 `info`會包含一個英文字母， 而電腦會需要一個跟字母對應的數字。 \n",
    "\n",
    "例如，當`info`是`\"a\"`的時候我們要回傳`1`。 你可以用類似下面這樣的`if`敘述做到...\n",
    "```python\n",
    "if info == \"a\":\n",
    "    # 如果info是\"a\"的話，在這裡做一些事情\n",
    "```\n",
    "\n",
    "**完成下面的`if`敘述， 讓它在當`info`等於`\"a\"`的時候進入執行。**"
   ]
  },
  {
   "cell_type": "code",
   "execution_count": null,
   "metadata": {
    "minecraft": {
     "closeCodeBuilderOnRun": true,
     "onCodeCancelledCommand": "scoreboard players set @s codeExecution 0",
     "onCodeErrorCommand": "scoreboard players set @s codeExecution -1",
     "onCodeStartedCommand": "scoreboard players set @s codeExecution 1",
     "onCodeStoppedCommand": "scoreboard players set @s codeExecution 0",
     "onCodeSuccessfulCommand": "scoreboard players set @s codeExecution 2",
     "overridePython": "@user-code\n\nlist_of_numbers = [1, 2, 4, 3, 2, 1]\nvariable_dict = {\n    1: \"a\",\n    2: \"b\",\n    3: \"c\",\n    4: \"d\",\n}\n\ninspect = agent.inspect(\"forward\")\nblock_data = int(inspect.data)\nblock = variable_dict.get(block_data, \"Z\")\nnum = decode(block)\nif num is not None:\n    say(\"接收到的數字是 {}\".format(num))\n",
     "readonly": false
    },
    "tags": []
   },
   "outputs": [],
   "source": [
    "def decode(info):\n",
    "    if          :\n",
    "    # 完成上面這行\n",
    "        say(\"我得到了一個'a'位元\")"
   ]
  },
  {
   "cell_type": "markdown",
   "metadata": {},
   "source": [
    "很好！ 你準備好之後就繼續下一節。"
   ]
  }
 ],
 "metadata": {
  "kernelspec": {
   "display_name": "Python 3 (ipykernel)",
   "language": "python",
   "name": "python3"
  },
  "language_info": {
   "codemirror_mode": {
    "name": "ipython",
    "version": 3
   },
   "file_extension": ".py",
   "mimetype": "text/x-python",
   "name": "python",
   "nbconvert_exporter": "python",
   "pygments_lexer": "ipython3",
   "version": "3.9.7"
  },
  "minecraft": {
   "description": "第1節",
   "page_id": "1.1",
   "page_name": "第1節",
   "style": "minecraft.css"
  }
 },
 "nbformat": 4,
 "nbformat_minor": 4
}
