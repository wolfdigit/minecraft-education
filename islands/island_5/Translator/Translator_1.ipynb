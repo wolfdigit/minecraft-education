{
 "cells": [
  {
   "cell_type": "code",
   "execution_count": null,
   "metadata": {
    "minecraft": {
     "closeCodeBuilderOnRun": true,
     "hidden": true,
     "onCodeCancelledCommand": "scoreboard players set @s codeExecution 0",
     "onCodeErrorCommand": "scoreboard players set @s codeExecution -1",
     "onCodeStartedCommand": "scoreboard players set @s codeExecution 1",
     "onCodeStoppedCommand": "scoreboard players set @s codeExecution 0",
     "onCodeSuccessfulCommand": "scoreboard players set @s codeExecution 2",
     "overridePython": "",
     "readonly": false
    }
   },
   "outputs": [],
   "source": [
    "import time\n",
    "\n",
    "# User Code\n",
    "def decode(block):\n",
    "    if block == \"a\":\n",
    "        return 1\n",
    "    elif block == \"b\":\n",
    "        return 2\n",
    "    elif block == \"c\":\n",
    "        return 3\n",
    "    elif block == \"d\":\n",
    "        return 4\n",
    "# End of User Code\n",
    "\n",
    "# This dict holds all the\n",
    "variable_dict = {\n",
    "        1: \"a\",\n",
    "        2: \"b\",\n",
    "        3: \"c\",\n",
    "        4: \"d\",\n",
    "    }\n",
    "\n",
    "list_of_numbers = [1, 2, 4, 3, 2, 1]\n",
    "counter = 0  # Counter used for checking how far we're through the message\n",
    "for bit in list_of_numbers:\n",
    "    inspect = agent.inspect(\"forward\")\n",
    "    block_data = int(inspect.data)\n",
    "    block = variable_dict.get(block_data, \"Z\")\n",
    "    counter = counter + 1\n",
    "    num = decode(block)\n",
    "\n",
    "    if num == None:\n",
    "        raise Exception(\"No number given! Please fix your function, or Reset Bit Input and try again.\")\n",
    "        break\n",
    "    say(\"Decoded bit as : {}\".format(int(num)))\n",
    "\n",
    "    if num != bit:\n",
    "        say(\"Incorrect bit given!\")\n",
    "        raise Exception(\"Incorrect bit! Please fix your function, or Reset Bit Input and try again.\")\n",
    "        break\n",
    "    else:\n",
    "        if counter == 6:  # If we recieve the last bit\n",
    "            say(\"Received full all the data, task complete!\")\n",
    "            say(\"Data: 1, 2, 4, 3, 2, 1\")\n",
    "            time.sleep(1)  # Delay to allow the player to see the message be for we complete the task\n",
    "        else:\n",
    "            say(\"Loading Next Bit\")\n",
    "        world.summon(\"snow_golem\", [1007,150,132])\n",
    "    time.sleep(1)\n",
    "\n",
    "world.summon(\"snow_golem\", [1014,148,132])"
   ]
  },
  {
   "cell_type": "markdown",
   "metadata": {},
   "source": [
    "# Translate the Input\n",
    "\n",
    "**Jolene**- \"*Welcome to the Centre for Computer Research. We have created an advanced computer program, to calculate the angle the telescope should be pointing to receive messages from space. Would you mind giving us a hand with decoding the data it outputs?*\"\n",
    "\n",
    "![Computer terminal](cover.jpg)"
   ]
  },
  {
   "cell_type": "markdown",
   "metadata": {},
   "source": [
    "## Step 1\n",
    "\n",
    "The Centre for Computer Research has asked you to create a `decode` function for them. It will be used with your Agent, to decode the data that the computer outputs.    \n",
    "\n",
    "To be able to transfer the data into your `function`, you need to create a `parameter`. A `parameter` allows you to pass data into a function in the form of a variable, from the main program.   \n",
    "\n",
    "Here's an example of a function called `process` with a single parameter called `my_info`:\n",
    "```python\n",
    "def process(my_info):\n",
    "    say(my_info) # Say the value of my_info\n",
    "\n",
    "process(\"Hello World!\") # Call the `process` function and pass \"Hello World!\" as my_info.\n",
    "```\n",
    "\n",
    "In this case `my_info` will be the data from the computer to be decoded.\n",
    "\n",
    "**Complete the code below and create a function called `decode` with a single parameter called `info`.**"
   ]
  },
  {
   "cell_type": "code",
   "execution_count": null,
   "metadata": {
    "minecraft": {
     "closeCodeBuilderOnRun": true,
     "onCodeCancelledCommand": "scoreboard players set @s codeExecution 0",
     "onCodeErrorCommand": "scoreboard players set @s codeExecution -1",
     "onCodeStartedCommand": "scoreboard players set @s codeExecution 1",
     "onCodeStoppedCommand": "scoreboard players set @s codeExecution 0",
     "onCodeSuccessfulCommand": "scoreboard players set @s codeExecution 2",
     "overridePython": "@user-code\n\nlist_of_numbers = [1, 2, 4, 3, 2, 1]\nvariable_dict = {\n    1: \"a\",\n    2: \"b\",\n    3: \"c\",\n    4: \"d\",\n}\n\ninspect = agent.inspect(\"forward\")\nblock_data = int(inspect.data)\nblock = variable_dict.get(block_data, \"Z\")\nnum = decode(block)\nif num is not None:\n    say(\"The number received was {}\".format(num))\n",
     "readonly": false
    },
    "tags": []
   },
   "outputs": [],
   "source": [
    "def       (    ):\n",
    "    # Edit the line above\n",
    "    say(\"I've got the info!\")"
   ]
  },
  {
   "cell_type": "markdown",
   "metadata": {},
   "source": [
    "## Step 2\n",
    "\n",
    "Great! Now we have data being passed into the function using the `info` parameter. `info` will contain a letter, and the computer requires a matching number from that letter. \n",
    "\n",
    "To start let's return `1` when `info` is `\"a\"`. For this, you can use an `if` statement like so...\n",
    "```python\n",
    "if info == \"a\":\n",
    "    # Do something here if info is \"a\"\n",
    "```\n",
    "\n",
    "**Complete the `if` statement below, so it runs when `info` is equal to `\"a\"`.**"
   ]
  },
  {
   "cell_type": "code",
   "execution_count": null,
   "metadata": {
    "minecraft": {
     "closeCodeBuilderOnRun": true,
     "onCodeCancelledCommand": "scoreboard players set @s codeExecution 0",
     "onCodeErrorCommand": "scoreboard players set @s codeExecution -1",
     "onCodeStartedCommand": "scoreboard players set @s codeExecution 1",
     "onCodeStoppedCommand": "scoreboard players set @s codeExecution 0",
     "onCodeSuccessfulCommand": "scoreboard players set @s codeExecution 2",
     "overridePython": "@user-code\n\nlist_of_numbers = [1, 2, 4, 3, 2, 1]\nvariable_dict = {\n    1: \"a\",\n    2: \"b\",\n    3: \"c\",\n    4: \"d\",\n}\n\ninspect = agent.inspect(\"forward\")\nblock_data = int(inspect.data)\nblock = variable_dict.get(block_data, \"Z\")\nnum = decode(block)\nif num is not None:\n    say(\"The number received was {}\".format(num))\n",
     "readonly": false
    },
    "tags": []
   },
   "outputs": [],
   "source": [
    "def decode(info):\n",
    "    if          :\n",
    "    # Complete the line above\n",
    "        say(\"I got an 'a' bit\")"
   ]
  },
  {
   "cell_type": "markdown",
   "metadata": {},
   "source": [
    "Nice! When you're ready move on to the next section."
   ]
  }
 ],
 "metadata": {
  "kernelspec": {
   "display_name": "Python 3 (ipykernel)",
   "language": "python",
   "name": "python3"
  },
  "language_info": {
   "codemirror_mode": {
    "name": "ipython",
    "version": 3
   },
   "file_extension": ".py",
   "mimetype": "text/x-python",
   "name": "python",
   "nbconvert_exporter": "python",
   "pygments_lexer": "ipython3",
   "version": "3.9.7"
  },
  "minecraft": {
   "description": "Section 1",
   "page_id": "1.1",
   "page_name": "Section 1",
   "style": "minecraft.css"
  }
 },
 "nbformat": 4,
 "nbformat_minor": 4
}
