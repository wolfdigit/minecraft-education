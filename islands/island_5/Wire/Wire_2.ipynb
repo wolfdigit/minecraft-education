{
 "cells": [
  {
   "cell_type": "markdown",
   "metadata": {},
   "source": [
    "## Step 3\n",
    "\n",
    "The next step is to teleport your Agent to the corrected position. To teleport your Agent you can use `agent.teleport()`.\n",
    "\n",
    "You can use `agent.teleport()` like so:\n",
    "```python\n",
    "agent.teleport(position)\n",
    "```\n",
    "- `position`: The position you want to teleport you Agent to.\n",
    "\n",
    "**Add the code to teleport your Agent to our `loc` variable.**"
   ]
  },
  {
   "cell_type": "code",
   "execution_count": null,
   "metadata": {
    "minecraft": {
     "closeCodeBuilderOnRun": true,
     "onCodeCancelledCommand": "scoreboard players set @s codeExecution 0",
     "onCodeErrorCommand": "scoreboard players set @s codeExecution -1",
     "onCodeStartedCommand": "scoreboard players set @s codeExecution 1",
     "onCodeStoppedCommand": "scoreboard players set @s codeExecution 0",
     "onCodeSuccessfulCommand": "scoreboard players set @s codeExecution 2",
     "overridePython": "def correct_location(location_input):\n    x = int(location_input.x)\n    y = int(location_input.y)-1\n    z = int(location_input.z)\n    return x,y,z\n\n@user-code\n\n# This function forces the code to exit as the code builder can't exit it\n@forever\ndef end_task():\n    if world.is_block([1021, 154, 60], \"emerald_block\"):\n        exit(0)",
     "readonly": false
    }
   },
   "outputs": [],
   "source": [
    "def on_player_travelled(location, mode, distance):\n",
    "    loc = correct_location(location)\n",
    "    \n",
    "    # Add your code above"
   ]
  },
  {
   "cell_type": "markdown",
   "metadata": {},
   "source": [
    "## Step 4\n",
    "\n",
    "The last step is to have your Agent place down the wire to make the connection. \n",
    "\n",
    "The Power Station staff have already given your Agent some wire in slot `1` of its inventory. All you need to do is use `agent.place()` to place it `\"down\"`.\n",
    "\n",
    "Here's a reminder on how to use `agent.place()`...\n",
    "```python\n",
    "agent.place(direction, slot_id)\n",
    "```\n",
    "\n",
    "- `slot_id`: The slot number of the item in the Agent's inventory that we want to place.\n",
    "- `direction`: The direction we want the Agent to place a block. They are: `forward`,`back`,`left`,`right`,`up`,`down`.\n",
    "\n",
    "**Add an `agent.place` below so it places `\"down\"` the wire from slot `1`.**"
   ]
  },
  {
   "cell_type": "code",
   "execution_count": null,
   "metadata": {
    "default_code": "def on_player_travelled(location, mode, distance):\n    loc = correct_location(location)\n    agent.teleport(loc)\n    agent.     ( , \"    \")\n    # Finish the line above.",
    "minecraft": {
     "closeCodeBuilderOnRun": true,
     "onCodeCancelledCommand": "scoreboard players set @s codeExecution 0",
     "onCodeErrorCommand": "scoreboard players set @s codeExecution -1",
     "onCodeStartedCommand": "scoreboard players set @s codeExecution 1",
     "onCodeStoppedCommand": "scoreboard players set @s codeExecution 0",
     "onCodeSuccessfulCommand": "scoreboard players set @s codeExecution 2",
     "overridePython": "def correct_location(location_input):\n    x = int(location_input.x)\n    y = int(location_input.y)-1\n    z = int(location_input.z)\n    return x,y,z\n\n@user-code\n\n# This function forces the code to exit as the code builder can't exit it\n@forever\ndef end_task():\n    if world.is_block([1021, 154, 60], \"emerald_block\"):\n        exit(0)",
     "readonly": false
    }
   },
   "outputs": [],
   "source": [
    "def on_player_travelled(location, mode, distance):\n",
    "    loc = correct_location(location)\n",
    "    agent.teleport(loc)\n",
    "    \n",
    "    # Add your code to the line above"
   ]
  },
  {
   "cell_type": "markdown",
   "metadata": {},
   "source": [
    "When you're ready, run your code and slowly walk on the path to the right of the bridge, so your Agent will follow and place the wire. You should start from the \"External Power Station Plug\"."
   ]
  }
 ],
 "metadata": {
  "kernelspec": {
   "display_name": "Python 3",
   "language": "python",
   "name": "python3"
  },
  "language_info": {
   "codemirror_mode": {
    "name": "ipython",
    "version": 3
   },
   "file_extension": ".py",
   "mimetype": "text/x-python",
   "name": "python",
   "nbconvert_exporter": "python",
   "pygments_lexer": "ipython3",
   "version": "3.8.3"
  },
  "minecraft": {
   "description": "Section 2",
   "page_id": "1.2",
   "page_name": "Section 2",
   "style": "minecraft.css"
  }
 },
 "nbformat": 4,
 "nbformat_minor": 4
}
