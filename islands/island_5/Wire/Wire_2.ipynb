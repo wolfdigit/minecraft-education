{
 "cells": [
  {
   "cell_type": "markdown",
   "metadata": {},
   "source": [
    "## 步驟 3\n",
    "\n",
    "下一步是要傳送你的Agent到修正後的位置。 要傳送你的Agent你可以用`agent.teleport()`。\n",
    "\n",
    "你可以像這樣使用`agent.teleport()`：\n",
    "```python\n",
    "agent.teleport(位置)\n",
    "```\n",
    "- `位置`: 你希望傳送你的Agent到哪個位置。\n",
    "\n",
    "**加入程式碼將你的Agent傳送到我們的`loc`變數。**"
   ]
  },
  {
   "cell_type": "code",
   "execution_count": null,
   "metadata": {
    "minecraft": {
     "closeCodeBuilderOnRun": true,
     "onCodeCancelledCommand": "scoreboard players set @s codeExecution 0",
     "onCodeErrorCommand": "scoreboard players set @s codeExecution -1",
     "onCodeStartedCommand": "scoreboard players set @s codeExecution 1",
     "onCodeStoppedCommand": "scoreboard players set @s codeExecution 0",
     "onCodeSuccessfulCommand": "scoreboard players set @s codeExecution 2",
     "overridePython": "def correct_location(location_input):\n    x = int(location_input.x)\n    y = int(location_input.y)-1\n    z = int(location_input.z)\n    return x,y,z\n\n@user-code\n\n# This function forces the code to exit as the code builder can't exit it\n@forever\ndef end_task():\n    if world.is_block([1021, 154, 60], \"emerald_block\"):\n        exit(0)",
     "readonly": false
    }
   },
   "outputs": [],
   "source": [
    "def on_player_travelled(location, mode, distance):\n",
    "    loc = correct_location(location)\n",
    "    \n",
    "    # 在上面加入你的程式碼"
   ]
  },
  {
   "cell_type": "markdown",
   "metadata": {},
   "source": [
    "## 步驟 4\n",
    "\n",
    "最後一步是讓你的Agent佈下電線來完成連接。 \n",
    "\n",
    "供電站的員工已經給了你的Agent一些電線放在它的物品欄第`1`格。 你需要做的只有使用`agent.place()`來放置到它的`\"down\"`下方。\n",
    "\n",
    "這裡幫你複習如何使用`agent.place()`...\n",
    "```python\n",
    "agent.place(方向, 欄位編號)\n",
    "```\n",
    "\n",
    "- `欄位編號`: 你要放置的物品在物品欄裡的編號。以我們現在的情況，你都用1就好了\n",
    "- `方向`: 我們希望agent放置物品的方向。可以用的方向有`forward`(前), `back`(後), `left`(左), `right`(右), `up`(上), `down`(下)\n",
    "\n",
    "**在下面加入`agent.place`來往下`\"down\"`放置物品欄第`1`格的電線。**"
   ]
  },
  {
   "cell_type": "code",
   "execution_count": null,
   "metadata": {
    "default_code": "def on_player_travelled(location, mode, distance):\n    loc = correct_location(location)\n    agent.teleport(loc)\n    agent.     ( , \"    \")\n    # Finish the line above.",
    "minecraft": {
     "closeCodeBuilderOnRun": true,
     "onCodeCancelledCommand": "scoreboard players set @s codeExecution 0",
     "onCodeErrorCommand": "scoreboard players set @s codeExecution -1",
     "onCodeStartedCommand": "scoreboard players set @s codeExecution 1",
     "onCodeStoppedCommand": "scoreboard players set @s codeExecution 0",
     "onCodeSuccessfulCommand": "scoreboard players set @s codeExecution 2",
     "overridePython": "def correct_location(location_input):\n    x = int(location_input.x)\n    y = int(location_input.y)-1\n    z = int(location_input.z)\n    return x,y,z\n\n@user-code\n\n# This function forces the code to exit as the code builder can't exit it\n@forever\ndef end_task():\n    if world.is_block([1021, 154, 60], \"emerald_block\"):\n        exit(0)",
     "readonly": false
    }
   },
   "outputs": [],
   "source": [
    "def on_player_travelled(location, mode, distance):\n",
    "    loc = correct_location(location)\n",
    "    agent.teleport(loc)\n",
    "    \n",
    "    # 在上面這一行加入你的程式碼"
   ]
  },
  {
   "cell_type": "markdown",
   "metadata": {},
   "source": [
    "當你準備好之後， 執行你的程式並且沿著橋右邊的路徑慢慢走， 讓你的Agent跟著你走並且放置電線。 你要從標示\"External Power Station Plug\"供電站對外插座的地方開始。"
   ]
  }
 ],
 "metadata": {
  "kernelspec": {
   "display_name": "Python 3",
   "language": "python",
   "name": "python3"
  },
  "language_info": {
   "codemirror_mode": {
    "name": "ipython",
    "version": 3
   },
   "file_extension": ".py",
   "mimetype": "text/x-python",
   "name": "python",
   "nbconvert_exporter": "python",
   "pygments_lexer": "ipython3",
   "version": "3.8.3"
  },
  "minecraft": {
   "description": "第2節",
   "page_id": "1.2",
   "page_name": "第2節",
   "style": "minecraft.css"
  }
 },
 "nbformat": 4,
 "nbformat_minor": 4
}
