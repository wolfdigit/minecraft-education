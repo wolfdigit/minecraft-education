{
 "cells": [
  {
   "cell_type": "code",
   "execution_count": null,
   "metadata": {
    "minecraft": {
     "closeCodeBuilderOnRun": true,
     "hidden": true,
     "onCodeCancelledCommand": "scoreboard players set @s codeExecution 0",
     "onCodeErrorCommand": "scoreboard players set @s codeExecution -1",
     "onCodeStartedCommand": "scoreboard players set @s codeExecution 1",
     "onCodeStoppedCommand": "scoreboard players set @s codeExecution 0",
     "onCodeSuccessfulCommand": "scoreboard players set @s codeExecution 2",
     "overridePython": "",
     "readonly": false
    }
   },
   "outputs": [],
   "source": [
    "def correct_location(location_input):\n",
    "    x = int(location_input.x)\n",
    "    y = int(location_input.y)-1\n",
    "    z = int(location_input.z)\n",
    "    return x,y,z\n",
    "\n",
    "# User Code\n",
    "def on_player_travelled(location, mode, distance):\n",
    "    loc = correct_location(location)\n",
    "    agent.teleport(loc)\n",
    "    agent.place(\"down\", 1)\n",
    "#end of User Code\n",
    "\n",
    "# This function forces the code to exit as the code builder can't exit it\n",
    "@forever\n",
    "def end_task():\n",
    "    # If the BP adds an emerald block to this location we know the task is complete\n",
    "    if world.is_block([1021, 154, 60], \"emerald_block\"):\n",
    "        exit(0)"
   ]
  },
  {
   "cell_type": "markdown",
   "metadata": {},
   "source": [
    "# 連接供電站\n",
    "\n",
    "望遠鏡建造完成準備可以開始探索星空了， 還缺少的最後一件事情就是供電！ 你要在主島供電站和望遠鏡島的變電站之間連接一條電纜線。   \n",
    "因為電線有點脆弱， 你要用你的agent來拉線。   \n",
    "\n",
    "你可以寫程式讓你的Agent跟著你走過橋並且同時佈下電線嗎？\n",
    "\n",
    "![Picture of Power station](cover.jpg)"
   ]
  },
  {
   "cell_type": "markdown",
   "metadata": {},
   "source": [
    "## 步驟 1\n",
    "\n",
    "要開始，你需要創建一個可以在每次你移動時被執行的函數。 Minecraft有一個函數專門提供這個功能，叫做`on_player_travelled()`，每次你在遊戲裡移動時它都會被觸發。\n",
    "\n",
    "你可以像這樣使用`on_player_travelled()`：\n",
    "```python\n",
    "def on_player_travelled(location, mode, distance)\n",
    "```\n",
    "- `location`: 這個參數表示你移動到的位置。\n",
    "- `mode`: 這個參數提供你移動的方式。 例如`\"run\"`(跑)、或者`\"walk\"`(走)。\n",
    "- `distance`: 這個參數表示你移動的距離。\n",
    "\n",
    "**在下面的程式區塊裡加上`def`和函數名稱`on_player_travelled`。 然後執行它並且在附近走走看！**"
   ]
  },
  {
   "cell_type": "code",
   "execution_count": null,
   "metadata": {
    "minecraft": {
     "closeCodeBuilderOnRun": true,
     "onCodeCancelledCommand": "scoreboard players set @s codeExecution 0",
     "onCodeErrorCommand": "scoreboard players set @s codeExecution -1",
     "onCodeStartedCommand": "scoreboard players set @s codeExecution 1",
     "onCodeStoppedCommand": "scoreboard players set @s codeExecution 0",
     "onCodeSuccessfulCommand": "scoreboard players set @s codeExecution 2",
     "overridePython": "def correct_location(location_input):\n    x = int(location_input.x)\n    y = int(location_input.y)-1\n    z = int(location_input.z)\n    return x,y,z\n\n@user-code",
     "readonly": false
    }
   },
   "outputs": [],
   "source": [
    "                     (location, mode, distance):\n",
    "    # 完成上面這一行\n",
    "    say(\"我移動了！\")"
   ]
  },
  {
   "cell_type": "markdown",
   "metadata": {},
   "source": [
    "## 步驟 2\n",
    "\n",
    "*請確認你已經把之前執行的程式區塊停止了，不然你沒辦法執行另一個區塊！*\n",
    "\n",
    "你一邊走的時候，你需要一邊取得所在的精確位置，好讓你的Agent佈下電線。 這件事，我們可以利用傳入我們`函數`裡的`location`變數。 \n",
    "\n",
    "要修正位置來讓Agent使用， 我們需要執行`correct_location()`函數並傳入我們的`location`變數。 然後把結果儲存在另一個新的變數。   \n",
    "這一步是把agent座標四捨五入到距離它最近的方塊座標。   \n",
    "\n",
    "你可以像這樣使用`correct_location()`：\n",
    "```python\n",
    "correct_location(位置)\n",
    "```\n",
    "- `位置`: 你想要修正給Agent使用的位置。\n",
    "\n",
    "**創建一個新變數叫做`loc`， 將它設定等於`correct_location()`函數的結果，而且傳入我們的`location`變數作為`位置`參數.**"
   ]
  },
  {
   "cell_type": "code",
   "execution_count": null,
   "metadata": {
    "minecraft": {
     "closeCodeBuilderOnRun": true,
     "onCodeCancelledCommand": "scoreboard players set @s codeExecution 0",
     "onCodeErrorCommand": "scoreboard players set @s codeExecution -1",
     "onCodeStartedCommand": "scoreboard players set @s codeExecution 1",
     "onCodeStoppedCommand": "scoreboard players set @s codeExecution 0",
     "onCodeSuccessfulCommand": "scoreboard players set @s codeExecution 2",
     "overridePython": "def correct_location(location_input):\n    x = int(location_input.x)\n    y = int(location_input.y)-1\n    z = int(location_input.z)\n    return x,y,z\n\n@user-code\n\n# This function forces the code to exit as the code builder can't exit it\n@forever\ndef end_task():\n    if world.is_block([1021, 154, 60], \"emerald_block\"):\n        exit(0)",
     "readonly": false
    }
   },
   "outputs": [],
   "source": [
    "def on_player_travelled(location, mode, distance):\n",
    "    \n",
    "    # Add the line of code above\n",
    "    say(loc)"
   ]
  },
  {
   "cell_type": "markdown",
   "metadata": {},
   "source": [
    "很好！ 在進入下一節之前，記得要先停止你正在執行的程式！"
   ]
  }
 ],
 "metadata": {
  "kernelspec": {
   "display_name": "Python 3",
   "language": "python",
   "name": "python3"
  },
  "language_info": {
   "codemirror_mode": {
    "name": "ipython",
    "version": 3
   },
   "file_extension": ".py",
   "mimetype": "text/x-python",
   "name": "python",
   "nbconvert_exporter": "python",
   "pygments_lexer": "ipython3",
   "version": "3.8.3"
  },
  "minecraft": {
   "description": "第1節",
   "page_id": "1.1",
   "page_name": "第1節",
   "style": "minecraft.css"
  }
 },
 "nbformat": 4,
 "nbformat_minor": 4
}
