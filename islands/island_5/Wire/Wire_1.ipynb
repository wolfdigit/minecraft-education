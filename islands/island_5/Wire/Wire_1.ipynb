{
 "cells": [
  {
   "cell_type": "code",
   "execution_count": null,
   "metadata": {
    "minecraft": {
     "closeCodeBuilderOnRun": true,
     "hidden": true,
     "onCodeCancelledCommand": "scoreboard players set @s codeExecution 0",
     "onCodeErrorCommand": "scoreboard players set @s codeExecution -1",
     "onCodeStartedCommand": "scoreboard players set @s codeExecution 1",
     "onCodeStoppedCommand": "scoreboard players set @s codeExecution 0",
     "onCodeSuccessfulCommand": "scoreboard players set @s codeExecution 2",
     "overridePython": "",
     "readonly": false
    }
   },
   "outputs": [],
   "source": [
    "def correct_location(location_input):\n",
    "    x = int(location_input.x)\n",
    "    y = int(location_input.y)-1\n",
    "    z = int(location_input.z)\n",
    "    return x,y,z\n",
    "\n",
    "# User Code\n",
    "def on_player_travelled(location, mode, distance):\n",
    "    loc = correct_location(location)\n",
    "    agent.teleport(loc)\n",
    "    agent.place(\"down\", 1)\n",
    "#end of User Code\n",
    "\n",
    "# This function forces the code to exit as the code builder can't exit it\n",
    "@forever\n",
    "def end_task():\n",
    "    # If the BP adds an emerald block to this location we know the task is complete\n",
    "    if world.is_block([1021, 154, 60], \"emerald_block\"):\n",
    "        exit(0)"
   ]
  },
  {
   "cell_type": "markdown",
   "metadata": {},
   "source": [
    "# Wire to the Power Station\n",
    "\n",
    "With the telescope built and ready to start searching the stars, the final thing it needs is power! You need to hook up a wire between the Power Station and the transformer building on the telescope island.   \n",
    "As the wire is fragile, you will use your agent to do this.   \n",
    "\n",
    "Could you program your Agent to follow you along the bridge and place down the wire as it does?\n",
    "\n",
    "![Picture of Power station](cover.jpg)"
   ]
  },
  {
   "cell_type": "markdown",
   "metadata": {},
   "source": [
    "## Step 1\n",
    "\n",
    "To begin, you'll need to create a function that will run every time you move. Minecraft has a function for this called `on_player_travelled()` that is triggered every time you move in-game.\n",
    "\n",
    "You can use `on_player_travelled()` like so:\n",
    "```python\n",
    "def on_player_travelled(location, mode, distance)\n",
    "```\n",
    "- `location`: This gives you the location that you moved to.\n",
    "- `mode`: This gives you how your player has moved. For example `\"run\"`, `\"walk\"`.\n",
    "- `distance`: This gives you how far you moved.\n",
    "\n",
    "**Add the `def` and the function name `on_player_travelled` to the code block below. The run it and walk about!**"
   ]
  },
  {
   "cell_type": "code",
   "execution_count": null,
   "metadata": {
    "minecraft": {
     "closeCodeBuilderOnRun": true,
     "onCodeCancelledCommand": "scoreboard players set @s codeExecution 0",
     "onCodeErrorCommand": "scoreboard players set @s codeExecution -1",
     "onCodeStartedCommand": "scoreboard players set @s codeExecution 1",
     "onCodeStoppedCommand": "scoreboard players set @s codeExecution 0",
     "onCodeSuccessfulCommand": "scoreboard players set @s codeExecution 2",
     "overridePython": "def correct_location(location_input):\n    x = int(location_input.x)\n    y = int(location_input.y)-1\n    z = int(location_input.z)\n    return x,y,z\n\n@user-code",
     "readonly": false
    }
   },
   "outputs": [],
   "source": [
    "                     (location, mode, distance):\n",
    "    # Complete the line of code above\n",
    "    say(\"I moved!\")"
   ]
  },
  {
   "cell_type": "markdown",
   "metadata": {},
   "source": [
    "## Step 2\n",
    "\n",
    "*Make sure you have stopped your previous code block from running or you won't be able another one!*\n",
    "\n",
    "As you walk, you need to get the exact location for your Agent to place down the wire. For this, we can use the `location` variable that is passed into our `function`. \n",
    "\n",
    "To correct the location for the Agent to use, we'll run the `correct_location()` function and pass in our `location` variable. Then storing the result in a new variable.   \n",
    "This step is to round the agent coordinates to the nearest block.   \n",
    "\n",
    "You can use `correct_location()` like so:\n",
    "```python\n",
    "correct_location(position)\n",
    "```\n",
    "- `position`: The location you want to correct for the Agent.\n",
    "\n",
    "**Create a new variable called `loc`, set it equal to the `correct_location()` function and pass our `location` variable as the `position`.**"
   ]
  },
  {
   "cell_type": "code",
   "execution_count": null,
   "metadata": {
    "minecraft": {
     "closeCodeBuilderOnRun": true,
     "onCodeCancelledCommand": "scoreboard players set @s codeExecution 0",
     "onCodeErrorCommand": "scoreboard players set @s codeExecution -1",
     "onCodeStartedCommand": "scoreboard players set @s codeExecution 1",
     "onCodeStoppedCommand": "scoreboard players set @s codeExecution 0",
     "onCodeSuccessfulCommand": "scoreboard players set @s codeExecution 2",
     "overridePython": "def correct_location(location_input):\n    x = int(location_input.x)\n    y = int(location_input.y)-1\n    z = int(location_input.z)\n    return x,y,z\n\n@user-code\n\n# This function forces the code to exit as the code builder can't exit it\n@forever\ndef end_task():\n    if world.is_block([1021, 154, 60], \"emerald_block\"):\n        exit(0)",
     "readonly": false
    }
   },
   "outputs": [],
   "source": [
    "def on_player_travelled(location, mode, distance):\n",
    "    \n",
    "    # Add the line of code above\n",
    "    say(loc)"
   ]
  },
  {
   "cell_type": "markdown",
   "metadata": {},
   "source": [
    "Nice! Remember to stop your code before you move onto the next section!"
   ]
  }
 ],
 "metadata": {
  "kernelspec": {
   "display_name": "Python 3",
   "language": "python",
   "name": "python3"
  },
  "language_info": {
   "codemirror_mode": {
    "name": "ipython",
    "version": 3
   },
   "file_extension": ".py",
   "mimetype": "text/x-python",
   "name": "python",
   "nbconvert_exporter": "python",
   "pygments_lexer": "ipython3",
   "version": "3.8.3"
  },
  "minecraft": {
   "description": "Section 1",
   "page_id": "1.1",
   "page_name": "Section 1",
   "style": "minecraft.css"
  }
 },
 "nbformat": 4,
 "nbformat_minor": 4
}
