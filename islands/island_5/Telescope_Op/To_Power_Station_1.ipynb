{
 "cells": [
  {
   "cell_type": "markdown",
   "metadata": {},
   "source": [
    "# 前往供電站\n",
    "\n",
    "![Power Station Building](Power_Station.jpg)\n",
    "\n",
    "感謝你幫忙安裝望遠鏡尖端的警示燈。\n",
    "\n",
    "你可以走一趟供電站去請Theodore打開電源嗎？\n",
    "\n",
    "**Lidia**"
   ]
  }
 ],
 "metadata": {
  "kernelspec": {
   "display_name": "Python 3",
   "language": "python",
   "name": "python3"
  },
  "language_info": {
   "codemirror_mode": {
    "name": "ipython",
    "version": 3
   },
   "file_extension": ".py",
   "mimetype": "text/x-python",
   "name": "python",
   "nbconvert_exporter": "python",
   "pygments_lexer": "ipython3",
   "version": "3.8.3"
  },
  "minecraft": {
   "description": "第1節",
   "page_id": "1.1",
   "page_name": "第1節",
   "style": "minecraft.css"
  }
 },
 "nbformat": 4,
 "nbformat_minor": 4
}
