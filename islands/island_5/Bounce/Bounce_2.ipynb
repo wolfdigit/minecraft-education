{
 "cells": [
  {
   "cell_type": "markdown",
   "metadata": {},
   "source": [
    "## Step 3\n",
    "\n",
    "The final step is to apply the `\"levitation\"` effect to yourself, to float up to the top of the telescope's antenna to place the final beacon. To do this you can use `player.add_effect()`.\n",
    "\n",
    "Here's how to use `player.add_effect()`...\n",
    "```python\n",
    "player.add_effect(effect, seconds, amplifier)\n",
    "```\n",
    "- `effect`: The name of the effect you want to apply.\n",
    "- `seconds`: How long you want the effect to last for, given as a whole number.\n",
    "- `amplifier`: How strong you want the effect to be, given as a whole number.\n",
    "\n",
    "**Finish the code below to add the `\"levitation\"` effect for `1` second, with an amplifier of `10`**"
   ]
  },
  {
   "cell_type": "code",
   "execution_count": null,
   "metadata": {
    "default_code": "def on_player_bounced(height, block):\n    if block == \"slime\":\n        say(\"I'm jumping on slime!\")\n        player.add_effect(\"          \",   ,   )\n        # Complete the line of code above",
    "minecraft": {
     "closeCodeBuilderOnRun": true,
     "onCodeCancelledCommand": "scoreboard players set @s codeExecution 0",
     "onCodeErrorCommand": "scoreboard players set @s codeExecution -1",
     "onCodeStartedCommand": "scoreboard players set @s codeExecution 1",
     "onCodeStoppedCommand": "scoreboard players set @s codeExecution 0",
     "onCodeSuccessfulCommand": "scoreboard players set @s codeExecution 2",
     "overridePython": "",
     "readonly": false
    }
   },
   "outputs": [],
   "source": [
    "def on_player_bounced(height, block):\n",
    "    if block == \"slime\":\n",
    "        say(\"I'm jumping on slime!\")\n",
    "        player.\n",
    "        # Complete the line of code above"
   ]
  },
  {
   "cell_type": "markdown",
   "metadata": {},
   "source": [
    "Nice! Now that you have the code complete. Test it out and see if you can get onto the antenna to place the beacon!\n",
    "\n",
    "*Note - You can modify the time and amplifier for the `\"levitation\"` effect if you are finding the jumping is a little difficult.*\n",
    "![Bounce path](bounce_path.jpg)   \n",
    "*Above is the recommended bouncing path.*"
   ]
  }
 ],
 "metadata": {
  "kernelspec": {
   "display_name": "Python 3",
   "language": "python",
   "name": "python3"
  },
  "language_info": {
   "codemirror_mode": {
    "name": "ipython",
    "version": 3
   },
   "file_extension": ".py",
   "mimetype": "text/x-python",
   "name": "python",
   "nbconvert_exporter": "python",
   "pygments_lexer": "ipython3",
   "version": "3.8.3"
  },
  "minecraft": {
   "description": "第2節",
   "page_id": "1.2",
   "page_name": "第2節",
   "style": "minecraft.css"
  }
 },
 "nbformat": 4,
 "nbformat_minor": 4
}
