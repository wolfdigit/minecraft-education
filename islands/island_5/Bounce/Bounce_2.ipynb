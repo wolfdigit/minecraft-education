{
 "cells": [
  {
   "cell_type": "markdown",
   "metadata": {},
   "source": [
    "## 步驟 3\n",
    "\n",
    "最後一部是要在你自己身上加上`懸浮\"levitation\"`效果， 好讓你飄到望遠鏡的天線上面去放置最後的警示燈。 這件事情你可以用`player.add_effect()`辦到。\n",
    "\n",
    "這是如何使用`player.add_effect()`的方法...\n",
    "```python\n",
    "player.add_effect(效果, 秒數, 強度)\n",
    "```\n",
    "- `效果`: 你想要加上的效果名稱。\n",
    "- `秒數`: 你希望這個效果持續多久，用整數表示。\n",
    "- `強度`: 你希望這個效果的強度，用整數表示。\n",
    "\n",
    "**完成下面的程式碼：加入`\"levitation\"`(懸浮)效果持續`1`秒，強度是`10`**"
   ]
  },
  {
   "cell_type": "code",
   "execution_count": null,
   "metadata": {
    "default_code": "def on_player_bounced(height, block):\n    if block == \"slime\":\n        say(\"我在slime上彈跳！\")\n        player.add_effect(\"          \",   ,   )\n        # Complete the line of code above",
    "minecraft": {
     "closeCodeBuilderOnRun": true,
     "onCodeCancelledCommand": "scoreboard players set @s codeExecution 0",
     "onCodeErrorCommand": "scoreboard players set @s codeExecution -1",
     "onCodeStartedCommand": "scoreboard players set @s codeExecution 1",
     "onCodeStoppedCommand": "scoreboard players set @s codeExecution 0",
     "onCodeSuccessfulCommand": "scoreboard players set @s codeExecution 2",
     "overridePython": "",
     "readonly": false
    }
   },
   "outputs": [],
   "source": [
    "def on_player_bounced(height, block):\n",
    "    if block == \"slime\":\n",
    "        say(\"我在slime上彈跳！\")\n",
    "        player.\n",
    "        # 完成上面那一行"
   ]
  },
  {
   "cell_type": "markdown",
   "metadata": {},
   "source": [
    "很好！ 現在你完成程式碼了。 測試看看你能不能跳到天線上面去放置警示燈！\n",
    "\n",
    "*附註 - 如果你發現這個彈跳還是有點難達成的話， 你可以修改這個`\"懸浮\"`效果的時間和強度。*\n",
    "![Bounce path](bounce_path.jpg)   \n",
    "*上面這張圖是建議的彈跳路徑。*"
   ]
  }
 ],
 "metadata": {
  "kernelspec": {
   "display_name": "Python 3",
   "language": "python",
   "name": "python3"
  },
  "language_info": {
   "codemirror_mode": {
    "name": "ipython",
    "version": 3
   },
   "file_extension": ".py",
   "mimetype": "text/x-python",
   "name": "python",
   "nbconvert_exporter": "python",
   "pygments_lexer": "ipython3",
   "version": "3.8.3"
  },
  "minecraft": {
   "description": "第2節",
   "page_id": "1.2",
   "page_name": "第2節",
   "style": "minecraft.css"
  }
 },
 "nbformat": 4,
 "nbformat_minor": 4
}
