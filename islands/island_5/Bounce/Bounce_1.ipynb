{
 "cells": [
  {
   "cell_type": "code",
   "execution_count": null,
   "metadata": {
    "minecraft": {
     "closeCodeBuilderOnRun": true,
     "hidden": true,
     "onCodeCancelledCommand": "scoreboard players set @s codeExecution 0",
     "onCodeErrorCommand": "scoreboard players set @s codeExecution -1",
     "onCodeStartedCommand": "scoreboard players set @s codeExecution 1",
     "onCodeStoppedCommand": "scoreboard players set @s codeExecution 0",
     "onCodeSuccessfulCommand": "scoreboard players set @s codeExecution 2",
     "overridePython": "",
     "readonly": false
    }
   },
   "outputs": [],
   "source": [
    "def on_player_bounced(height, block):\n",
    "    if block == \"slime\":\n",
    "        say(\"I'm jumping on slime!\")\n",
    "        player.add_effect(\"levitation\", 1, 10)"
   ]
  },
  {
   "cell_type": "markdown",
   "metadata": {},
   "source": [
    "# Finish the Telescope\n",
    "\n",
    "The new telescope has been put up, but they need to attach the final beacon to complete the build. Can you jump up and place it?   \n",
    "To help you jump a little higher, you will learn how to \"levitate\" to give you a bit of an extra boost, each time you bounce!   \n",
    "\n",
    "![Image of telescope build](cover.jpg)"
   ]
  },
  {
   "cell_type": "markdown",
   "metadata": {},
   "source": [
    "## Step 1\n",
    "\n",
    "First, you'll need to create a function to detect when you bounce. We can use a function called `on_player_bounced`, which is special as it will run when Minecraft detects when the player bouncing (on blocks like slime or a bed).   \n",
    "This is called an `event` in Minecraft.   \n",
    "\n",
    "You can set up the `on_player_bounced` event function like so:\n",
    "```python\n",
    "def on_player_bounced(height, block):\n",
    "```\n",
    "- `height`: The height jumped by the player.\n",
    "- `block`: The block the player jumped on.\n",
    "*You need both of these variables for the function to work.*\n",
    "\n",
    "**Complete the code below by putting in the function name and 2 parameters. Then run your code and start jumping on the slime blocks!**"
   ]
  },
  {
   "cell_type": "code",
   "execution_count": null,
   "metadata": {
    "minecraft": {
     "closeCodeBuilderOnRun": true,
     "onCodeCancelledCommand": "scoreboard players set @s codeExecution 0",
     "onCodeErrorCommand": "scoreboard players set @s codeExecution -1",
     "onCodeStartedCommand": "scoreboard players set @s codeExecution 1",
     "onCodeStoppedCommand": "scoreboard players set @s codeExecution 0",
     "onCodeSuccessfulCommand": "scoreboard players set @s codeExecution 2",
     "overridePython": "",
     "readonly": false
    }
   },
   "outputs": [],
   "source": [
    "def                  (      ,      ):\n",
    "    # Complete the function above\n",
    "    say(\"Player Jumped\")"
   ]
  },
  {
   "cell_type": "markdown",
   "metadata": {},
   "source": [
    "## Step 2\n",
    "\n",
    "*Make sure you have stopped your previous code block from running or you won't be able to run another one!*\n",
    "\n",
    "With the function now set up, we're going to check what block you're jumping on. The builders have placed some `\"slime\"` for you to jump on, in front of the telescope.\n",
    "\n",
    "We'll use the `block` parameter from the function definition, along with an `if` statement to check if the player jumped on `\"slime\"` specifically.\n",
    "\n",
    "**Add an `if` statement below to check if the `block` you're jumping on is `\"slime\"`.**"
   ]
  },
  {
   "cell_type": "code",
   "execution_count": null,
   "metadata": {
    "minecraft": {
     "closeCodeBuilderOnRun": true,
     "onCodeCancelledCommand": "scoreboard players set @s codeExecution 0",
     "onCodeErrorCommand": "scoreboard players set @s codeExecution -1",
     "onCodeStartedCommand": "scoreboard players set @s codeExecution 1",
     "onCodeStoppedCommand": "scoreboard players set @s codeExecution 0",
     "onCodeSuccessfulCommand": "scoreboard players set @s codeExecution 2",
     "overridePython": "",
     "readonly": false
    }
   },
   "outputs": [],
   "source": [
    "def on_player_bounced(height, block):\n",
    "              ==\n",
    "    # Write the if statement above to run when block is equal to \"slime\"\n",
    "        say(\"I'm jumping on slime!\")"
   ]
  },
  {
   "cell_type": "markdown",
   "metadata": {},
   "source": [
    "When you're ready to jump up to the telescope, move to the next section!"
   ]
  }
 ],
 "metadata": {
  "kernelspec": {
   "display_name": "Python 3",
   "language": "python",
   "name": "python3"
  },
  "language_info": {
   "codemirror_mode": {
    "name": "ipython",
    "version": 3
   },
   "file_extension": ".py",
   "mimetype": "text/x-python",
   "name": "python",
   "nbconvert_exporter": "python",
   "pygments_lexer": "ipython3",
   "version": "3.8.3"
  },
  "minecraft": {
   "description": "第1節",
   "page_id": "1.1",
   "page_name": "第1節",
   "style": "minecraft.css"
  }
 },
 "nbformat": 4,
 "nbformat_minor": 4
}
