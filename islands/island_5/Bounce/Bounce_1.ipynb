{
 "cells": [
  {
   "cell_type": "code",
   "execution_count": null,
   "metadata": {
    "minecraft": {
     "closeCodeBuilderOnRun": true,
     "hidden": true,
     "onCodeCancelledCommand": "scoreboard players set @s codeExecution 0",
     "onCodeErrorCommand": "scoreboard players set @s codeExecution -1",
     "onCodeStartedCommand": "scoreboard players set @s codeExecution 1",
     "onCodeStoppedCommand": "scoreboard players set @s codeExecution 0",
     "onCodeSuccessfulCommand": "scoreboard players set @s codeExecution 2",
     "overridePython": "",
     "readonly": false
    }
   },
   "outputs": [],
   "source": [
    "def on_player_bounced(height, block):\n",
    "    if block == \"slime\":\n",
    "        say(\"I'm jumping on slime!\")\n",
    "        player.add_effect(\"levitation\", 1, 10)"
   ]
  },
  {
   "cell_type": "markdown",
   "metadata": {},
   "source": [
    "# 完成望遠鏡\n",
    "\n",
    "新的望遠鏡已經放上去了， 但是他們最後還需要把警示燈放上去才能完成。 你可以跳上去放警示燈嗎？   \n",
    "為了幫助你跳得更高， 你會學到如何\"懸浮\"，讓你每次跳起的時候給你一點額外的衝力！   \n",
    "\n",
    "![Image of telescope build](cover.jpg)"
   ]
  },
  {
   "cell_type": "markdown",
   "metadata": {},
   "source": [
    "## 步驟 1\n",
    "\n",
    "首先，你要創建一個函數來偵測你什麼時候跳起。 我們可以用一個叫做`on_player_bounced`的函數， 這個特別的函數會在Minecraft偵測到玩家(在某些例如史萊姆或床的方塊上)彈跳的時候被執行。   \n",
    "這就叫做Minecraft裡的`事件`。   \n",
    "\n",
    "你可以像下面這樣設定`on_player_bounced`事件函數：\n",
    "```python\n",
    "def on_player_bounced(height, block):\n",
    "```\n",
    "- `height`: 玩家跳起的高度。\n",
    "- `block`: 玩家在哪種方塊上彈跳。\n",
    "*這兩個變數都必須存在，這個函數才能正常運作。*\n",
    "\n",
    "**填入函數名稱和2個參數來完成下面的程式碼。 然後執行你的程式並開始在史萊姆方塊上彈跳吧！**"
   ]
  },
  {
   "cell_type": "code",
   "execution_count": null,
   "metadata": {
    "minecraft": {
     "closeCodeBuilderOnRun": true,
     "onCodeCancelledCommand": "scoreboard players set @s codeExecution 0",
     "onCodeErrorCommand": "scoreboard players set @s codeExecution -1",
     "onCodeStartedCommand": "scoreboard players set @s codeExecution 1",
     "onCodeStoppedCommand": "scoreboard players set @s codeExecution 0",
     "onCodeSuccessfulCommand": "scoreboard players set @s codeExecution 2",
     "overridePython": "",
     "readonly": false
    }
   },
   "outputs": [],
   "source": [
    "def                  (      ,      ):\n",
    "    # 完成上面的函數\n",
    "    say(\"玩家跳起來了\")"
   ]
  },
  {
   "cell_type": "markdown",
   "metadata": {},
   "source": [
    "## 步驟 2\n",
    "\n",
    "*請確認你已經把之前執行的程式區塊停止了，不然你沒辦法執行另一個區塊！*\n",
    "\n",
    "這個函數建好之後， 我們要來檢查你在哪種方塊上彈跳。 工人們已經放了一些`\"史萊姆\"`方塊讓你在上面跳， 就在望遠鏡前面。\n",
    "\n",
    "我們要用到函數定義裡的`block`參數、還有一個`if`敘述， 來檢查玩家是不是在指定的`\"slime\"`史萊姆方塊上彈跳。\n",
    "\n",
    "**在下面加一個`if`敘述來檢查你在彈跳的方塊`block`是不是史萊姆`\"slime\"`。**"
   ]
  },
  {
   "cell_type": "code",
   "execution_count": null,
   "metadata": {
    "minecraft": {
     "closeCodeBuilderOnRun": true,
     "onCodeCancelledCommand": "scoreboard players set @s codeExecution 0",
     "onCodeErrorCommand": "scoreboard players set @s codeExecution -1",
     "onCodeStartedCommand": "scoreboard players set @s codeExecution 1",
     "onCodeStoppedCommand": "scoreboard players set @s codeExecution 0",
     "onCodeSuccessfulCommand": "scoreboard players set @s codeExecution 2",
     "overridePython": "",
     "readonly": false
    }
   },
   "outputs": [],
   "source": [
    "def on_player_bounced(height, block):\n",
    "              ==\n",
    "    # 在上面寫if敘述，讓下面的程式只有當block等於\"slime\"的時候才執行\n",
    "        say(\"我在slime上彈跳！\")"
   ]
  },
  {
   "cell_type": "markdown",
   "metadata": {},
   "source": [
    "當你準備好要跳上望遠鏡之後， 就繼續下一節吧！"
   ]
  }
 ],
 "metadata": {
  "kernelspec": {
   "display_name": "Python 3",
   "language": "python",
   "name": "python3"
  },
  "language_info": {
   "codemirror_mode": {
    "name": "ipython",
    "version": 3
   },
   "file_extension": ".py",
   "mimetype": "text/x-python",
   "name": "python",
   "nbconvert_exporter": "python",
   "pygments_lexer": "ipython3",
   "version": "3.8.3"
  },
  "minecraft": {
   "description": "第1節",
   "page_id": "1.1",
   "page_name": "第1節",
   "style": "minecraft.css"
  }
 },
 "nbformat": 4,
 "nbformat_minor": 4
}
