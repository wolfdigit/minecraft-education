{
 "cells": [
  {
   "cell_type": "markdown",
   "metadata": {},
   "source": [
    "## 步驟 3\n",
    "\n",
    "現在，水分、營養和強度變數已經準備好返回給科學家，我們可以將所有變數封裝成一個list列表！\n",
    "\n",
    "列表是一組有序的值/變數。它允許您將值一起存儲，而不是在一個一個變數中。這是創建了四個項目的列表的範例：\n",
    "```python\n",
    "my_list = [\"A\", \"B\", \"C\", \"D\"]\n",
    "```\n",
    "在 Python 中，方括號 (`[` 和 `]`) 用於新列表的開頭和結尾，每個項目之間用逗號 (`,`) 分隔。\n",
    "\n",
    "**創建一個名為 `plant_info` 的新列表，按照以下順序儲存變數 `block`、`hydration`、`nutrition` 和 `strength`。**"
   ]
  },
  {
   "cell_type": "code",
   "execution_count": null,
   "metadata": {
    "minecraft": {
     "closeCodeBuilderOnRun": true,
     "default_code": "block = agent.inspect(\"down\")\n\nhydration = get_hydration(block)\nnutrition = get_nutrition(block)\nstrength = get_strength(block)\n\n# Create a new list below containing your variables above\nplant_info = \n\n# Will submit the information to the scientists to compare with their results\nsubmit(plant_info)",
     "onCodeCancelledCommand": "scoreboard players set @s codeExecution 0",
     "onCodeErrorCommand": "scoreboard players set @s codeExecution -1",
     "onCodeStartedCommand": "scoreboard players set @s codeExecution 1",
     "onCodeStoppedCommand": "scoreboard players set @s codeExecution 0",
     "onCodeSuccessfulCommand": "scoreboard players set @s codeExecution 2",
     "overridePython": "def get_hydration(plant):\n    if plant == \"red_flower\":\n        return \"hydration 8\"\n    if plant == \"sapling\":\n        return \"hydration : 3\"\n    if plant == \"deadbush\":\n        return \"hydration : 0\";\n    return \"Unknown : 0\"\n        \ndef get_nutrition(plant):\n    if plant == \"red_flower\":\n        return \"nutrition 4\"\n    if plant == \"sapling\":\n        return \"nutrition : 5\"\n    if plant == \"deadbush\":\n        return \"nutrition : 7\";\n    return \"Unknown : 0\"\n        \ndef get_strength(plant):\n    if plant == \"red_flower\":\n        return \"strength 3\"\n    if plant == \"sapling\":\n        return \"strength : 5\"\n    if plant == \"deadbush\":\n        return \"strength : 6\";\n    return \"Unknown : 0\"\n        \ndef submit(answer):\n    block = answer[0]\n    if block not in [\"red_flower\",\"sapling\",\"deadbush\"]:\n        say(f\"Hmmm, {block} is not the plant we are currently studying...\")\n        say(\"Are you sure you are looking at the correct block?\")\n        return\n    proof = [block,get_hydration(block),get_nutrition(block),get_strength(block)]\n    if proof == answer:\n        for e in answer:\n            say(f\"{e} - Match\")\n        say(\"Great! Matches perfectly...\")\n        world.set(\"1054 154 139\", \"barrier\")\n    elif sorted(answer) == sorted(proof):\n        say(\"Hmmm, does not seem to be in the right order. Try again...\")\n    else:\n        say(\"Hmmm, information does not match up. Try again...\")\n        \n@user-code",
     "readonly": false
    }
   },
   "outputs": [],
   "source": [
    "block = agent.inspect(\"down\").id\n",
    "\n",
    "hydration = get_hydration(block)\n",
    "nutrition = get_nutrition(block)\n",
    "strength = get_strength(block)\n",
    "\n",
    "# Create a new list below containing your variables above\n",
    "plant_info = \n",
    "\n",
    "# This will submit the information to the scientists to compare with their results\n",
    "submit(plant_info)"
   ]
  },
  {
   "cell_type": "markdown",
   "metadata": {},
   "source": [
    "確保對所有植物都執行程式碼。祝您好運！"
   ]
  }
 ],
 "metadata": {
  "kernelspec": {
   "display_name": "Python 3 (ipykernel)",
   "language": "python",
   "name": "python3"
  },
  "language_info": {
   "codemirror_mode": {
    "name": "ipython",
    "version": 3
   },
   "file_extension": ".py",
   "mimetype": "text/x-python",
   "name": "python",
   "nbconvert_exporter": "python",
   "pygments_lexer": "ipython3",
   "version": "3.9.7"
  },
  "minecraft": {
   "description": "第2節",
   "page_id": "1.2",
   "page_name": "第2節",
   "style": "minecraft.css"
  }
 },
 "nbformat": 4,
 "nbformat_minor": 4
}
