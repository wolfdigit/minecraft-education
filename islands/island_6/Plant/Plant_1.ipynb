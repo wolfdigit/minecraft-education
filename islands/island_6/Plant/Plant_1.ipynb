{
 "cells": [
  {
   "cell_type": "code",
   "execution_count": null,
   "metadata": {
    "minecraft": {
     "closeCodeBuilderOnRun": true,
     "hidden": true,
     "onCodeCancelledCommand": "scoreboard players set @s codeExecution 0",
     "onCodeErrorCommand": "scoreboard players set @s codeExecution -1",
     "onCodeStartedCommand": "scoreboard players set @s codeExecution 1",
     "onCodeStoppedCommand": "scoreboard players set @s codeExecution 0",
     "onCodeSuccessfulCommand": "scoreboard players set @s codeExecution 2",
     "overridePython": "def get_hydration(plant):\n    if plant == \"red_flower\":\n        return \"hydration 8\"\n    if plant == \"sapling\":\n        return \"hydration : 3\"\n    if plant == \"deadbush\":\n        return \"hydration : 0\"\n\ndef get_nutrition(plant):\n    if plant == \"red_flower\":\n        return \"nutrition 4\"\n    if plant == \"sapling\":\n        return \"nutrition : 5\"\n    if plant == \"deadbush\":\n        return \"nutrition : 7\"\n\ndef get_strength(plant):\n    if plant == \"red_flower\":\n        return \"strength 3\"\n    if plant == \"sapling\":\n        return \"strength : 5\"\n    if plant == \"deadbush\":\n        return \"strength : 6\"\n\ndef submit(answer):\n    block = answer[0]\n    proof = [block,get_hydration(block),get_nutrition(block),get_strength(block)]\n    if proof == answer:\n        for e in answer:\n            say(e + \" - Match\")\n        say(\"Great! Matches perfectly...\")\n        world.set(\"1054 154 139\", \"barrier\")\n    else:\n        say(\"Hmmm, information doesn't match up. Try again...\")\n@user-code",
     "readonly": false
    }
   },
   "outputs": [],
   "source": [
    "def get_hydration(plant):\n",
    "    if plant == \"red_flower\":\n",
    "        return \"hydration 8\"\n",
    "    if plant == \"sapling\":\n",
    "        return \"hydration : 3\"\n",
    "    if plant == \"deadbush\":\n",
    "        return \"hydration : 0\";\n",
    "    return \"Unknown : 0\"\n",
    "        \n",
    "def get_nutrition(plant):\n",
    "    if plant == \"red_flower\":\n",
    "        return \"nutrition 4\"\n",
    "    if plant == \"sapling\":\n",
    "        return \"nutrition : 5\"\n",
    "    if plant == \"deadbush\":\n",
    "        return \"nutrition : 7\";\n",
    "    return \"Unknown : 0\"\n",
    "        \n",
    "def get_strength(plant):\n",
    "    if plant == \"red_flower\":\n",
    "        return \"strength 3\"\n",
    "    if plant == \"sapling\":\n",
    "        return \"strength : 5\"\n",
    "    if plant == \"deadbush\":\n",
    "        return \"strength : 6\";\n",
    "    return \"Unknown : 0\"\n",
    "        \n",
    "def submit(answer):\n",
    "    block = answer[0]\n",
    "    if block not in [\"red_flower\",\"sapling\",\"deadbush\"]:\n",
    "        say(f\"Hmmm, {block} is not the plant we are currently studying...\")\n",
    "        say(\"Are you sure you are looking at the correct block?\")\n",
    "        return\n",
    "    proof = [block,get_hydration(block),get_nutrition(block),get_strength(block)]\n",
    "    if proof == answer:\n",
    "        for e in answer:\n",
    "            say(f\"{e} - Match\")\n",
    "        say(\"Great! Matches perfectly...\")\n",
    "        world.set(\"1054 154 139\", \"barrier\")\n",
    "    elif sorted(answer) == sorted(proof):\n",
    "        say(\"Hmmm, does not seem to be in the right order. Try again...\")\n",
    "    else:\n",
    "        say(\"Hmmm, information does not match up. Try again...\")\n",
    "        \n",
    "# @user-code\n",
    "\n",
    "# User Code\n",
    "block = agent.inspect(\"down\").id\n",
    "hydration = get_hydration(block)\n",
    "nutrition = get_nutrition(block)\n",
    "strength = get_strength(block)\n",
    "plant_info = [block, nutrition,hydration, strength]\n",
    "submit(plant_info)"
   ]
  },
  {
   "cell_type": "markdown",
   "metadata": {},
   "source": [
    "# Plant Processing\n",
    "\n",
    "The scientists at the Space Research Centre need to select the correct plants to send into space. Your Agent has been given a special device, to allow it to get the properties of the plants. This will allow it to check if they may thrive in space.   \n",
    "\n",
    "![Cover image](cover.png)"
   ]
  },
  {
   "cell_type": "markdown",
   "metadata": {},
   "source": [
    "## Step 1\n",
    "\n",
    "To start, your Agent is going to need to get the plant id of the block below, then store this in a variable, to use later in our code.\n",
    "\n",
    "**Use `agent.inspect` to inspect `\"down\"` and store the result in a new variable called `\"block\"`.**"
   ]
  },
  {
   "cell_type": "code",
   "execution_count": null,
   "metadata": {
    "minecraft": {
     "closeCodeBuilderOnRun": true,
     "onCodeCancelledCommand": "scoreboard players set @s codeExecution 0",
     "onCodeErrorCommand": "scoreboard players set @s codeExecution -1",
     "onCodeStartedCommand": "scoreboard players set @s codeExecution 1",
     "onCodeStoppedCommand": "scoreboard players set @s codeExecution 0",
     "onCodeSuccessfulCommand": "scoreboard players set @s codeExecution 2",
     "overridePython": "def get_hydration(plant):\n    if plant == \"red_flower\":\n        return \"hydration 8\"\n    if plant == \"sapling\":\n        return \"hydration : 3\"\n    if plant == \"deadbush\":\n        return \"hydration : 0\";\n    return \"Unknown : 0\"\n        \ndef get_nutrition(plant):\n    if plant == \"red_flower\":\n        return \"nutrition 4\"\n    if plant == \"sapling\":\n        return \"nutrition : 5\"\n    if plant == \"deadbush\":\n        return \"nutrition : 7\";\n    return \"Unknown : 0\"\n        \ndef get_strength(plant):\n    if plant == \"red_flower\":\n        return \"strength 3\"\n    if plant == \"sapling\":\n        return \"strength : 5\"\n    if plant == \"deadbush\":\n        return \"strength : 6\";\n    return \"Unknown : 0\"\n        \ndef submit(answer):\n    block = answer[0]\n    if block not in [\"red_flower\",\"sapling\",\"deadbush\"]:\n        say(f\"Hmmm, {block} is not the plant we are currently studying...\")\n        say(\"Are you sure you are looking at the correct block?\")\n        return\n    proof = [block,get_hydration(block),get_nutrition(block),get_strength(block)]\n    if proof == answer:\n        for e in answer:\n            say(f\"{e} - Match\")\n        say(\"Great! Matches perfectly...\")\n        world.set(\"1054 154 139\", \"barrier\")\n    elif sorted(answer) == sorted(proof):\n        say(\"Hmmm, does not seem to be in the right order. Try again...\")\n    else:\n        say(\"Hmmm, information does not match up. Try again...\")\n        \n@user-code",
     "readonly": false
    }
   },
   "outputs": [],
   "source": [
    "       = agent.    (    ).id\n",
    "# Add your inspect code above\n",
    "say(block)"
   ]
  },
  {
   "cell_type": "markdown",
   "metadata": {},
   "source": [
    "## Step 2\n",
    "\n",
    "Now with the block information stored as a variable, we can run some tests on it.\n",
    "\n",
    "You have three tests to carry out on the plant...\n",
    "- `get_hydration(plant)` - Get hydration/water levels of the plant,\n",
    "- `get_nutrition(plant)` - Get nutritional properties of the plant,\n",
    "- `get_strength(plant)` - Get physical strength of the plant.\n",
    "\n",
    "`plant` is the block variable you have stored. So if you wanted to get the strength of the plant you just inspected, you'd write...\n",
    "```python\n",
    "get_strength(block)\n",
    "```\n",
    "\n",
    "**Use and output (using say()) the values from `get_hydration()`, `get_nutrition()` and `get_strength()`, using your `\"block\"` variable.**"
   ]
  },
  {
   "cell_type": "code",
   "execution_count": null,
   "metadata": {
    "minecraft": {
     "closeCodeBuilderOnRun": true,
     "onCodeCancelledCommand": "scoreboard players set @s codeExecution 0",
     "onCodeErrorCommand": "scoreboard players set @s codeExecution -1",
     "onCodeStartedCommand": "scoreboard players set @s codeExecution 1",
     "onCodeStoppedCommand": "scoreboard players set @s codeExecution 0",
     "onCodeSuccessfulCommand": "scoreboard players set @s codeExecution 2",
     "overridePython": "def get_hydration(plant):\n    if plant == \"red_flower\":\n        return \"hydration 8\"\n    if plant == \"sapling\":\n        return \"hydration : 3\"\n    if plant == \"deadbush\":\n        return \"hydration : 0\";\n    return \"Unknown : 0\"\n        \ndef get_nutrition(plant):\n    if plant == \"red_flower\":\n        return \"nutrition 4\"\n    if plant == \"sapling\":\n        return \"nutrition : 5\"\n    if plant == \"deadbush\":\n        return \"nutrition : 7\";\n    return \"Unknown : 0\"\n        \ndef get_strength(plant):\n    if plant == \"red_flower\":\n        return \"strength 3\"\n    if plant == \"sapling\":\n        return \"strength : 5\"\n    if plant == \"deadbush\":\n        return \"strength : 6\";\n    return \"Unknown : 0\"\n        \ndef submit(answer):\n    block = answer[0]\n    if block not in [\"red_flower\",\"sapling\",\"deadbush\"]:\n        say(f\"Hmmm, {block} is not the plant we are currently studying...\")\n        say(\"Are you sure you are looking at the correct block?\")\n        return\n    proof = [block,get_hydration(block),get_nutrition(block),get_strength(block)]\n    if proof == answer:\n        for e in answer:\n            say(f\"{e} - Match\")\n        say(\"Great! Matches perfectly...\")\n        world.set(\"1054 154 139\", \"barrier\")\n    elif sorted(answer) == sorted(proof):\n        say(\"Hmmm, does not seem to be in the right order. Try again...\")\n    else:\n        say(\"Hmmm, information does not match up. Try again...\")\n        \n@user-code",
     "readonly": false
    }
   },
   "outputs": [],
   "source": [
    "block = agent.inspect(\"down\").id\n",
    "\n",
    "# Complete the code below to get and store the values from get_hydration(), get_nutrition() and get_strength()\n",
    "hydration = get_hydration(     )\n",
    "nutrition =\n",
    "strength =\n",
    "\n",
    "say(hydration)\n",
    "say(nutrition)\n",
    "say(strength)"
   ]
  },
  {
   "cell_type": "markdown",
   "metadata": {},
   "source": [
    "When you're ready, press next to go to the next section."
   ]
  }
 ],
 "metadata": {
  "kernelspec": {
   "display_name": "Python 3 (ipykernel)",
   "language": "python",
   "name": "python3"
  },
  "language_info": {
   "codemirror_mode": {
    "name": "ipython",
    "version": 3
   },
   "file_extension": ".py",
   "mimetype": "text/x-python",
   "name": "python",
   "nbconvert_exporter": "python",
   "pygments_lexer": "ipython3",
   "version": "3.9.7"
  },
  "minecraft": {
   "description": "Section 1",
   "page_id": "1.1",
   "page_name": "Section 1",
   "style": "minecraft.css"
  }
 },
 "nbformat": 4,
 "nbformat_minor": 4
}
