{
 "cells": [
  {
   "cell_type": "code",
   "execution_count": null,
   "metadata": {
    "minecraft": {
     "closeCodeBuilderOnRun": true,
     "hidden": true,
     "onCodeCancelledCommand": "scoreboard players set @s codeExecution 0",
     "onCodeErrorCommand": "scoreboard players set @s codeExecution -1",
     "onCodeStartedCommand": "scoreboard players set @s codeExecution 1",
     "onCodeStoppedCommand": "scoreboard players set @s codeExecution 0",
     "onCodeSuccessfulCommand": "scoreboard players set @s codeExecution 2",
     "overridePython": "def get_hydration(plant):\n    if plant == \"red_flower\":\n        return \"hydration 8\"\n    if plant == \"sapling\":\n        return \"hydration : 3\"\n    if plant == \"deadbush\":\n        return \"hydration : 0\"\n\ndef get_nutrition(plant):\n    if plant == \"red_flower\":\n        return \"nutrition 4\"\n    if plant == \"sapling\":\n        return \"nutrition : 5\"\n    if plant == \"deadbush\":\n        return \"nutrition : 7\"\n\ndef get_strength(plant):\n    if plant == \"red_flower\":\n        return \"strength 3\"\n    if plant == \"sapling\":\n        return \"strength : 5\"\n    if plant == \"deadbush\":\n        return \"strength : 6\"\n\ndef submit(answer):\n    block = answer[0]\n    proof = [block,get_hydration(block),get_nutrition(block),get_strength(block)]\n    if proof == answer:\n        for e in answer:\n            say(e + \" - Match\")\n        say(\"Great! Matches perfectly...\")\n        world.set(\"1054 154 139\", \"barrier\")\n    else:\n        say(\"Hmmm, information doesn't match up. Try again...\")\n@user-code",
     "readonly": false
    }
   },
   "outputs": [],
   "source": [
    "def get_hydration(plant):\n",
    "    if plant == \"red_flower\":\n",
    "        return \"hydration 8\"\n",
    "    if plant == \"sapling\":\n",
    "        return \"hydration : 3\"\n",
    "    if plant == \"deadbush\":\n",
    "        return \"hydration : 0\";\n",
    "    return \"Unknown : 0\"\n",
    "        \n",
    "def get_nutrition(plant):\n",
    "    if plant == \"red_flower\":\n",
    "        return \"nutrition 4\"\n",
    "    if plant == \"sapling\":\n",
    "        return \"nutrition : 5\"\n",
    "    if plant == \"deadbush\":\n",
    "        return \"nutrition : 7\";\n",
    "    return \"Unknown : 0\"\n",
    "        \n",
    "def get_strength(plant):\n",
    "    if plant == \"red_flower\":\n",
    "        return \"strength 3\"\n",
    "    if plant == \"sapling\":\n",
    "        return \"strength : 5\"\n",
    "    if plant == \"deadbush\":\n",
    "        return \"strength : 6\";\n",
    "    return \"Unknown : 0\"\n",
    "        \n",
    "def submit(answer):\n",
    "    block = answer[0]\n",
    "    if block not in [\"red_flower\",\"sapling\",\"deadbush\"]:\n",
    "        say(f\"Hmmm, {block} is not the plant we are currently studying...\")\n",
    "        say(\"Are you sure you are looking at the correct block?\")\n",
    "        return\n",
    "    proof = [block,get_hydration(block),get_nutrition(block),get_strength(block)]\n",
    "    if proof == answer:\n",
    "        for e in answer:\n",
    "            say(f\"{e} - Match\")\n",
    "        say(\"Great! Matches perfectly...\")\n",
    "        world.set(\"1054 154 139\", \"barrier\")\n",
    "    elif sorted(answer) == sorted(proof):\n",
    "        say(\"Hmmm, does not seem to be in the right order. Try again...\")\n",
    "    else:\n",
    "        say(\"Hmmm, information does not match up. Try again...\")\n",
    "        \n",
    "# @user-code\n",
    "\n",
    "# User Code\n",
    "block = agent.inspect(\"down\").id\n",
    "hydration = get_hydration(block)\n",
    "nutrition = get_nutrition(block)\n",
    "strength = get_strength(block)\n",
    "plant_info = [block, nutrition,hydration, strength]\n",
    "submit(plant_info)"
   ]
  },
  {
   "cell_type": "markdown",
   "metadata": {},
   "source": [
    "# 處理植物\n",
    "\n",
    "太空研究中心的科學家們需要選擇合適的植物送入太空。您的Agent已經配備了一個特殊的裝置，可以獲取植物的特性。這將使它能夠檢查它們是否能在太空中茁壯成長。   \n",
    "\n",
    "![Cover image](cover.png)"
   ]
  },
  {
   "cell_type": "markdown",
   "metadata": {},
   "source": [
    "## 步驟 1\n",
    "\n",
    "首先，您的 Agent 需要獲取下面方塊的植物 ID，然後將其存儲在一個變數中，以便稍後在我們的程式碼中使用。\n",
    "\n",
    "**使用 agent.inspect 檢查 \"down\"下方的方塊，並將結果儲存在一個名為 \"block\" 的新變數中。**"
   ]
  },
  {
   "cell_type": "code",
   "execution_count": null,
   "metadata": {
    "minecraft": {
     "closeCodeBuilderOnRun": true,
     "onCodeCancelledCommand": "scoreboard players set @s codeExecution 0",
     "onCodeErrorCommand": "scoreboard players set @s codeExecution -1",
     "onCodeStartedCommand": "scoreboard players set @s codeExecution 1",
     "onCodeStoppedCommand": "scoreboard players set @s codeExecution 0",
     "onCodeSuccessfulCommand": "scoreboard players set @s codeExecution 2",
     "overridePython": "def get_hydration(plant):\n    if plant == \"red_flower\":\n        return \"hydration 8\"\n    if plant == \"sapling\":\n        return \"hydration : 3\"\n    if plant == \"deadbush\":\n        return \"hydration : 0\";\n    return \"Unknown : 0\"\n        \ndef get_nutrition(plant):\n    if plant == \"red_flower\":\n        return \"nutrition 4\"\n    if plant == \"sapling\":\n        return \"nutrition : 5\"\n    if plant == \"deadbush\":\n        return \"nutrition : 7\";\n    return \"Unknown : 0\"\n        \ndef get_strength(plant):\n    if plant == \"red_flower\":\n        return \"strength 3\"\n    if plant == \"sapling\":\n        return \"strength : 5\"\n    if plant == \"deadbush\":\n        return \"strength : 6\";\n    return \"Unknown : 0\"\n        \ndef submit(answer):\n    block = answer[0]\n    if block not in [\"red_flower\",\"sapling\",\"deadbush\"]:\n        say(f\"Hmmm, {block} is not the plant we are currently studying...\")\n        say(\"Are you sure you are looking at the correct block?\")\n        return\n    proof = [block,get_hydration(block),get_nutrition(block),get_strength(block)]\n    if proof == answer:\n        for e in answer:\n            say(f\"{e} - Match\")\n        say(\"Great! Matches perfectly...\")\n        world.set(\"1054 154 139\", \"barrier\")\n    elif sorted(answer) == sorted(proof):\n        say(\"Hmmm, does not seem to be in the right order. Try again...\")\n    else:\n        say(\"Hmmm, information does not match up. Try again...\")\n        \n@user-code",
     "readonly": false
    }
   },
   "outputs": [],
   "source": [
    "       = agent.    (    ).id\n",
    "# Add your inspect code above\n",
    "say(block)"
   ]
  },
  {
   "cell_type": "markdown",
   "metadata": {},
   "source": [
    "## 步驟 2\n",
    "\n",
    "現在，將方塊資訊儲存在一個變數中後，我們可以對其進行一些測試。\n",
    "\n",
    "你有三項測試需要對這棵植物進行：\n",
    "- `get_hydration(植物)` - 獲取植物的水分/水位，\n",
    "- `get_nutrition(植物)` -獲取植物的營養特性，\n",
    "- `get_strength(植物)` - 獲取植物的強韌度。\n",
    "\n",
    "其中`植物`參數是您儲存方塊的變數。因此，如果您想要獲取剛才檢查的植物的強韌度，您應該這樣寫...\n",
    "```python\n",
    "get_strength(block)\n",
    "```\n",
    "\n",
    "**使用 say() 函數輸出 get_hydration()、get_nutrition() 和 get_strength() 的值，使用您的 \"block\" 變數。**"
   ]
  },
  {
   "cell_type": "code",
   "execution_count": null,
   "metadata": {
    "minecraft": {
     "closeCodeBuilderOnRun": true,
     "onCodeCancelledCommand": "scoreboard players set @s codeExecution 0",
     "onCodeErrorCommand": "scoreboard players set @s codeExecution -1",
     "onCodeStartedCommand": "scoreboard players set @s codeExecution 1",
     "onCodeStoppedCommand": "scoreboard players set @s codeExecution 0",
     "onCodeSuccessfulCommand": "scoreboard players set @s codeExecution 2",
     "overridePython": "def get_hydration(plant):\n    if plant == \"red_flower\":\n        return \"hydration 8\"\n    if plant == \"sapling\":\n        return \"hydration : 3\"\n    if plant == \"deadbush\":\n        return \"hydration : 0\";\n    return \"Unknown : 0\"\n        \ndef get_nutrition(plant):\n    if plant == \"red_flower\":\n        return \"nutrition 4\"\n    if plant == \"sapling\":\n        return \"nutrition : 5\"\n    if plant == \"deadbush\":\n        return \"nutrition : 7\";\n    return \"Unknown : 0\"\n        \ndef get_strength(plant):\n    if plant == \"red_flower\":\n        return \"strength 3\"\n    if plant == \"sapling\":\n        return \"strength : 5\"\n    if plant == \"deadbush\":\n        return \"strength : 6\";\n    return \"Unknown : 0\"\n        \ndef submit(answer):\n    block = answer[0]\n    if block not in [\"red_flower\",\"sapling\",\"deadbush\"]:\n        say(f\"Hmmm, {block} is not the plant we are currently studying...\")\n        say(\"Are you sure you are looking at the correct block?\")\n        return\n    proof = [block,get_hydration(block),get_nutrition(block),get_strength(block)]\n    if proof == answer:\n        for e in answer:\n            say(f\"{e} - Match\")\n        say(\"Great! Matches perfectly...\")\n        world.set(\"1054 154 139\", \"barrier\")\n    elif sorted(answer) == sorted(proof):\n        say(\"Hmmm, does not seem to be in the right order. Try again...\")\n    else:\n        say(\"Hmmm, information does not match up. Try again...\")\n        \n@user-code",
     "readonly": false
    }
   },
   "outputs": [],
   "source": [
    "block = agent.inspect(\"down\").id\n",
    "\n",
    "# Complete the code below to get and store the values from get_hydration(), get_nutrition() and get_strength()\n",
    "hydration = get_hydration(     )\n",
    "nutrition =\n",
    "strength =\n",
    "\n",
    "say(hydration)\n",
    "say(nutrition)\n",
    "say(strength)"
   ]
  },
  {
   "cell_type": "markdown",
   "metadata": {},
   "source": [
    "準備好之後，按下一步進入下一節。"
   ]
  }
 ],
 "metadata": {
  "kernelspec": {
   "display_name": "Python 3 (ipykernel)",
   "language": "python",
   "name": "python3"
  },
  "language_info": {
   "codemirror_mode": {
    "name": "ipython",
    "version": 3
   },
   "file_extension": ".py",
   "mimetype": "text/x-python",
   "name": "python",
   "nbconvert_exporter": "python",
   "pygments_lexer": "ipython3",
   "version": "3.9.7"
  },
  "minecraft": {
   "description": "第1節",
   "page_id": "1.1",
   "page_name": "第1節",
   "style": "minecraft.css"
  }
 },
 "nbformat": 4,
 "nbformat_minor": 4
}
