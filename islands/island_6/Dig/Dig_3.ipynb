{
 "cells": [
  {
   "cell_type": "markdown",
   "metadata": {},
   "source": [
    "## Step 5\n",
    "\n",
    "Finally, we will use the `append` function on our `coordinates` list, to record the coordinates of the fossils. The `append` function allows us to add a new item on the end of a list.\n",
    "\n",
    "Here's an example on how to use `append`...\n",
    "```python\n",
    "my_list = [\"A\", \"B\", \"C\"]\n",
    "my_list.append(\"D\") # my_list will now contain \"A\", \"B\", \"C\" AND \"D\"\n",
    "```\n",
    "\n",
    "You can also get your Agent's current position by using `agent.position`.\n",
    "\n",
    "When all the code has been run, your Agent will submit the coordinates for checking by the team.\n",
    "\n",
    "**Write the code so that when a fossil is found, `agent.position` is appended to the `coordinates` list.**"
   ]
  },
  {
   "cell_type": "code",
   "execution_count": null,
   "metadata": {
    "minecraft": {
     "closeCodeBuilderOnRun": true,
     "default_code": "coordinates = []\n\nfor row in range(0,4):\n    for col in range(0,4):\n        if is_fossil_below():\n            say(\"Fossil!\")\n            coordinates.append(agent.position)\n        \n        # Add code above to move the Agent forward\n    return_agent() # This moves the agent to the back wall\n    \n    # Add code above to move the Agent left\n\n# Submit co-ordinates for checking\nsubmit(coordinates)",
     "onCodeCancelledCommand": "scoreboard players set @s codeExecution 0",
     "onCodeErrorCommand": "scoreboard players set @s codeExecution -1",
     "onCodeStartedCommand": "scoreboard players set @s codeExecution 1",
     "onCodeStoppedCommand": "scoreboard players set @s codeExecution 0",
     "onCodeSuccessfulCommand": "scoreboard players set @s codeExecution 2",
     "overridePython": "def return_agent():\n    agent.move(\"back\")\n    agent.move(\"back\")\n    agent.move(\"back\")\n\ndef is_fossil_below():\n    inspect = agent.inspect(\"down\")\n    if inspect:\n        block = str(inspect.id)\n        return block == \"coral_block\"\n    else:\n        return False\n\ndef submit(final):\n    check = []\n    for e in final:\n        check.append(str(e))\n    if [\"1019 1039 110\",\"1018 1039 111\",\"1017 1039 109\"].sort() == check.sort() and len(check) == 3:\n        world.set(\"991 144 122\", \"barrier\")\n    else:\n        show_title(\"Hmmm...\", \"All of the coordinates don't lead to fossils... Try again.\")\n\n@user-code\n",
     "readonly": false
    },
    "tags": []
   },
   "outputs": [],
   "source": [
    "coordinates = []\n",
    "\n",
    "for row in range(0,4):\n",
    "    for col in range(0,4):\n",
    "        if is_fossil_below():\n",
    "            \n",
    "            # Add your append code above\n",
    "            say(\"Fossil!\")\n",
    "        agent.move(\"forward\")\n",
    "    return_agent()\n",
    "    agent.move(\"left\")\n",
    "\n",
    "# Submit co-ordinates for checking\n",
    "submit(coordinates)"
   ]
  },
  {
   "cell_type": "markdown",
   "metadata": {},
   "source": [
    "Great! When you're ready, run your code and find those fossils!"
   ]
  }
 ],
 "metadata": {
  "kernelspec": {
   "display_name": "Python 3 (ipykernel)",
   "language": "python",
   "name": "python3"
  },
  "language_info": {
   "codemirror_mode": {
    "name": "ipython",
    "version": 3
   },
   "file_extension": ".py",
   "mimetype": "text/x-python",
   "name": "python",
   "nbconvert_exporter": "python",
   "pygments_lexer": "ipython3",
   "version": "3.9.7"
  },
  "minecraft": {
   "description": "Section 3",
   "page_id": "1.3",
   "page_name": "Section 3",
   "style": "minecraft.css"
  }
 },
 "nbformat": 4,
 "nbformat_minor": 4
}
