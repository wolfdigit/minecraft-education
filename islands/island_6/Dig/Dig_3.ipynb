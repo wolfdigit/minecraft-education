{
 "cells": [
  {
   "cell_type": "markdown",
   "metadata": {},
   "source": [
    "## 步驟 5\n",
    "\n",
    "最後，我們將使用 `append` 函數將化石的座標記錄到我們的 `coordinates` 列表中。`append` 函數讓我們在列表的末尾添加一個新項目。\n",
    "\n",
    "這裡是如何使用 `append` 的範例...\n",
    "```python\n",
    "my_list = [\"A\", \"B\", \"C\"]\n",
    "my_list.append(\"D\") # my_list 現在會包含 \"A\", \"B\", \"C\" 和 \"D\"\n",
    "```\n",
    "\n",
    "您也可以使用 `agent.position` 獲取您的agent的當前位置。\n",
    "\n",
    "當所有代碼都執行完畢後，您的Agent將提交座標供團隊檢查。\n",
    "\n",
    "**寫個程式，在找到化石時，將 agent.position 添加到 coordinates 列表中。**"
   ]
  },
  {
   "cell_type": "code",
   "execution_count": null,
   "metadata": {
    "minecraft": {
     "closeCodeBuilderOnRun": true,
     "default_code": "coordinates = []\n\nfor row in range(0,4):\n    for col in range(0,4):\n        if is_fossil_below():\n            say(\"Fossil!\")\n            coordinates.append(agent.position)\n        \n        # Add code above to move the Agent forward\n    return_agent() # This moves the agent to the back wall\n    \n    # Add code above to move the Agent left\n\n# Submit co-ordinates for checking\nsubmit(coordinates)",
     "onCodeCancelledCommand": "scoreboard players set @s codeExecution 0",
     "onCodeErrorCommand": "scoreboard players set @s codeExecution -1",
     "onCodeStartedCommand": "scoreboard players set @s codeExecution 1",
     "onCodeStoppedCommand": "scoreboard players set @s codeExecution 0",
     "onCodeSuccessfulCommand": "scoreboard players set @s codeExecution 2",
     "overridePython": "def return_agent():\n    agent.move(\"back\")\n    agent.move(\"back\")\n    agent.move(\"back\")\n\ndef is_fossil_below():\n    inspect = agent.inspect(\"down\")\n    if inspect:\n        block = str(inspect.id)\n        return block == \"coral_block\"\n    else:\n        return False\n\ndef submit(final):\n    check = []\n    for e in final:\n        check.append(str(e))\n    if [\"1019 1039 110\",\"1018 1039 111\",\"1017 1039 109\"].sort() == check.sort() and len(check) == 3:\n        world.set(\"991 144 122\", \"barrier\")\n    else:\n        show_title(\"Hmmm...\", \"All of the coordinates don't lead to fossils... Try again.\")\n\n@user-code\n",
     "readonly": false
    },
    "tags": []
   },
   "outputs": [],
   "source": [
    "coordinates = []\n",
    "\n",
    "for row in range(0,4):\n",
    "    for col in range(0,4):\n",
    "        if is_fossil_below():\n",
    "            \n",
    "            # Add your append code above\n",
    "            say(\"Fossil!\")\n",
    "        agent.move(\"forward\")\n",
    "    return_agent()\n",
    "    agent.move(\"left\")\n",
    "\n",
    "# Submit co-ordinates for checking\n",
    "submit(coordinates)"
   ]
  },
  {
   "cell_type": "markdown",
   "metadata": {},
   "source": [
    "很好！ 當你準備好之後，執行你的程式碼並找出那些化石！"
   ]
  }
 ],
 "metadata": {
  "kernelspec": {
   "display_name": "Python 3 (ipykernel)",
   "language": "python",
   "name": "python3"
  },
  "language_info": {
   "codemirror_mode": {
    "name": "ipython",
    "version": 3
   },
   "file_extension": ".py",
   "mimetype": "text/x-python",
   "name": "python",
   "nbconvert_exporter": "python",
   "pygments_lexer": "ipython3",
   "version": "3.9.7"
  },
  "minecraft": {
   "description": "第3節",
   "page_id": "1.3",
   "page_name": "第3節",
   "style": "minecraft.css"
  }
 },
 "nbformat": 4,
 "nbformat_minor": 4
}
