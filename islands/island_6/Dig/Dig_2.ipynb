{
 "cells": [
  {
   "cell_type": "markdown",
   "metadata": {},
   "source": [
    "## 步驟 3\n",
    "\n",
    "現在，有了迴圈，讓我們寫一些程式碼來移動您的Agent。\n",
    "\n",
    "使用 `agent.move` 函數將Agent向前移動forward和向左left移動。`return_agent()` 函數將Agent快速移動到後牆，以便您可以繼續移動到下一組方塊進行掃描。\n",
    "\n",
    "**在每個 for 迴圈的末尾添加一個 `agent.move`。一個是將Agent向前`\"forward\"`移動，另一個是將Agent向左`\"left\"`移動。**"
   ]
  },
  {
   "cell_type": "code",
   "execution_count": null,
   "metadata": {
    "minecraft": {
     "closeCodeBuilderOnRun": true,
     "onCodeCancelledCommand": "scoreboard players set @s codeExecution 0",
     "onCodeErrorCommand": "scoreboard players set @s codeExecution -1",
     "onCodeStartedCommand": "scoreboard players set @s codeExecution 1",
     "onCodeStoppedCommand": "scoreboard players set @s codeExecution 0",
     "onCodeSuccessfulCommand": "scoreboard players set @s codeExecution 2",
     "overridePython": "def return_agent():\n    agent.move(\"back\")\n    agent.move(\"back\")\n    agent.move(\"back\")\n\ndef is_fossil_below():\n    inspect = agent.inspect(\"down\")\n    if inspect:\n        block = str(inspect.id)\n        return block == \"coral_block\"\n    else:\n        return False\n\ndef submit(final):\n    check = []\n    for e in final:\n        check.append(str(e))\n    if [\"1019 1039 110\",\"1018 1039 111\",\"1017 1039 109\"].sort() == check.sort() and len(check) == 3:\n        world.set(\"991 144 122\", \"barrier\")\n    else:\n        show_title(\"Hmmm...\", \"All of the coordinates don't lead to fossils... Try again.\")\n\n@user-code\n",
     "readonly": false
    },
    "tags": []
   },
   "outputs": [],
   "source": [
    "coordinates = []\n",
    "\n",
    "for row in range(0,4):\n",
    "    for col in range(0,4):\n",
    "        \n",
    "        # 在上面這行加入程式碼將Agent向前移動\n",
    "    return_agent() # Moves the Agent to the back wall\n",
    "    \n",
    "    # 在上面這行加入程式碼將Agent向左移動"
   ]
  },
  {
   "cell_type": "markdown",
   "metadata": {},
   "source": [
    "## 步驟 4\n",
    "\n",
    "現在迴圈已經設置好了。讓我們寫一些程式碼來檢測當agent下方有化石時的情況。   \n",
    "\n",
    "使用 `is_fossil_below()` 函數，當agent下方有化石時它將返回 `True`，當沒有化石時它將返回 `False`。\n",
    "\n",
    "**在迴圈內部編寫一個 `if` 敘述，當 `is_fossil_below()` 為 `True` 時運行程式碼。**"
   ]
  },
  {
   "cell_type": "code",
   "execution_count": null,
   "metadata": {
    "minecraft": {
     "closeCodeBuilderOnRun": true,
     "onCodeCancelledCommand": "scoreboard players set @s codeExecution 0",
     "onCodeErrorCommand": "scoreboard players set @s codeExecution -1",
     "onCodeStartedCommand": "scoreboard players set @s codeExecution 1",
     "onCodeStoppedCommand": "scoreboard players set @s codeExecution 0",
     "onCodeSuccessfulCommand": "scoreboard players set @s codeExecution 2",
     "overridePython": "def return_agent():\n    agent.move(\"back\")\n    agent.move(\"back\")\n    agent.move(\"back\")\n\ndef is_fossil_below():\n    inspect = agent.inspect(\"down\")\n    if inspect:\n        block = str(inspect.id)\n        return block == \"coral_block\"\n    else:\n        return False\n\ndef submit(final):\n    check = []\n    for e in final:\n        check.append(str(e))\n    if [\"1019 1039 110\",\"1018 1039 111\",\"1017 1039 109\"].sort() == check.sort() and len(check) == 3:\n        world.set(\"991 144 122\", \"barrier\")\n    else:\n        show_title(\"Hmmm...\", \"All of the coordinates don't lead to fossils... Try again.\")\n\n@user-code\n",
     "readonly": false
    },
    "tags": []
   },
   "outputs": [],
   "source": [
    "coordinates = []\n",
    "\n",
    "for row in range(0,4):\n",
    "    for col in range(0,4):\n",
    "        if                  :\n",
    "        # Add your if statement above\n",
    "            say(\"化石!\")\n",
    "        agent.move(\"forward\")\n",
    "    return_agent()\n",
    "    agent.move(\"left\")"
   ]
  },
  {
   "cell_type": "markdown",
   "metadata": {},
   "source": [
    "當你準備好繼續時，按下一步。"
   ]
  }
 ],
 "metadata": {
  "kernelspec": {
   "display_name": "Python 3 (ipykernel)",
   "language": "python",
   "name": "python3"
  },
  "language_info": {
   "codemirror_mode": {
    "name": "ipython",
    "version": 3
   },
   "file_extension": ".py",
   "mimetype": "text/x-python",
   "name": "python",
   "nbconvert_exporter": "python",
   "pygments_lexer": "ipython3",
   "version": "3.9.7"
  },
  "minecraft": {
   "description": "第2節",
   "page_id": "1.2",
   "page_name": "第2節",
   "style": "minecraft.css"
  }
 },
 "nbformat": 4,
 "nbformat_minor": 4
}
