{
 "cells": [
  {
   "cell_type": "code",
   "execution_count": null,
   "metadata": {
    "minecraft": {
     "closeCodeBuilderOnRun": true,
     "hidden": true
    }
   },
   "outputs": [],
   "source": [
    "def return_agent():\n",
    "    agent.move(\"back\")\n",
    "    agent.move(\"back\")\n",
    "    agent.move(\"back\")\n",
    "\n",
    "def is_fossil_below():\n",
    "    inspect = agent.inspect(\"down\")\n",
    "    if inspect:\n",
    "        block = str(inspect.id)\n",
    "        return block == \"coral_block\"\n",
    "    else:\n",
    "        return False\n",
    "\n",
    "def submit(final):\n",
    "    check = []\n",
    "    for e in final:\n",
    "        check.append(str(e))\n",
    "    if [\"1019 1039 110\",\"1018 1039 111\",\"1017 1039 109\"].sort() == check.sort() and len(check) == 3:\n",
    "        world.set(\"991 144 122\", \"barrier\")\n",
    "    else:\n",
    "        show_title(\"Hmmm...\", \"All of the coordinates don't lead to fossils... Try again.\")\n",
    "\n",
    "# User Code \n",
    "coordinates = []\n",
    "\n",
    "for x in range(0,4):\n",
    "    for y in range(0,4):\n",
    "        if is_fossil_below():\n",
    "            coordinates.append(agent.position)\n",
    "        agent.move(\"forward\")\n",
    "    return_agent()\n",
    "    agent.move(\"left\")\n",
    "\n",
    "submit(coordinates)\n",
    "\n",
    "# End of user code\n",
    "\n",
    "# CODE ONLY IN STEP 1 TO CONFIRM A LIST HAS BEEN CREATED\n",
    "if coordinates==[]:\n",
    "    say(\"List Successfully Created!\")\n",
    "else:\n",
    "    raise Exception(\" coordinates is not set to empty list\")"
   ]
  },
  {
   "cell_type": "markdown",
   "metadata": {},
   "source": [
    "# Dig for Dinosaurs\n",
    "\n",
    "Recently, the island archaeology team have discovered some pre-historic artifacts. Use your Agent to find the ancient fossils hidden below the ground!\n",
    "\n",
    "![Cover image](cover.png)"
   ]
  },
  {
   "cell_type": "markdown",
   "metadata": {},
   "source": [
    "## Step 1\n",
    "\n",
    "Your agent will be locating the fossils using its powerful sensors, then passing on the location of each to the archaeological team to excavate.      \n",
    "To do this, it will store each fossil location in a list, which can be handed over to the team once your survey is complete.   \n",
    "\n",
    "Here's a reminder on how to create a list...\n",
    "```python\n",
    "my_list = [] # This is an empty list, with no items\n",
    "```\n",
    "\n",
    "**Create a list called `coordinates` and set it equal to a new empty list!**"
   ]
  },
  {
   "cell_type": "code",
   "execution_count": null,
   "metadata": {
    "minecraft": {
     "closeCodeBuilderOnRun": true,
     "onCodeCancelledCommand": "scoreboard players set @s codeExecution 0",
     "onCodeErrorCommand": "scoreboard players set @s codeExecution -1",
     "onCodeStartedCommand": "scoreboard players set @s codeExecution 1",
     "onCodeStoppedCommand": "scoreboard players set @s codeExecution 0",
     "onCodeSuccessfulCommand": "scoreboard players set @s codeExecution 2",
     "overridePython": "def return_agent():\n    agent.move(\"back\")\n    agent.move(\"back\")\n    agent.move(\"back\")\n\ndef is_fossil_below():\n    inspect = agent.inspect(\"down\")\n    if inspect:\n        block = str(inspect.id)\n        return block == \"coral_block\"\n    else:\n        return False\n\ndef submit(final):\n    check = []\n    for e in final:\n        check.append(str(e))\n    if [\"1019 1039 110\",\"1018 1039 111\",\"1017 1039 109\"].sort() == check.sort() and len(check) == 3:\n        world.set(\"991 144 122\", \"barrier\")\n    else:\n        show_title(\"Hmmm...\", \"All of the coordinates don't lead to fossils... Try again.\")\n\n@user-code\n\n# CODE ONLY IN STEP 1 TO CONFIRM A LIST HAS BEEN CREATED\nif coordinates==[]:\n    say(\"List Successfully Created!\")\nelse:\n    raise Exception(\" coordinates is not set to empty list\")",
     "readonly": false
    },
    "tags": []
   },
   "outputs": [],
   "source": [
    "\n",
    "# Add your code above"
   ]
  },
  {
   "cell_type": "markdown",
   "metadata": {},
   "source": [
    "## Step 2\n",
    "\n",
    "With our list ready to be used, we will now set up two `for loops` to run our code in.\n",
    "\n",
    "As the area that we are scanning is 4 blocks by 4 blocks, both of the loops will only go up to 4.   \n",
    "\n",
    "We use 2 `for loops` to cover the 2D space, instead of just a single line.   \n",
    "\n",
    "**Complete the two `for` loops below to each run `4` times!** "
   ]
  },
  {
   "cell_type": "code",
   "execution_count": null,
   "metadata": {
    "minecraft": {
     "closeCodeBuilderOnRun": true,
     "onCodeCancelledCommand": "scoreboard players set @s codeExecution 0",
     "onCodeErrorCommand": "scoreboard players set @s codeExecution -1",
     "onCodeStartedCommand": "scoreboard players set @s codeExecution 1",
     "onCodeStoppedCommand": "scoreboard players set @s codeExecution 0",
     "onCodeSuccessfulCommand": "scoreboard players set @s codeExecution 2",
     "overridePython": "def return_agent():\n    agent.move(\"back\")\n    agent.move(\"back\")\n    agent.move(\"back\")\n\ndef is_fossil_below():\n    inspect = agent.inspect(\"down\")\n    if inspect:\n        block = str(inspect.id)\n        return block == \"coral_block\"\n    else:\n        return False\n\ndef submit(final):\n    check = []\n    for e in final:\n        check.append(str(e))\n    if [\"1019 1039 110\",\"1018 1039 111\",\"1017 1039 109\"].sort() == check.sort() and len(check) == 3:\n        world.set(\"991 144 122\", \"barrier\")\n    else:\n        show_title(\"Hmmm...\", \"All of the coordinates don't lead to fossils... Try again.\")\n\n@user-code\n",
     "readonly": false
    },
    "tags": []
   },
   "outputs": [],
   "source": [
    "coordinates = []\n",
    "\n",
    "for row in range(0,    ):\n",
    "    for col                 :\n",
    "        # Complete both the for loops above\n",
    "        say(row)\n",
    "        say(col)"
   ]
  },
  {
   "cell_type": "markdown",
   "metadata": {},
   "source": [
    "When you're ready, press next to continue."
   ]
  }
 ],
 "metadata": {
  "kernelspec": {
   "display_name": "Python 3 (ipykernel)",
   "language": "python",
   "name": "python3"
  },
  "language_info": {
   "codemirror_mode": {
    "name": "ipython",
    "version": 3
   },
   "file_extension": ".py",
   "mimetype": "text/x-python",
   "name": "python",
   "nbconvert_exporter": "python",
   "pygments_lexer": "ipython3",
   "version": "3.9.7"
  },
  "minecraft": {
   "description": "Section 1",
   "page_id": "1.1",
   "page_name": "Section 1",
   "style": "minecraft.css"
  }
 },
 "nbformat": 4,
 "nbformat_minor": 4
}
