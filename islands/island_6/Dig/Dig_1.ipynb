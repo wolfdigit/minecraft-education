{
 "cells": [
  {
   "cell_type": "code",
   "execution_count": null,
   "metadata": {
    "minecraft": {
     "closeCodeBuilderOnRun": true,
     "hidden": true
    }
   },
   "outputs": [],
   "source": [
    "def return_agent():\n",
    "    agent.move(\"back\")\n",
    "    agent.move(\"back\")\n",
    "    agent.move(\"back\")\n",
    "\n",
    "def is_fossil_below():\n",
    "    inspect = agent.inspect(\"down\")\n",
    "    if inspect:\n",
    "        block = str(inspect.id)\n",
    "        return block == \"coral_block\"\n",
    "    else:\n",
    "        return False\n",
    "\n",
    "def submit(final):\n",
    "    check = []\n",
    "    for e in final:\n",
    "        check.append(str(e))\n",
    "    if [\"1019 1039 110\",\"1018 1039 111\",\"1017 1039 109\"].sort() == check.sort() and len(check) == 3:\n",
    "        world.set(\"991 144 122\", \"barrier\")\n",
    "    else:\n",
    "        show_title(\"Hmmm...\", \"All of the coordinates don't lead to fossils... Try again.\")\n",
    "\n",
    "# User Code \n",
    "coordinates = []\n",
    "\n",
    "for x in range(0,4):\n",
    "    for y in range(0,4):\n",
    "        if is_fossil_below():\n",
    "            coordinates.append(agent.position)\n",
    "        agent.move(\"forward\")\n",
    "    return_agent()\n",
    "    agent.move(\"left\")\n",
    "\n",
    "submit(coordinates)\n",
    "\n",
    "# End of user code\n",
    "\n",
    "# CODE ONLY IN STEP 1 TO CONFIRM A LIST HAS BEEN CREATED\n",
    "if coordinates==[]:\n",
    "    say(\"List Successfully Created!\")\n",
    "else:\n",
    "    raise Exception(\" coordinates is not set to empty list\")"
   ]
  },
  {
   "cell_type": "markdown",
   "metadata": {},
   "source": [
    "# 挖掘恐龍\n",
    "\n",
    "最近，島上的考古隊伍發現了一些史前文物。使用你的 Agent 找到藏在地下的古代化石！\n",
    "\n",
    "![Cover image](cover.png)"
   ]
  },
  {
   "cell_type": "markdown",
   "metadata": {},
   "source": [
    "## 步驟 1\n",
    "\n",
    "您的agent將使用其強大的感測器來定位化石，然後將每個化石的位置傳遞給考古隊伍進行挖掘。      \n",
    "為了做到這一點，它將把每個化石的位置存儲在一個列表中，一旦您的調查完成，就可以將這個列表交給考古隊伍。   \n",
    "\n",
    "這裡是如何創建一個列表的提醒...\n",
    "```python\n",
    "my_list = [] # 這是一個空的list，裡面沒有項目\n",
    "```\n",
    "\n",
    "**創建一個名為 `coordinates` 的列表，並將其設置為一個空的新列表！**"
   ]
  },
  {
   "cell_type": "code",
   "execution_count": null,
   "metadata": {
    "minecraft": {
     "closeCodeBuilderOnRun": true,
     "onCodeCancelledCommand": "scoreboard players set @s codeExecution 0",
     "onCodeErrorCommand": "scoreboard players set @s codeExecution -1",
     "onCodeStartedCommand": "scoreboard players set @s codeExecution 1",
     "onCodeStoppedCommand": "scoreboard players set @s codeExecution 0",
     "onCodeSuccessfulCommand": "scoreboard players set @s codeExecution 2",
     "overridePython": "def return_agent():\n    agent.move(\"back\")\n    agent.move(\"back\")\n    agent.move(\"back\")\n\ndef is_fossil_below():\n    inspect = agent.inspect(\"down\")\n    if inspect:\n        block = str(inspect.id)\n        return block == \"coral_block\"\n    else:\n        return False\n\ndef submit(final):\n    check = []\n    for e in final:\n        check.append(str(e))\n    if [\"1019 1039 110\",\"1018 1039 111\",\"1017 1039 109\"].sort() == check.sort() and len(check) == 3:\n        world.set(\"991 144 122\", \"barrier\")\n    else:\n        show_title(\"Hmmm...\", \"All of the coordinates don't lead to fossils... Try again.\")\n\n@user-code\n\n# CODE ONLY IN 步驟 1 TO CONFIRM A LIST HAS BEEN CREATED\nif coordinates==[]:\n    say(\"List Successfully Created!\")\nelse:\n    raise Exception(\" coordinates is not set to empty list\")",
     "readonly": false
    },
    "tags": []
   },
   "outputs": [],
   "source": [
    "\n",
    "# Add your code above"
   ]
  },
  {
   "cell_type": "markdown",
   "metadata": {},
   "source": [
    "## 步驟 2\n",
    "\n",
    "準備好使用我們的列表後，我們現在將設置兩個 `for` 迴圈來運行我們的代碼。\n",
    "\n",
    "由於我們掃描的區域是 4 個方塊乘以 4 個方塊，因此這兩個迴圈只需要執行到 4。   \n",
    "\n",
    "我們使用兩個 `for迴圈` 來覆蓋 2D 空間，而不僅僅是一條直線。   \n",
    "\n",
    "**完成下面的兩個 `for` 迴圈，使每個迴圈運行 4 次！** "
   ]
  },
  {
   "cell_type": "code",
   "execution_count": null,
   "metadata": {
    "minecraft": {
     "closeCodeBuilderOnRun": true,
     "onCodeCancelledCommand": "scoreboard players set @s codeExecution 0",
     "onCodeErrorCommand": "scoreboard players set @s codeExecution -1",
     "onCodeStartedCommand": "scoreboard players set @s codeExecution 1",
     "onCodeStoppedCommand": "scoreboard players set @s codeExecution 0",
     "onCodeSuccessfulCommand": "scoreboard players set @s codeExecution 2",
     "overridePython": "def return_agent():\n    agent.move(\"back\")\n    agent.move(\"back\")\n    agent.move(\"back\")\n\ndef is_fossil_below():\n    inspect = agent.inspect(\"down\")\n    if inspect:\n        block = str(inspect.id)\n        return block == \"coral_block\"\n    else:\n        return False\n\ndef submit(final):\n    check = []\n    for e in final:\n        check.append(str(e))\n    if [\"1019 1039 110\",\"1018 1039 111\",\"1017 1039 109\"].sort() == check.sort() and len(check) == 3:\n        world.set(\"991 144 122\", \"barrier\")\n    else:\n        show_title(\"Hmmm...\", \"All of the coordinates don't lead to fossils... Try again.\")\n\n@user-code\n",
     "readonly": false
    },
    "tags": []
   },
   "outputs": [],
   "source": [
    "coordinates = []\n",
    "\n",
    "for row in range(0,    ):\n",
    "    for col                 :\n",
    "        # Complete both the for loops above\n",
    "        say(row)\n",
    "        say(col)"
   ]
  },
  {
   "cell_type": "markdown",
   "metadata": {},
   "source": [
    "當你準備好時，按下一步繼續。"
   ]
  }
 ],
 "metadata": {
  "kernelspec": {
   "display_name": "Python 3 (ipykernel)",
   "language": "python",
   "name": "python3"
  },
  "language_info": {
   "codemirror_mode": {
    "name": "ipython",
    "version": 3
   },
   "file_extension": ".py",
   "mimetype": "text/x-python",
   "name": "python",
   "nbconvert_exporter": "python",
   "pygments_lexer": "ipython3",
   "version": "3.9.7"
  },
  "minecraft": {
   "description": "第1節",
   "page_id": "1.1",
   "page_name": "第1節",
   "style": "minecraft.css"
  }
 },
 "nbformat": 4,
 "nbformat_minor": 4
}
