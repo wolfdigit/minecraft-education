{
 "cells": [
  {
   "cell_type": "markdown",
   "metadata": {},
   "source": [
    "# 寶物獵人"
   ]
  },
  {
   "cell_type": "markdown",
   "metadata": {},
   "source": [
    "![Cover image](From_Plant_To_Dig.png)\n",
    "\n",
    "對於您的下一個任務，總理要求將文物裝上火箭。您應該能在地下挖掘場找到一些。\n",
    "\n",
    "*注意：要進入挖掘場，請過橋返回主島，然後向右轉。*"
   ]
  }
 ],
 "metadata": {
  "kernelspec": {
   "display_name": "Python 3",
   "language": "python",
   "name": "python3"
  },
  "language_info": {
   "codemirror_mode": {
    "name": "ipython",
    "version": 3
   },
   "file_extension": ".py",
   "mimetype": "text/x-python",
   "name": "python",
   "nbconvert_exporter": "python",
   "pygments_lexer": "ipython3",
   "version": "3.9.1"
  },
  "minecraft": {
   "description": "第1節",
   "page_id": "1.1",
   "page_name": "第1節",
   "style": "minecraft.css"
  }
 },
 "nbformat": 4,
 "nbformat_minor": 4
}
