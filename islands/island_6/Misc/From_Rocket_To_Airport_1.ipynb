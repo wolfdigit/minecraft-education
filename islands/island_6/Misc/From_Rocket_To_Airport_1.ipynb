{
 "cells": [
  {
   "cell_type": "markdown",
   "metadata": {},
   "source": [
    "# 到貨的時候！"
   ]
  },
  {
   "cell_type": "markdown",
   "metadata": {},
   "source": [
    "![Cover image](From_Rocket_To_Airport.png)\n",
    "\n",
    "一架搭載火箭所需替換零件的飛機無法在跑道上降落！您需要迅速進行修復，以便飛機能夠降落！\n",
    "趕快前往機場！它位於自己的島上，靠近飯店/博物館附近有通道可供進入。"
   ]
  }
 ],
 "metadata": {
  "kernelspec": {
   "display_name": "Python 3",
   "language": "python",
   "name": "python3"
  },
  "language_info": {
   "codemirror_mode": {
    "name": "ipython",
    "version": 3
   },
   "file_extension": ".py",
   "mimetype": "text/x-python",
   "name": "python",
   "nbconvert_exporter": "python",
   "pygments_lexer": "ipython3",
   "version": "3.8.3"
  },
  "minecraft": {
   "description": "第1節",
   "page_id": "1.1",
   "page_name": "第1節",
   "style": "minecraft.css"
  }
 },
 "nbformat": 4,
 "nbformat_minor": 4
}
