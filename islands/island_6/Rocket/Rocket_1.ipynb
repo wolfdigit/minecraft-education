{
 "cells": [
  {
   "cell_type": "code",
   "execution_count": null,
   "metadata": {
    "minecraft": {
     "closeCodeBuilderOnRun": true,
     "hidden": true,
     "onCodeCancelledCommand": "scoreboard players set @s codeExecution 0",
     "onCodeErrorCommand": "scoreboard players set @s codeExecution -1",
     "onCodeStartedCommand": "scoreboard players set @s codeExecution 1",
     "onCodeStoppedCommand": "scoreboard players set @s codeExecution 0",
     "onCodeSuccessfulCommand": "scoreboard players set @s codeExecution 2",
     "overridePython": "accepted_blocks = [\"coal_block\", \"concrete\", \"stained_glass\", \"quartz_block\", \"smooth_quartz_stairs\", \"iron_bars\"]\ndef accept():\n    agent.place(\"back\", 1)\ndef deny():\n    agent.place(\"back\", 2)",
     "readonly": false
    }
   },
   "outputs": [],
   "source": [
    "accepted_blocks = [\"coal_block\", \"concrete\", \"stained_glass\", \"quartz_block\", \"smooth_quartz_stairs\", \"iron_bars\"]\n",
    "def accept():\n",
    "    agent.place(\"back\", 1)\n",
    "def deny():\n",
    "    agent.place(\"back\", 2)\n",
    "\n",
    "# User Code\n",
    "for height in range(0,26):\n",
    "    block = agent.inspect(\"forward\").id\n",
    "    if (block in accepted_blocks):\n",
    "        say(\"Accept\")\n",
    "        accept()\n",
    "    else:\n",
    "        say(\"Deny\")\n",
    "        deny()\n",
    "    agent.move(\"up\")\n",
    "# End of User Code"
   ]
  },
  {
   "cell_type": "markdown",
   "metadata": {},
   "source": [
    "# 維修火箭\n",
    "\n",
    "火箭需要檢查是否有裂縫！使用您的agent來檢測是否有損壞/破裂的方塊。如果有，您應該標記這些方塊進行修復。\n",
    "\n",
    "![Cover image](cover.png)"
   ]
  },
  {
   "cell_type": "markdown",
   "metadata": {},
   "source": [
    "## 步驟 1\n",
    "\n",
    "首先，我們需要讓Agent檢查它前面的方塊的詳細訊息，然後將該值存儲到一個變數中。\n",
    "\n",
    "**完成下面的代碼，使用 `agent.inspect` 檢查 前方\"forward\"，以獲取其前方方塊的詳細訊息。**"
   ]
  },
  {
   "cell_type": "code",
   "execution_count": null,
   "metadata": {
    "minecraft": {
     "closeCodeBuilderOnRun": true,
     "onCodeCancelledCommand": "scoreboard players set @s codeExecution 0",
     "onCodeErrorCommand": "scoreboard players set @s codeExecution -1",
     "onCodeStartedCommand": "scoreboard players set @s codeExecution 1",
     "onCodeStoppedCommand": "scoreboard players set @s codeExecution 0",
     "onCodeSuccessfulCommand": "scoreboard players set @s codeExecution 2",
     "overridePython": "accepted_blocks = [\"coal_block\", \"concrete\", \"stained_glass\", \"quartz_block\", \"smooth_quartz_stairs\", \"iron_bars\"]\n# DENY and ACCEPT functions from f2 Farm task\ndef accept():\n    agent.place(\"back\", 1)\ndef deny():\n    agent.place(\"back\", 2)\n@user-code",
     "readonly": false
    }
   },
   "outputs": [],
   "source": [
    "block = agent.    (    ).id\n",
    "# Complete the code above\n",
    "say(block)"
   ]
  },
  {
   "cell_type": "markdown",
   "metadata": {},
   "source": [
    "## 步驟 2\n",
    "\n",
    "有了方塊訊息後，我們現在可以檢查它是否包含在科學家給agent的 `accepted_blocks` 列表中。這些是每個方塊的可接受狀態。    \n",
    "我們可以很容易的檢查每個方塊，使用一個叫做`in`的關鍵字。 \n",
    "\n",
    "使用`in`我們可以檢查一個值有沒有**被包含在一個列表裡**。 如果它有在列表裡，則它會返回`True`。 請看這個範例：\n",
    "```python\n",
    "my_list = [\"A\", \"B\", \"C\", \"D\"]\n",
    "if \"B\" in my_list:\n",
    "    say(\"True!\") # This would print \"True!\" as \"B\" is in my_list\n",
    "```\n",
    "\n",
    "**添加程式碼來檢查 `block` 變數是否(`if`)包含(`in`)在列表 `accepted_blocks` 中。如果是，則在呼叫 `say` 函數後再呼叫 `accept()` 函數，告訴科學家。**"
   ]
  },
  {
   "cell_type": "code",
   "execution_count": null,
   "metadata": {
    "minecraft": {
     "closeCodeBuilderOnRun": true,
     "onCodeCancelledCommand": "scoreboard players set @s codeExecution 0",
     "onCodeErrorCommand": "scoreboard players set @s codeExecution -1",
     "onCodeStartedCommand": "scoreboard players set @s codeExecution 1",
     "onCodeStoppedCommand": "scoreboard players set @s codeExecution 0",
     "onCodeSuccessfulCommand": "scoreboard players set @s codeExecution 2",
     "overridePython": "accepted_blocks = [\"coal_block\", \"concrete\", \"stained_glass\", \"quartz_block\", \"smooth_quartz_stairs\", \"iron_bars\"]\n# DENY and ACCEPT functions from f2 Farm task\ndef accept():\n    agent.place(\"back\", 1)\ndef deny():\n    agent.place(\"back\", 2)\n@user-code",
     "readonly": false
    }
   },
   "outputs": [],
   "source": [
    "block = agent.inspect(\"forward\").id\n",
    "\n",
    "# Complete the if statement below\n",
    "if \n",
    "    say(\"Accept\")\n",
    "    \n",
    "    # Run the accept function above"
   ]
  },
  {
   "cell_type": "markdown",
   "metadata": {},
   "source": [
    "當你準備好後，按下一步進到下一節。"
   ]
  }
 ],
 "metadata": {
  "kernelspec": {
   "display_name": "Python 3 (ipykernel)",
   "language": "python",
   "name": "python3"
  },
  "language_info": {
   "codemirror_mode": {
    "name": "ipython",
    "version": 3
   },
   "file_extension": ".py",
   "mimetype": "text/x-python",
   "name": "python",
   "nbconvert_exporter": "python",
   "pygments_lexer": "ipython3",
   "version": "3.9.7"
  },
  "minecraft": {
   "description": "第1節",
   "page_id": "1.1",
   "page_name": "第1節",
   "style": "minecraft.css"
  }
 },
 "nbformat": 4,
 "nbformat_minor": 4
}
