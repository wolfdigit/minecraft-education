{
 "cells": [
  {
   "cell_type": "code",
   "execution_count": null,
   "metadata": {
    "minecraft": {
     "closeCodeBuilderOnRun": true,
     "hidden": true,
     "onCodeCancelledCommand": "scoreboard players set @s codeExecution 0",
     "onCodeErrorCommand": "scoreboard players set @s codeExecution -1",
     "onCodeStartedCommand": "scoreboard players set @s codeExecution 1",
     "onCodeStoppedCommand": "scoreboard players set @s codeExecution 0",
     "onCodeSuccessfulCommand": "scoreboard players set @s codeExecution 2",
     "overridePython": "accepted_blocks = [\"coal_block\", \"concrete\", \"stained_glass\", \"quartz_block\", \"smooth_quartz_stairs\", \"iron_bars\"]\ndef accept():\n    agent.place(\"back\", 1)\ndef deny():\n    agent.place(\"back\", 2)",
     "readonly": false
    }
   },
   "outputs": [],
   "source": [
    "accepted_blocks = [\"coal_block\", \"concrete\", \"stained_glass\", \"quartz_block\", \"smooth_quartz_stairs\", \"iron_bars\"]\n",
    "def accept():\n",
    "    agent.place(\"back\", 1)\n",
    "def deny():\n",
    "    agent.place(\"back\", 2)\n",
    "\n",
    "# User Code\n",
    "for height in range(0,26):\n",
    "    block = agent.inspect(\"forward\").id\n",
    "    if (block in accepted_blocks):\n",
    "        say(\"Accept\")\n",
    "        accept()\n",
    "    else:\n",
    "        say(\"Deny\")\n",
    "        deny()\n",
    "    agent.move(\"up\")\n",
    "# End of User Code"
   ]
  },
  {
   "cell_type": "markdown",
   "metadata": {},
   "source": [
    "# Rocket Repairs\n",
    "\n",
    "The rocket needs to be checked for cracks! Use your agent to detect if there are any damaged/cracked blocks. If there are, you should mark these for repair.\n",
    "\n",
    "![Cover image](cover.png)"
   ]
  },
  {
   "cell_type": "markdown",
   "metadata": {},
   "source": [
    "## Step 1\n",
    "\n",
    "To start, we are going to need to get the Agent to inspect the details of the block that is in front of it, then store the value to a variable.\n",
    "\n",
    "**Complete the code below, to use and `agent.inspect` to inspect `\"forward\"`, to get details of the block in front of it.**"
   ]
  },
  {
   "cell_type": "code",
   "execution_count": null,
   "metadata": {
    "minecraft": {
     "closeCodeBuilderOnRun": true,
     "onCodeCancelledCommand": "scoreboard players set @s codeExecution 0",
     "onCodeErrorCommand": "scoreboard players set @s codeExecution -1",
     "onCodeStartedCommand": "scoreboard players set @s codeExecution 1",
     "onCodeStoppedCommand": "scoreboard players set @s codeExecution 0",
     "onCodeSuccessfulCommand": "scoreboard players set @s codeExecution 2",
     "overridePython": "accepted_blocks = [\"coal_block\", \"concrete\", \"stained_glass\", \"quartz_block\", \"smooth_quartz_stairs\", \"iron_bars\"]\n# DENY and ACCEPT functions from f2 Farm task\ndef accept():\n    agent.place(\"back\", 1)\ndef deny():\n    agent.place(\"back\", 2)\n@user-code",
     "readonly": false
    }
   },
   "outputs": [],
   "source": [
    "block = agent.    (    ).id\n",
    "# Complete the code above\n",
    "say(block)"
   ]
  },
  {
   "cell_type": "markdown",
   "metadata": {},
   "source": [
    "## Step 2\n",
    "\n",
    "With the block available, we can now check if it's included in a list of `accepted_blocks` that was given to the agent from the scientist. These blocks are the acceptable state of each block.    \n",
    "We can check each block very easily, using a keyword called `in`. \n",
    "\n",
    "With `in` we can check if a value is **in a list**. If it is in the list, then it returns `True`. Here's an example:\n",
    "```python\n",
    "my_list = [\"A\", \"B\", \"C\", \"D\"]\n",
    "if \"B\" in my_list:\n",
    "    say(\"True!\") # This would print \"True!\" as \"B\" is in my_list\n",
    "```\n",
    "\n",
    "**Add code to check `if` the block variable is `in` the list `accepted_blocks`. If it is, run the `accept()` function after the say, to tell the scientists.**"
   ]
  },
  {
   "cell_type": "code",
   "execution_count": null,
   "metadata": {
    "minecraft": {
     "closeCodeBuilderOnRun": true,
     "onCodeCancelledCommand": "scoreboard players set @s codeExecution 0",
     "onCodeErrorCommand": "scoreboard players set @s codeExecution -1",
     "onCodeStartedCommand": "scoreboard players set @s codeExecution 1",
     "onCodeStoppedCommand": "scoreboard players set @s codeExecution 0",
     "onCodeSuccessfulCommand": "scoreboard players set @s codeExecution 2",
     "overridePython": "accepted_blocks = [\"coal_block\", \"concrete\", \"stained_glass\", \"quartz_block\", \"smooth_quartz_stairs\", \"iron_bars\"]\n# DENY and ACCEPT functions from f2 Farm task\ndef accept():\n    agent.place(\"back\", 1)\ndef deny():\n    agent.place(\"back\", 2)\n@user-code",
     "readonly": false
    }
   },
   "outputs": [],
   "source": [
    "block = agent.inspect(\"forward\").id\n",
    "\n",
    "# Complete the if statement below\n",
    "if \n",
    "    say(\"Accept\")\n",
    "    \n",
    "    # Run the accept function above"
   ]
  },
  {
   "cell_type": "markdown",
   "metadata": {},
   "source": [
    "When you're ready, press next to go to the next section."
   ]
  }
 ],
 "metadata": {
  "kernelspec": {
   "display_name": "Python 3 (ipykernel)",
   "language": "python",
   "name": "python3"
  },
  "language_info": {
   "codemirror_mode": {
    "name": "ipython",
    "version": 3
   },
   "file_extension": ".py",
   "mimetype": "text/x-python",
   "name": "python",
   "nbconvert_exporter": "python",
   "pygments_lexer": "ipython3",
   "version": "3.9.7"
  },
  "minecraft": {
   "description": "Section 1",
   "page_id": "1.1",
   "page_name": "Section 1",
   "style": "minecraft.css"
  }
 },
 "nbformat": 4,
 "nbformat_minor": 4
}
