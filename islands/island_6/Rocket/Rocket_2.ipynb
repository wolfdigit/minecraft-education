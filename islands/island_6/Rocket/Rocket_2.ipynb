{
 "cells": [
  {
   "cell_type": "markdown",
   "metadata": {},
   "source": [
    "## Step 3\n",
    "\n",
    "With the accepted blocks noted and flagged up to the scientists, let's turn our attention to the deny blocks.\n",
    "\n",
    "**Similar to the accepted blocks, finish the else statement with a `say` outputting `\"Deny\"` and run the `deny` function.**"
   ]
  },
  {
   "cell_type": "code",
   "execution_count": null,
   "metadata": {
    "minecraft": {
     "closeCodeBuilderOnRun": true,
     "onCodeCancelledCommand": "scoreboard players set @s codeExecution 0",
     "onCodeErrorCommand": "scoreboard players set @s codeExecution -1",
     "onCodeStartedCommand": "scoreboard players set @s codeExecution 1",
     "onCodeStoppedCommand": "scoreboard players set @s codeExecution 0",
     "onCodeSuccessfulCommand": "scoreboard players set @s codeExecution 2",
     "overridePython": "accepted_blocks = [\"coal_block\", \"concrete\", \"stained_glass\", \"quartz_block\", \"smooth_quartz_stairs\", \"iron_bars\"]\n# DENY and ACCEPT functions from f2 Farm task\ndef accept():\n    agent.place(\"back\", 1)\ndef deny():\n    agent.place(\"back\", 2)\n@user-code",
     "readonly": false
    }
   },
   "outputs": [],
   "source": [
    "block = agent.inspect(\"forward\").id\n",
    "if (block in accepted_blocks):\n",
    "    say(\"Accept\")\n",
    "    accept()\n",
    "else:\n",
    "    \n",
    "    \n",
    "    # Finish the else statement above to say 'Deny' and run the deny function"
   ]
  },
  {
   "cell_type": "markdown",
   "metadata": {},
   "source": [
    "## Step 4\n",
    "\n",
    "To wrap all of your code up, we're going to use a `for loop` to check each block above your Agent. The scientist has told you that the rocket is 26 blocks high.\n",
    "\n",
    "**Complete the `for loop`, to repeat the code 26 times. Then add an `agent.move` to move your Agent up at the end of each loop iteration.**"
   ]
  },
  {
   "cell_type": "code",
   "execution_count": null,
   "metadata": {
    "minecraft": {
     "closeCodeBuilderOnRun": true,
     "default_code": "for \n# Complete the for loop above to run 26 times\n    block = agent.inspect(\"forward\")\n    if (block in accepted_blocks):\n        say(\"Accept\")\n        accept()\n    else:\n        say(\"Deny\")\n        deny()\n    \n    # Add and agent.move above to move your agent up",
     "onCodeCancelledCommand": "scoreboard players set @s codeExecution 0",
     "onCodeErrorCommand": "scoreboard players set @s codeExecution -1",
     "onCodeStartedCommand": "scoreboard players set @s codeExecution 1",
     "onCodeStoppedCommand": "scoreboard players set @s codeExecution 0",
     "onCodeSuccessfulCommand": "scoreboard players set @s codeExecution 2",
     "overridePython": "accepted_blocks = [\"coal_block\", \"concrete\", \"stained_glass\", \"quartz_block\", \"smooth_quartz_stairs\", \"iron_bars\"]\n# DENY and ACCEPT functions from f2 Farm task\ndef accept():\n    agent.place(\"back\", 1)\ndef deny():\n    agent.place(\"back\", 2)\n@user-code",
     "readonly": false
    }
   },
   "outputs": [],
   "source": [
    "for \n",
    "# Complete the for loop above to run 26 times\n",
    "    block = agent.inspect(\"forward\").id\n",
    "    if (block in accepted_blocks):\n",
    "        say(\"Accept\")\n",
    "        accept()\n",
    "    else:\n",
    "        say(\"Deny\")\n",
    "        deny()\n",
    "    \n",
    "    # Add and agent.move above to move your agent up"
   ]
  }
 ],
 "metadata": {
  "kernelspec": {
   "display_name": "Python 3 (ipykernel)",
   "language": "python",
   "name": "python3"
  },
  "language_info": {
   "codemirror_mode": {
    "name": "ipython",
    "version": 3
   },
   "file_extension": ".py",
   "mimetype": "text/x-python",
   "name": "python",
   "nbconvert_exporter": "python",
   "pygments_lexer": "ipython3",
   "version": "3.9.7"
  },
  "minecraft": {
   "description": "Section 2",
   "page_id": "1.2",
   "page_name": "Section 2",
   "style": "minecraft.css"
  }
 },
 "nbformat": 4,
 "nbformat_minor": 4
}
