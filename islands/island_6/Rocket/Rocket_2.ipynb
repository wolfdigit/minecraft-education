{
 "cells": [
  {
   "cell_type": "markdown",
   "metadata": {},
   "source": [
    "## 步驟 3\n",
    "\n",
    "當接受的方塊被記錄並向科學家標記後，讓我們將注意力轉向不合格的方塊。\n",
    "\n",
    "**與接受的方塊類似，完成 `else` 語句，使用 `say` 輸出 \"Deny\" (拒絕)，然後運行 `deny` 函數。**"
   ]
  },
  {
   "cell_type": "code",
   "execution_count": null,
   "metadata": {
    "minecraft": {
     "closeCodeBuilderOnRun": true,
     "onCodeCancelledCommand": "scoreboard players set @s codeExecution 0",
     "onCodeErrorCommand": "scoreboard players set @s codeExecution -1",
     "onCodeStartedCommand": "scoreboard players set @s codeExecution 1",
     "onCodeStoppedCommand": "scoreboard players set @s codeExecution 0",
     "onCodeSuccessfulCommand": "scoreboard players set @s codeExecution 2",
     "overridePython": "accepted_blocks = [\"coal_block\", \"concrete\", \"stained_glass\", \"quartz_block\", \"smooth_quartz_stairs\", \"iron_bars\"]\n# DENY and ACCEPT functions from f2 Farm task\ndef accept():\n    agent.place(\"back\", 1)\ndef deny():\n    agent.place(\"back\", 2)\n@user-code",
     "readonly": false
    }
   },
   "outputs": [],
   "source": [
    "block = agent.inspect(\"forward\").id\n",
    "if (block in accepted_blocks):\n",
    "    say(\"Accept\")\n",
    "    accept()\n",
    "else:\n",
    "    \n",
    "    \n",
    "    # Finish the else statement above to say 'Deny' and run the deny function"
   ]
  },
  {
   "cell_type": "markdown",
   "metadata": {},
   "source": [
    "## 步驟 4\n",
    "\n",
    "為了總結您的所有代碼，我們將使用一個 for 迴圈來檢查您agent上方的每個方塊。科學家告訴您火箭高度為 26 個方塊。\n",
    "\n",
    "**完成 `for 迴圈`，將代碼重複執行 26 次。然後在每個迴圈迭代的末尾添加一個 `agent.move` 來將您的agent向上up移動。**"
   ]
  },
  {
   "cell_type": "code",
   "execution_count": null,
   "metadata": {
    "minecraft": {
     "closeCodeBuilderOnRun": true,
     "default_code": "for \n# Complete the for loop above to run 26 times\n    block = agent.inspect(\"forward\")\n    if (block in accepted_blocks):\n        say(\"Accept\")\n        accept()\n    else:\n        say(\"Deny\")\n        deny()\n    \n    # Add and agent.move above to move your agent up",
     "onCodeCancelledCommand": "scoreboard players set @s codeExecution 0",
     "onCodeErrorCommand": "scoreboard players set @s codeExecution -1",
     "onCodeStartedCommand": "scoreboard players set @s codeExecution 1",
     "onCodeStoppedCommand": "scoreboard players set @s codeExecution 0",
     "onCodeSuccessfulCommand": "scoreboard players set @s codeExecution 2",
     "overridePython": "accepted_blocks = [\"coal_block\", \"concrete\", \"stained_glass\", \"quartz_block\", \"smooth_quartz_stairs\", \"iron_bars\"]\n# DENY and ACCEPT functions from f2 Farm task\ndef accept():\n    agent.place(\"back\", 1)\ndef deny():\n    agent.place(\"back\", 2)\n@user-code",
     "readonly": false
    }
   },
   "outputs": [],
   "source": [
    "for \n",
    "# Complete the for loop above to run 26 times\n",
    "    block = agent.inspect(\"forward\").id\n",
    "    if (block in accepted_blocks):\n",
    "        say(\"Accept\")\n",
    "        accept()\n",
    "    else:\n",
    "        say(\"Deny\")\n",
    "        deny()\n",
    "    \n",
    "    # Add and agent.move above to move your agent up"
   ]
  }
 ],
 "metadata": {
  "kernelspec": {
   "display_name": "Python 3 (ipykernel)",
   "language": "python",
   "name": "python3"
  },
  "language_info": {
   "codemirror_mode": {
    "name": "ipython",
    "version": 3
   },
   "file_extension": ".py",
   "mimetype": "text/x-python",
   "name": "python",
   "nbconvert_exporter": "python",
   "pygments_lexer": "ipython3",
   "version": "3.9.7"
  },
  "minecraft": {
   "description": "第2節",
   "page_id": "1.2",
   "page_name": "第2節",
   "style": "minecraft.css"
  }
 },
 "nbformat": 4,
 "nbformat_minor": 4
}
