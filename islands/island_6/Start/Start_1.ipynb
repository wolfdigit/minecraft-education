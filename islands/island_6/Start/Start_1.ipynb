{
 "cells": [
  {
   "cell_type": "markdown",
   "metadata": {},
   "source": [
    "# Welcome to Island 6!\n",
    "\n",
    "On this island you will learn about `lists` in Python.\n",
    "\n",
    "![Cover image](cover.png)\n",
    "\n",
    "More specifically you will learn about...\n",
    "- Creating lists,\n",
    "- Appending to lists,\n",
    "- Using `in` with `if` statements to check contents of lists,\n",
    "- Looping through lists,\n",
    "- Nested lists,\n",
    "And more!\n",
    "\n",
    "**When you're ready, talk to the Prime Minister!**"
   ]
  }
 ],
 "metadata": {
  "kernelspec": {
   "display_name": "Python 3",
   "language": "python",
   "name": "python3"
  },
  "language_info": {
   "codemirror_mode": {
    "name": "ipython",
    "version": 3
   },
   "file_extension": ".py",
   "mimetype": "text/x-python",
   "name": "python",
   "nbconvert_exporter": "python",
   "pygments_lexer": "ipython3",
   "version": "3.8.5"
  },
  "minecraft": {
   "description": "第1節",
   "page_id": "1.1",
   "page_name": "第1節",
   "style": "minecraft.css"
  }
 },
 "nbformat": 4,
 "nbformat_minor": 4
}
