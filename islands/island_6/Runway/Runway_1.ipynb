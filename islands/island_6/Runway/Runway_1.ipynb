{
 "cells": [
  {
   "cell_type": "code",
   "execution_count": null,
   "metadata": {
    "minecraft": {
     "closeCodeBuilderOnRun": true,
     "hidden": true,
     "onCodeCancelledCommand": "scoreboard players set @s codeExecution 0",
     "onCodeErrorCommand": "scoreboard players set @s codeExecution -1",
     "onCodeStartedCommand": "scoreboard players set @s codeExecution 1",
     "onCodeStoppedCommand": "scoreboard players set @s codeExecution 0",
     "onCodeSuccessfulCommand": "scoreboard players set @s codeExecution 2",
     "overridePython": "",
     "readonly": false
    }
   },
   "outputs": [],
   "source": [
    "runway_design = [\n",
    "    [9, 9, 9, 9, 9, 9, 9, 9, 9, 9, 9],\n",
    "    [9, 9, 9, 1, 9, 9, 9, 1, 9, 9, 9],\n",
    "    [9, 9, 9, 1, 9, 9, 9, 1, 9, 9, 9],\n",
    "    [9, 9, 9, 1, 9, 9, 9, 1, 9, 9, 9],\n",
    "    [9, 9, 9, 9, 9, 9, 9, 9, 9, 9, 9],\n",
    "    [9, 9, 1, 1, 1, 9, 1, 1, 1, 9, 9],\n",
    "    [9, 9, 9, 1, 9, 9, 1, 9, 1, 9, 9],\n",
    "    [9, 9, 9, 1, 9, 9, 1, 1, 1, 9, 9],\n",
    "    [9, 9, 9, 1, 9, 9, 1, 9, 1, 9, 9],\n",
    "    [9, 9, 1, 1, 9, 9, 1, 1, 1, 9, 9]\n",
    "]\n",
    "\n",
    "\n",
    "def move_agent():\n",
    "    x, y, z = agent.position\n",
    "    agent.teleport((948, y, z))\n",
    "\n",
    "# User Code\n",
    "for row in runway_design:\n",
    "    for col in row:\n",
    "        agent.place(\"down\", col)\n",
    "        agent.move(\"right\")\n",
    "    move_agent()\n",
    "    agent.move(\"forward\")\n",
    "# End of user code"
   ]
  },
  {
   "cell_type": "markdown",
   "metadata": {},
   "source": [
    "# 設計跑道\n",
    "\n",
    "機場跑道幾乎完成了。最後一個步驟是完成跑道標記的繪製，這樣飛機就知道該以什麼角度降落。   \n",
    "\n",
    "![Cover image](cover.png)"
   ]
  },
  {
   "cell_type": "markdown",
   "metadata": {},
   "source": [
    "## 步驟 1\n",
    "\n",
    "機場經理Malinda已經把她想要標記在跑道上的位置以列表的形式給了您的agent。在我們開始之前，讓我們看一個例子。\n",
    "\n",
    "這是一個大的列表裡面包著其他小的列表...\n",
    "```python\n",
    "large_list = [ [1,2,3], [4,5,6], [7,8,9] ]\n",
    "```\n",
    "\n",
    "為了訪問小列表，我們可以使用一個 `for` 迴圈。但這次不是使用 `range` ，我們要從 `large_list` 中取得每個 `small_list` 進行迭代。\n",
    "\n",
    "```python\n",
    "for small_list in large_list:\n",
    "    say(smaller_list)\n",
    "```\n",
    "\n",
    "**使用上面的例子，寫一個 `for` 迴圈來獲取 `runway_design` 中的每一行。**"
   ]
  },
  {
   "cell_type": "code",
   "execution_count": null,
   "metadata": {
    "minecraft": {
     "closeCodeBuilderOnRun": true,
     "onCodeCancelledCommand": "scoreboard players set @s codeExecution 0",
     "onCodeErrorCommand": "scoreboard players set @s codeExecution -1",
     "onCodeStartedCommand": "scoreboard players set @s codeExecution 1",
     "onCodeStoppedCommand": "scoreboard players set @s codeExecution 0",
     "onCodeSuccessfulCommand": "scoreboard players set @s codeExecution 2",
     "overridePython": "runway_design = [[9,9,9,9,9,9,9,9,9,9,9],[9,9,9,1,9,9,9,1,9,9,9],[9,9,9,1,9,9,9,1,9,9,9],[9,9,9,1,9,9,9,1,9,9,9],[9,9,9,9,9,9,9,9,9,9,9],[9,9,1,1,1,9,1,1,1,9,9],[9,9,9,1,9,9,1,9,1,9,9],[9,9,9,1,9,9,1,1,1,9,9],[9,9,9,1,9,9,1,9,1,9,9],[9,9,1,1,9,9,1,1,1,9,9]]\ndef return_agent():\n\tx,y,z = agent.position\n\tagent.teleport((948,y,z))\ndef output(string):\n    main = \"\"\n    for c in string:\n        main += str(c)+\",\"\n    main = main[:-1]\n    say(main)\n@user-code",
     "readonly": false
    }
   },
   "outputs": [],
   "source": [
    "for \n",
    "# Complete the for loop above to run for every 'row' in 'runway_design'\n",
    "    output(row) # Same function as say() command, with a few extra features "
   ]
  },
  {
   "cell_type": "markdown",
   "metadata": {},
   "source": [
    "## 步驟 2\n",
    "\n",
    "既然您可以看到每個單獨的行了，現在讓我們獲取每一行中的每個方塊。\n",
    "\n",
    "為此，我們將重複剛剛做過的事，但不是在 `runway_design` 中獲取每個 `row`，而是在每個 `row` 中獲取每個 `block`。\n",
    "\n",
    "**寫另一個 `for` 迴圈來獲取每個 `row` 中的每個 `block`。**"
   ]
  },
  {
   "cell_type": "code",
   "execution_count": null,
   "metadata": {
    "minecraft": {
     "closeCodeBuilderOnRun": true,
     "onCodeCancelledCommand": "scoreboard players set @s codeExecution 0",
     "onCodeErrorCommand": "scoreboard players set @s codeExecution -1",
     "onCodeStartedCommand": "scoreboard players set @s codeExecution 1",
     "onCodeStoppedCommand": "scoreboard players set @s codeExecution 0",
     "onCodeSuccessfulCommand": "scoreboard players set @s codeExecution 2",
     "overridePython": "runway_design = [[9,9,9,9,9,9,9,9,9,9,9],[9,9,9,1,9,9,9,1,9,9,9],[9,9,9,1,9,9,9,1,9,9,9],[9,9,9,1,9,9,9,1,9,9,9],[9,9,9,9,9,9,9,9,9,9,9],[9,9,1,1,1,9,1,1,1,9,9],[9,9,9,1,9,9,1,9,1,9,9],[9,9,9,1,9,9,1,1,1,9,9],[9,9,9,1,9,9,1,9,1,9,9],[9,9,1,1,9,9,1,1,1,9,9]]\ndef return_agent():\n\tx,y,z = agent.position\n\tagent.teleport((948,y,z))\ndef output(string):\n    main = \"\"\n    for c in string:\n        main += str(c)+\",\"\n    main = main[:-1]\n    say(main)\n@user-code",
     "readonly": false
    }
   },
   "outputs": [],
   "source": [
    "for row in runway_design:\n",
    "    for \n",
    "    # Complete the for loop above to run for each 'block' in 'row'\n",
    "        say(block)"
   ]
  },
  {
   "cell_type": "markdown",
   "metadata": {},
   "source": [
    "準備好之後，按下一步繼續。"
   ]
  }
 ],
 "metadata": {
  "kernelspec": {
   "display_name": "Python 3 (ipykernel)",
   "language": "python",
   "name": "python3"
  },
  "language_info": {
   "codemirror_mode": {
    "name": "ipython",
    "version": 3
   },
   "file_extension": ".py",
   "mimetype": "text/x-python",
   "name": "python",
   "nbconvert_exporter": "python",
   "pygments_lexer": "ipython3",
   "version": "3.9.7"
  },
  "minecraft": {
   "description": "第1節",
   "page_id": "1.1",
   "page_name": "第1節",
   "style": "minecraft.css"
  }
 },
 "nbformat": 4,
 "nbformat_minor": 4
}
