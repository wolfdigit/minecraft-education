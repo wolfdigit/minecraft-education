{
 "cells": [
  {
   "cell_type": "code",
   "execution_count": null,
   "metadata": {
    "minecraft": {
     "closeCodeBuilderOnRun": true,
     "hidden": true,
     "onCodeCancelledCommand": "scoreboard players set @s codeExecution 0",
     "onCodeErrorCommand": "scoreboard players set @s codeExecution -1",
     "onCodeStartedCommand": "scoreboard players set @s codeExecution 1",
     "onCodeStoppedCommand": "scoreboard players set @s codeExecution 0",
     "onCodeSuccessfulCommand": "scoreboard players set @s codeExecution 2",
     "overridePython": "",
     "readonly": false
    }
   },
   "outputs": [],
   "source": [
    "runway_design = [\n",
    "    [9, 9, 9, 9, 9, 9, 9, 9, 9, 9, 9],\n",
    "    [9, 9, 9, 1, 9, 9, 9, 1, 9, 9, 9],\n",
    "    [9, 9, 9, 1, 9, 9, 9, 1, 9, 9, 9],\n",
    "    [9, 9, 9, 1, 9, 9, 9, 1, 9, 9, 9],\n",
    "    [9, 9, 9, 9, 9, 9, 9, 9, 9, 9, 9],\n",
    "    [9, 9, 1, 1, 1, 9, 1, 1, 1, 9, 9],\n",
    "    [9, 9, 9, 1, 9, 9, 1, 9, 1, 9, 9],\n",
    "    [9, 9, 9, 1, 9, 9, 1, 1, 1, 9, 9],\n",
    "    [9, 9, 9, 1, 9, 9, 1, 9, 1, 9, 9],\n",
    "    [9, 9, 1, 1, 9, 9, 1, 1, 1, 9, 9]\n",
    "]\n",
    "\n",
    "\n",
    "def move_agent():\n",
    "    x, y, z = agent.position\n",
    "    agent.teleport((948, y, z))\n",
    "\n",
    "# User Code\n",
    "for row in runway_design:\n",
    "    for col in row:\n",
    "        agent.place(\"down\", col)\n",
    "        agent.move(\"right\")\n",
    "    move_agent()\n",
    "    agent.move(\"forward\")\n",
    "# End of user code"
   ]
  },
  {
   "cell_type": "markdown",
   "metadata": {},
   "source": [
    "# Runway Designing\n",
    "\n",
    "The airport runway are nearly complete. The final step is finishing painting the runway markings, so planes know at which angle to land.   \n",
    "\n",
    "![Cover image](cover.png)"
   ]
  },
  {
   "cell_type": "markdown",
   "metadata": {},
   "source": [
    "## Step 1\n",
    "\n",
    "Malinda, the Airport Manger has given your Agent the locations that she wants marked on the runway, in the form of a list. Before we get started, let's look at an example.\n",
    "\n",
    "Here is a list containing smaller lists inside...\n",
    "```python\n",
    "large_list = [ [1,2,3], [4,5,6], [7,8,9] ]\n",
    "```\n",
    "\n",
    "For us to access the small lists, we can use a `for` loop. Rather than using `range` we ask for each `small_list` in `large_list`.\n",
    "\n",
    "```python\n",
    "for small_list in large_list:\n",
    "    say(smaller_list)\n",
    "```\n",
    "\n",
    "**Using the example above, write a `for` loop that would get every `row` in `runway_design`.**"
   ]
  },
  {
   "cell_type": "code",
   "execution_count": null,
   "metadata": {
    "minecraft": {
     "closeCodeBuilderOnRun": true,
     "onCodeCancelledCommand": "scoreboard players set @s codeExecution 0",
     "onCodeErrorCommand": "scoreboard players set @s codeExecution -1",
     "onCodeStartedCommand": "scoreboard players set @s codeExecution 1",
     "onCodeStoppedCommand": "scoreboard players set @s codeExecution 0",
     "onCodeSuccessfulCommand": "scoreboard players set @s codeExecution 2",
     "overridePython": "runway_design = [[9,9,9,9,9,9,9,9,9,9,9],[9,9,9,1,9,9,9,1,9,9,9],[9,9,9,1,9,9,9,1,9,9,9],[9,9,9,1,9,9,9,1,9,9,9],[9,9,9,9,9,9,9,9,9,9,9],[9,9,1,1,1,9,1,1,1,9,9],[9,9,9,1,9,9,1,9,1,9,9],[9,9,9,1,9,9,1,1,1,9,9],[9,9,9,1,9,9,1,9,1,9,9],[9,9,1,1,9,9,1,1,1,9,9]]\ndef return_agent():\n\tx,y,z = agent.position\n\tagent.teleport((948,y,z))\ndef output(string):\n    main = \"\"\n    for c in string:\n        main += str(c)+\",\"\n    main = main[:-1]\n    say(main)\n@user-code",
     "readonly": false
    }
   },
   "outputs": [],
   "source": [
    "for \n",
    "# Complete the for loop above to run for every 'row' in 'runway_design'\n",
    "    output(row) # Same function as say() command, with a few extra features "
   ]
  },
  {
   "cell_type": "markdown",
   "metadata": {},
   "source": [
    "## Step 2\n",
    "\n",
    "Now that you can see the individual rows, let's get each block in each row.\n",
    "\n",
    "For this, we will repeat what we had done before, but instead of getting every `row` in `runway_design`, we can get every `block` in each `row`.\n",
    "\n",
    "**Write another `for` loop to get each `block` in each `row`.**"
   ]
  },
  {
   "cell_type": "code",
   "execution_count": null,
   "metadata": {
    "minecraft": {
     "closeCodeBuilderOnRun": true,
     "onCodeCancelledCommand": "scoreboard players set @s codeExecution 0",
     "onCodeErrorCommand": "scoreboard players set @s codeExecution -1",
     "onCodeStartedCommand": "scoreboard players set @s codeExecution 1",
     "onCodeStoppedCommand": "scoreboard players set @s codeExecution 0",
     "onCodeSuccessfulCommand": "scoreboard players set @s codeExecution 2",
     "overridePython": "runway_design = [[9,9,9,9,9,9,9,9,9,9,9],[9,9,9,1,9,9,9,1,9,9,9],[9,9,9,1,9,9,9,1,9,9,9],[9,9,9,1,9,9,9,1,9,9,9],[9,9,9,9,9,9,9,9,9,9,9],[9,9,1,1,1,9,1,1,1,9,9],[9,9,9,1,9,9,1,9,1,9,9],[9,9,9,1,9,9,1,1,1,9,9],[9,9,9,1,9,9,1,9,1,9,9],[9,9,1,1,9,9,1,1,1,9,9]]\ndef return_agent():\n\tx,y,z = agent.position\n\tagent.teleport((948,y,z))\ndef output(string):\n    main = \"\"\n    for c in string:\n        main += str(c)+\",\"\n    main = main[:-1]\n    say(main)\n@user-code",
     "readonly": false
    }
   },
   "outputs": [],
   "source": [
    "for row in runway_design:\n",
    "    for \n",
    "    # Complete the for loop above to run for each 'block' in 'row'\n",
    "        say(block)"
   ]
  },
  {
   "cell_type": "markdown",
   "metadata": {},
   "source": [
    "When you're ready, press next to continue."
   ]
  }
 ],
 "metadata": {
  "kernelspec": {
   "display_name": "Python 3 (ipykernel)",
   "language": "python",
   "name": "python3"
  },
  "language_info": {
   "codemirror_mode": {
    "name": "ipython",
    "version": 3
   },
   "file_extension": ".py",
   "mimetype": "text/x-python",
   "name": "python",
   "nbconvert_exporter": "python",
   "pygments_lexer": "ipython3",
   "version": "3.9.7"
  },
  "minecraft": {
   "description": "Section 1",
   "page_id": "1.1",
   "page_name": "Section 1",
   "style": "minecraft.css"
  }
 },
 "nbformat": 4,
 "nbformat_minor": 4
}
