{
 "cells": [
  {
   "cell_type": "markdown",
   "metadata": {},
   "source": [
    "## 步驟 3\n",
    "\n",
    "由於您的程式碼能夠在每行中單獨獲取每個方塊，我們現在可以將Agent的移動和放置方塊的功能編寫進去。\n",
    "\n",
    "**添加一個 `agent.place` 來將 `block` 放置在 `\"down\"` 下方。**"
   ]
  },
  {
   "cell_type": "code",
   "execution_count": null,
   "metadata": {
    "minecraft": {
     "closeCodeBuilderOnRun": true,
     "onCodeCancelledCommand": "scoreboard players set @s codeExecution 0",
     "onCodeErrorCommand": "scoreboard players set @s codeExecution -1",
     "onCodeStartedCommand": "scoreboard players set @s codeExecution 1",
     "onCodeStoppedCommand": "scoreboard players set @s codeExecution 0",
     "onCodeSuccessfulCommand": "scoreboard players set @s codeExecution 2",
     "overridePython": "runway_design = [[9,9,9,9,9,9,9,9,9,9,9],[9,9,9,1,9,9,9,1,9,9,9],[9,9,9,1,9,9,9,1,9,9,9],[9,9,9,1,9,9,9,1,9,9,9],[9,9,9,9,9,9,9,9,9,9,9],[9,9,1,1,1,9,1,1,1,9,9],[9,9,9,1,9,9,1,9,1,9,9],[9,9,9,1,9,9,1,1,1,9,9],[9,9,9,1,9,9,1,9,1,9,9],[9,9,1,1,9,9,1,1,1,9,9]]\ndef return_agent():\n\tx,y,z = agent.position\n\tagent.teleport((948,y,z))\ndef output(string):\n    main = \"\"\n    for c in string:\n        main += str(c)+\",\"\n    main = main[:-1]\n    say(main)\n@user-code",
     "readonly": false
    }
   },
   "outputs": [],
   "source": [
    "for row in runway_design:\n",
    "    for block in row:\n",
    "        \n",
    "        # Add your agent.place above"
   ]
  },
  {
   "cell_type": "markdown",
   "metadata": {},
   "source": [
    "## 步驟 4\n",
    "\n",
    "現在您已經讓Agent從列表中獲取並放置方塊，我們可以寫程式控制Agent走過整個跑道。\n",
    "\n",
    "由於我們有兩個迴圈，我們將需要添加兩個 `agent.move` 命令。 \n",
    "- 第一個是在放置每個方塊後移動agent到下一個方塊的位置。\n",
    "- 第二個是在每一行結束時將agent向前移動到下一行。\n",
    "\n",
    "您還可以在每一行完成後使用 `return_agent` 函數將您的agent移動回到跑道的左側。\n",
    "\n",
    "**添加兩個 `agent.move` 命令。一個是在放置方塊後將agent向右`\"right\"`移動，另一個是在第二個迴圈結束後將agent向前`\"forward\"`移動。**"
   ]
  },
  {
   "cell_type": "code",
   "execution_count": null,
   "metadata": {
    "minecraft": {
     "closeCodeBuilderOnRun": true,
     "default_code": "for row in runway_design:\n    for block in row:\n        agent.place(\"down\", block)\n\n        # Add code above to move the Agent to the right\n    return_agent()\n\n    # Add code above to move the Agent forward",
     "onCodeCancelledCommand": "scoreboard players set @s codeExecution 0",
     "onCodeErrorCommand": "scoreboard players set @s codeExecution -1",
     "onCodeStartedCommand": "scoreboard players set @s codeExecution 1",
     "onCodeStoppedCommand": "scoreboard players set @s codeExecution 0",
     "onCodeSuccessfulCommand": "scoreboard players set @s codeExecution 2",
     "overridePython": "runway_design = [[9,9,9,9,9,9,9,9,9,9,9],[9,9,9,1,9,9,9,1,9,9,9],[9,9,9,1,9,9,9,1,9,9,9],[9,9,9,1,9,9,9,1,9,9,9],[9,9,9,9,9,9,9,9,9,9,9],[9,9,1,1,1,9,1,1,1,9,9],[9,9,9,1,9,9,1,9,1,9,9],[9,9,9,1,9,9,1,1,1,9,9],[9,9,9,1,9,9,1,9,1,9,9],[9,9,1,1,9,9,1,1,1,9,9]]\ndef return_agent():\n\tx,y,z = agent.position\n\tagent.teleport((948,y,z))\ndef output(string):\n    main = \"\"\n    for c in string:\n        main += str(c)+\",\"\n    main = main[:-1]\n    say(main)\n@user-code",
     "readonly": false
    }
   },
   "outputs": [],
   "source": [
    "for row in runway_design:\n",
    "    for block in row:\n",
    "        agent.place(\"down\", block)\n",
    "\n",
    "        # 在上面加入程式碼將Agent向右移\n",
    "    return_agent()\n",
    "\n",
    "    # 在上面加入程式碼將Agent向前移"
   ]
  }
 ],
 "metadata": {
  "kernelspec": {
   "display_name": "Python 3",
   "language": "python",
   "name": "python3"
  },
  "language_info": {
   "codemirror_mode": {
    "name": "ipython",
    "version": 3
   },
   "file_extension": ".py",
   "mimetype": "text/x-python",
   "name": "python",
   "nbconvert_exporter": "python",
   "pygments_lexer": "ipython3",
   "version": "3.8.5"
  },
  "minecraft": {
   "description": "第2節",
   "page_id": "1.2",
   "page_name": "第2節",
   "style": "minecraft.css"
  }
 },
 "nbformat": 4,
 "nbformat_minor": 4
}
