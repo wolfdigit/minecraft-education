{
 "cells": [
  {
   "cell_type": "markdown",
   "metadata": {},
   "source": [
    "## Step 3\n",
    "\n",
    "With your code being able to get every block individually in each row, we can now program your Agent to move and place blocks.\n",
    "\n",
    "**Add an `agent.place` to place `block` in the `\"down\"` direction.**"
   ]
  },
  {
   "cell_type": "code",
   "execution_count": null,
   "metadata": {
    "minecraft": {
     "closeCodeBuilderOnRun": true,
     "onCodeCancelledCommand": "scoreboard players set @s codeExecution 0",
     "onCodeErrorCommand": "scoreboard players set @s codeExecution -1",
     "onCodeStartedCommand": "scoreboard players set @s codeExecution 1",
     "onCodeStoppedCommand": "scoreboard players set @s codeExecution 0",
     "onCodeSuccessfulCommand": "scoreboard players set @s codeExecution 2",
     "overridePython": "runway_design = [[9,9,9,9,9,9,9,9,9,9,9],[9,9,9,1,9,9,9,1,9,9,9],[9,9,9,1,9,9,9,1,9,9,9],[9,9,9,1,9,9,9,1,9,9,9],[9,9,9,9,9,9,9,9,9,9,9],[9,9,1,1,1,9,1,1,1,9,9],[9,9,9,1,9,9,1,9,1,9,9],[9,9,9,1,9,9,1,1,1,9,9],[9,9,9,1,9,9,1,9,1,9,9],[9,9,1,1,9,9,1,1,1,9,9]]\ndef return_agent():\n\tx,y,z = agent.position\n\tagent.teleport((948,y,z))\ndef output(string):\n    main = \"\"\n    for c in string:\n        main += str(c)+\",\"\n    main = main[:-1]\n    say(main)\n@user-code",
     "readonly": false
    }
   },
   "outputs": [],
   "source": [
    "for row in runway_design:\n",
    "    for block in row:\n",
    "        \n",
    "        # Add your agent.place above"
   ]
  },
  {
   "cell_type": "markdown",
   "metadata": {},
   "source": [
    "## Step 4\n",
    "\n",
    "Now that you have the Agent getting and placing blocks from the list, we can code the Agent to move across the runway.\n",
    "\n",
    "As we have two loops, we will need to add two `agent.move` commands. \n",
    "- The first, to move the Agent after each block is placed, to the next block.\n",
    "- The second at the end of every row, to move the agent forward to the next row.\n",
    "\n",
    "You can also use the `return_agent` function to move your agent back to the left-hand side of the runway once each row is done.\n",
    "\n",
    "**Add two `agent.move` commands. One to move the Agent `\"right\"` after placing a block, and another to move the Agent `\"forward\"` after the second loop has finished**"
   ]
  },
  {
   "cell_type": "code",
   "execution_count": null,
   "metadata": {
    "minecraft": {
     "closeCodeBuilderOnRun": true,
     "default_code": "for row in runway_design:\n    for block in row:\n        agent.place(\"down\", block)\n\n        # Add code above to move the Agent to the right\n    return_agent()\n\n    # Add code above to move the Agent forward",
     "onCodeCancelledCommand": "scoreboard players set @s codeExecution 0",
     "onCodeErrorCommand": "scoreboard players set @s codeExecution -1",
     "onCodeStartedCommand": "scoreboard players set @s codeExecution 1",
     "onCodeStoppedCommand": "scoreboard players set @s codeExecution 0",
     "onCodeSuccessfulCommand": "scoreboard players set @s codeExecution 2",
     "overridePython": "runway_design = [[9,9,9,9,9,9,9,9,9,9,9],[9,9,9,1,9,9,9,1,9,9,9],[9,9,9,1,9,9,9,1,9,9,9],[9,9,9,1,9,9,9,1,9,9,9],[9,9,9,9,9,9,9,9,9,9,9],[9,9,1,1,1,9,1,1,1,9,9],[9,9,9,1,9,9,1,9,1,9,9],[9,9,9,1,9,9,1,1,1,9,9],[9,9,9,1,9,9,1,9,1,9,9],[9,9,1,1,9,9,1,1,1,9,9]]\ndef return_agent():\n\tx,y,z = agent.position\n\tagent.teleport((948,y,z))\ndef output(string):\n    main = \"\"\n    for c in string:\n        main += str(c)+\",\"\n    main = main[:-1]\n    say(main)\n@user-code",
     "readonly": false
    }
   },
   "outputs": [],
   "source": [
    "for row in runway_design:\n",
    "    for block in row:\n",
    "        agent.place(\"down\", block)\n",
    "\n",
    "        # Add code above to move the Agent to the right\n",
    "    return_agent()\n",
    "\n",
    "    # Add code above to move the Agent forward"
   ]
  }
 ],
 "metadata": {
  "kernelspec": {
   "display_name": "Python 3",
   "language": "python",
   "name": "python3"
  },
  "language_info": {
   "codemirror_mode": {
    "name": "ipython",
    "version": 3
   },
   "file_extension": ".py",
   "mimetype": "text/x-python",
   "name": "python",
   "nbconvert_exporter": "python",
   "pygments_lexer": "ipython3",
   "version": "3.8.5"
  },
  "minecraft": {
   "description": "Section 2",
   "page_id": "1.2",
   "page_name": "Section 2",
   "style": "minecraft.css"
  }
 },
 "nbformat": 4,
 "nbformat_minor": 4
}
