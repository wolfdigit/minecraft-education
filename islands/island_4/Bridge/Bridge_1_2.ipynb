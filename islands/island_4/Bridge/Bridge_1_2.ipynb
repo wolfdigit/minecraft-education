{
 "cells": [
  {
   "cell_type": "markdown",
   "metadata": {},
   "source": [
    "## Step 2\n",
    "\n",
    "Now that your Agent can tell when there is no block in front of it, we need it to move forward towards the hidden island in the fog. To do this, we can use `agent.move()`.\n",
    "\n",
    "Remember you can come back into the code editor to force your code to stop.\n",
    "\n",
    "**Have your agent move `\"forward\"` each time the loop runs, using `agent.move()`**"
   ]
  },
  {
   "cell_type": "code",
   "execution_count": null,
   "metadata": {
    "minecraft": {
     "closeCodeBuilderOnRun": true,
     "onCodeCancelledCommand": "scoreboard players set @s codeExecution 0",
     "onCodeErrorCommand": "scoreboard players set @s codeExecution -1",
     "onCodeStartedCommand": "scoreboard players set @s codeExecution 1",
     "onCodeStoppedCommand": "scoreboard players set @s codeExecution 0",
     "onCodeSuccessfulCommand": "scoreboard players set @s codeExecution 2",
     "overridePython": "",
     "readonly": false
    }
   },
   "outputs": [],
   "source": [
    "while agent.inspect(\"forward\").id == \"air\":\n",
    "    agent.move(     )\n",
    "    # Add the code above here\n",
    "say(\"I've reached the end\")"
   ]
  },
  {
   "cell_type": "markdown",
   "metadata": {},
   "source": [
    "## Step 3\n",
    "\n",
    "**Mine Manager** - \"*I've given your agent some **stone** (in slot 1), to build a bridge over to the island. Can you place the stone blocks below the agent, to form a bridge until it reaches the island in the distance and no longer has air in front of it?*\"\n",
    "\n",
    "Now that you have your agent moving for as long as the loop is running, we need to place blocks down to bridge over to the other island.    \n",
    "To do this, we can use `agent.place()` to place down blocks.\n",
    "\n",
    "To use `agent.place()`, see below:\n",
    "```python\n",
    "agent.place(direction, slot_id)\n",
    "```\n",
    "\n",
    "- `slot_id`: The slot number in the agent's inventory, of the item we want to place. In this case, you should always use 1.\n",
    "- `direction`: The direction we want the agent to place a block. The directions you can use are: `forward`, `back`, `left`, `right`, `up`, `down`.\n",
    "\n",
    "Don't forget you can use your whistle to call your agent back so that you can run your completed code.\n",
    "\n",
    "**Have your agent place stone blocks (from slot 1) `\"down\"` below itself.**"
   ]
  },
  {
   "cell_type": "code",
   "execution_count": null,
   "metadata": {
    "default_code": "while agent.inspect(\"forward\") == \"air\":\n    agent.move(\"forward\")\n    agent.place(  ,      )\n    # Add the code above here\nsay(\"I've reached the end\")",
    "minecraft": {
     "closeCodeBuilderOnRun": true,
     "onCodeCancelledCommand": "scoreboard players set @s codeExecution 0",
     "onCodeErrorCommand": "scoreboard players set @s codeExecution -1",
     "onCodeStartedCommand": "scoreboard players set @s codeExecution 1",
     "onCodeStoppedCommand": "scoreboard players set @s codeExecution 0",
     "onCodeSuccessfulCommand": "scoreboard players set @s codeExecution 2",
     "overridePython": "",
     "readonly": false
    }
   },
   "outputs": [],
   "source": [
    "while agent.inspect(\"forward\").id == \"air\":\n",
    "    agent.move(\"forward\")\n",
    "    agent.place(  ,      )\n",
    "    # Add the code above here\n",
    "say(\"I've reached the end\")"
   ]
  },
  {
   "cell_type": "markdown",
   "metadata": {},
   "source": [
    "Great! Run your code and investigate the other island!"
   ]
  }
 ],
 "metadata": {
  "kernelspec": {
   "display_name": "Python 3 (ipykernel)",
   "language": "python",
   "name": "python3"
  },
  "language_info": {
   "codemirror_mode": {
    "name": "ipython",
    "version": 3
   },
   "file_extension": ".py",
   "mimetype": "text/x-python",
   "name": "python",
   "nbconvert_exporter": "python",
   "pygments_lexer": "ipython3",
   "version": "3.9.7"
  },
  "minecraft": {
   "description": "Section 2",
   "page_id": "1.2",
   "page_name": "Section 2",
   "style": "minecraft.css"
  }
 },
 "nbformat": 4,
 "nbformat_minor": 4
}
