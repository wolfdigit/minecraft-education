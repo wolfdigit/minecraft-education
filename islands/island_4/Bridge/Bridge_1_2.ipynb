{
 "cells": [
  {
   "cell_type": "markdown",
   "metadata": {},
   "source": [
    "## 步驟 2\n",
    "\n",
    "現在你的Agent可以判斷前面是不是沒東西，再來我們要讓它往前移動到隱藏在迷霧裡的島嶼。 我們可以用`agent.move()`來達成。\n",
    "\n",
    "記住，你可以回來程式碼生成器來強制停止你的程式碼。\n",
    "\n",
    "**讓你的agent在每一次迴圈步驟時往前方`\"forward\"`移動，使用`agent.move()`**"
   ]
  },
  {
   "cell_type": "code",
   "execution_count": null,
   "metadata": {
    "minecraft": {
     "closeCodeBuilderOnRun": true,
     "onCodeCancelledCommand": "scoreboard players set @s codeExecution 0",
     "onCodeErrorCommand": "scoreboard players set @s codeExecution -1",
     "onCodeStartedCommand": "scoreboard players set @s codeExecution 1",
     "onCodeStoppedCommand": "scoreboard players set @s codeExecution 0",
     "onCodeSuccessfulCommand": "scoreboard players set @s codeExecution 2",
     "overridePython": "",
     "readonly": false
    }
   },
   "outputs": [],
   "source": [
    "while agent.inspect(\"forward\").id == \"air\":\n",
    "    agent.move(     )\n",
    "    # 在這行上面加入程式碼\n",
    "say(\"我已經走到底了\")"
   ]
  },
  {
   "cell_type": "markdown",
   "metadata": {},
   "source": [
    "## 步驟 3\n",
    "\n",
    "**礦場經理** - \"*我有給你的agent一些**石頭**(放在第1格)來建造跨島橋梁。 你可以在agent下方放置石頭方塊建成橋梁，直到遇到遠方的島嶼而且前面不再是空氣嗎？*\"\n",
    "\n",
    "現在你讓你的agent只要迴圈還在執行就一直移動，再來我們要放下方塊來連接另一個島嶼。    \n",
    "要做到這件事，我們可以用\"放置\"`agent.place()`來放置方塊。\n",
    "\n",
    "參考下面這段來使用`agent.place()`：\n",
    "```python\n",
    "agent.place(方向, 欄位編號)\n",
    "```\n",
    "\n",
    "- `欄位編號`: 你要放置的物品在物品欄裡的編號。以我們現在的情況，你都用1就好了\n",
    "- `方向`: 我們希望agent放置物品的方向。可以用的方向有`forward`(前), `back`(後), `left`(左), `right`(右), `up`(上), `down`(下)\n",
    "\n",
    "別忘了你可以用你的哨子叫回你的agent，讓你可以開始執行你寫好的程式碼。\n",
    "\n",
    "**讓你的agent在它下方`\"down\"`放置方塊(在第1格的方塊)**"
   ]
  },
  {
   "cell_type": "code",
   "execution_count": null,
   "metadata": {
    "default_code": "while agent.inspect(\"forward\") == \"air\":\n    agent.move(\"forward\")\n    agent.place(  ,      )\n    # 在這行以上加入程式碼\nsay(\"我已經走到底了\")",
    "minecraft": {
     "closeCodeBuilderOnRun": true,
     "onCodeCancelledCommand": "scoreboard players set @s codeExecution 0",
     "onCodeErrorCommand": "scoreboard players set @s codeExecution -1",
     "onCodeStartedCommand": "scoreboard players set @s codeExecution 1",
     "onCodeStoppedCommand": "scoreboard players set @s codeExecution 0",
     "onCodeSuccessfulCommand": "scoreboard players set @s codeExecution 2",
     "overridePython": "",
     "readonly": false
    }
   },
   "outputs": [],
   "source": [
    "while agent.inspect(\"forward\").id == \"air\":\n",
    "    agent.move(\"forward\")\n",
    "    agent.place(  ,      )\n",
    "    # 在這行以上加入程式碼\n",
    "say(\"我已經走到底了\")"
   ]
  },
  {
   "cell_type": "markdown",
   "metadata": {},
   "source": [
    "太棒了！ 執行你的程式來調查另一座島嶼吧！"
   ]
  }
 ],
 "metadata": {
  "kernelspec": {
   "display_name": "Python 3 (ipykernel)",
   "language": "python",
   "name": "python3"
  },
  "language_info": {
   "codemirror_mode": {
    "name": "ipython",
    "version": 3
   },
   "file_extension": ".py",
   "mimetype": "text/x-python",
   "name": "python",
   "nbconvert_exporter": "python",
   "pygments_lexer": "ipython3",
   "version": "3.9.7"
  },
  "minecraft": {
   "description": "第2節",
   "page_id": "1.2",
   "page_name": "第2節",
   "style": "minecraft.css"
  }
 },
 "nbformat": 4,
 "nbformat_minor": 4
}
