{
 "cells": [
  {
   "cell_type": "markdown",
   "metadata": {},
   "source": [
    "# Introduction to While Loops\n",
    "In this activity, you will be getting hands-on with `while` Loops."
   ]
  },
  {
   "cell_type": "markdown",
   "metadata": {},
   "source": [
    "## Getting started with the `while` loop\n",
    "\n",
    "In Island 3, you were introduced to **For Loops**. On this island, you're going to get to grips with the other type of loop, the **While Loop**. You use this if you don't know how many times you are going to loop for.\n",
    "\n",
    "Here's an example of a **while loop**\n",
    "```python\n",
    "while condition_1 == condition_2:\n",
    "    say(\"Condition_1 is equal to condition_2\")\n",
    "```\n",
    "\n",
    "The code above will run **as long as** the condition is met, just like `if` statements, we use conditions for `while` loops. We use these conditions to check if we should stop looping."
   ]
  },
  {
   "cell_type": "markdown",
   "metadata": {},
   "source": [
    "## Bridging the gap\n",
    "\n",
    "![Island?](blind.jpg)\n",
    "\n",
    "**Mine Manager** - \"*So could you and your Agent build a bridge through the fog and investigate what might be over there?*\""
   ]
  },
  {
   "cell_type": "markdown",
   "metadata": {},
   "source": [
    "## Step 1\n",
    "\n",
    "To begin, you'll need to get your agent to run a while loop, to see if it has reached another landmass (island). To do this you can have your Agent check if the block in front of it is `\"air\"` and if so, the move forward (inside the **While Loop**). When your Agent gets to another landmass, the block in front will no longer be `\"air\"`, so you can stop.\n",
    "\n",
    "To do this we can use `agent.inspect()`:\n",
    "```python\n",
    "agent.inspect(direction)\n",
    "```\n",
    "- `direction`: The direction of the block we want the agent to inspect. The directions you can use are: `forward`, `back`, `left`, `right`, `up`, `down`.\n",
    "\n",
    "`agent.inspect()` returns a *Block* that contains the info on a block. To get the name of the block you can look at the `.id` property.\n",
    "\n",
    "Add the inspect to the `while` loop below so that the agent checks the block in the direction`\"forward\"` is air.\n",
    "\n",
    "*remember you can stop the code in the code window*\n",
    "**Complete the while loop in the code below!***"
   ]
  },
  {
   "cell_type": "code",
   "execution_count": null,
   "metadata": {
    "minecraft": {
     "closeCodeBuilderOnRun": true,
     "onCodeCancelledCommand": "scoreboard players set @s codeExecution 0",
     "onCodeErrorCommand": "scoreboard players set @s codeExecution -1",
     "onCodeStartedCommand": "scoreboard players set @s codeExecution 1",
     "onCodeStoppedCommand": "scoreboard players set @s codeExecution 0",
     "onCodeSuccessfulCommand": "scoreboard players set @s codeExecution 2",
     "overridePython": "",
     "readonly": false
    }
   },
   "outputs": [],
   "source": [
    "while agent.    (    ).id == \"air\":\n",
    "    # Finish the line above\n",
    "    say(\"Nothing in front of me!\")"
   ]
  },
  {
   "cell_type": "markdown",
   "metadata": {},
   "source": [
    "Great! Remember to stop your code if it is still running and click next to go to the next section."
   ]
  }
 ],
 "metadata": {
  "kernelspec": {
   "display_name": "Python 3 (ipykernel)",
   "language": "python",
   "name": "python3"
  },
  "language_info": {
   "codemirror_mode": {
    "name": "ipython",
    "version": 3
   },
   "file_extension": ".py",
   "mimetype": "text/x-python",
   "name": "python",
   "nbconvert_exporter": "python",
   "pygments_lexer": "ipython3",
   "version": "3.9.7"
  },
  "minecraft": {
   "description": "Section 1",
   "page_id": "1.1",
   "page_name": "Section 1",
   "style": "minecraft.css"
  }
 },
 "nbformat": 4,
 "nbformat_minor": 4
}
