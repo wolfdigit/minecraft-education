{
 "cells": [
  {
   "cell_type": "markdown",
   "metadata": {},
   "source": [
    "# 認識While迴圈\n",
    "在這次活動中，你會動手練習`while`迴圈。"
   ]
  },
  {
   "cell_type": "markdown",
   "metadata": {},
   "source": [
    "## 開始認識`while`迴圈\n",
    "\n",
    "你已經在島嶼3學過**For迴圈**了。 在這個島嶼，你要處理另一種迴圈 - **While迴圈**。 當你不確定要重複幾次的時候可以使用它。\n",
    "\n",
    "這是個**while迴圈**的範例\n",
    "```python\n",
    "while condition_1 == condition_2:\n",
    "    say(\"condition_1 和 condition_2 相等\")\n",
    "```\n",
    "\n",
    "**凡是**條件判斷成立的時候，裡面的程式碼就會一直執行。就像`if`敘述一樣，我們在`while`迴圈也用到條件判斷。 我們用條件判斷來決定要繼續重複迴圈還是停下來。"
   ]
  },
  {
   "cell_type": "markdown",
   "metadata": {},
   "source": [
    "## 搭橋跨過鴻溝\n",
    "\n",
    "![Island?](blind.jpg)\n",
    "\n",
    "**礦場經理** - \"*所以你和你的agent可以幫忙搭橋穿越這團迷霧、調查在對面有什麼東西嗎？*\""
   ]
  },
  {
   "cell_type": "markdown",
   "metadata": {},
   "source": [
    "## 步驟 1\n",
    "\n",
    "要開始的話，你要先讓你的agent跑while迴圈判斷它是否碰到另一片陸地。 要達成這件事，你可以讓你的Agent檢查它前面的方塊是不是空氣`\"air\"`，如果是的話就往前移動(在**While迴圈**裡面)。 當你的Agent到達另一片陸地時，它前面的方塊就不再是空氣`\"air\"`了，所以你可以停止迴圈。\n",
    "\n",
    "我們可以用\"調查\"`agent.inspect()`來達成：\n",
    "```python\n",
    "agent.inspect(方向)\n",
    "```\n",
    "- `方向`: 我們希望agent調查的方向。可以用的方向有`forward`(前), `back`(後), `left`(左), `right`(右), `up`(上), `down`(下)。\n",
    "\n",
    "`agent.inspect()` 回傳一個*Block*(方塊)來表達一個方塊的資訊。 要得到方塊的名稱你可以看它的`.id`屬性。\n",
    "\n",
    "在下面的`while`迴圈加入inspect(調查)讓agent確認前方(`\"forward\"`)的方塊是air(空氣)。\n",
    "\n",
    "*記住，在程式碼視窗你可以停止程式執行*\n",
    "**完成下面程式碼的while迴圈！***"
   ]
  },
  {
   "cell_type": "code",
   "execution_count": null,
   "metadata": {
    "minecraft": {
     "closeCodeBuilderOnRun": true,
     "onCodeCancelledCommand": "scoreboard players set @s codeExecution 0",
     "onCodeErrorCommand": "scoreboard players set @s codeExecution -1",
     "onCodeStartedCommand": "scoreboard players set @s codeExecution 1",
     "onCodeStoppedCommand": "scoreboard players set @s codeExecution 0",
     "onCodeSuccessfulCommand": "scoreboard players set @s codeExecution 2",
     "overridePython": "",
     "readonly": false
    }
   },
   "outputs": [],
   "source": [
    "while agent.    (    ).id == \"air\":\n",
    "    # 完成上面那行\n",
    "    say(\"我前面沒東西！\")"
   ]
  },
  {
   "cell_type": "markdown",
   "metadata": {},
   "source": [
    "很好！ 如果你的程式還在一直執行的話記得把它停下來，然後按下一步進到下一節。"
   ]
  }
 ],
 "metadata": {
  "kernelspec": {
   "display_name": "Python 3 (ipykernel)",
   "language": "python",
   "name": "python3"
  },
  "language_info": {
   "codemirror_mode": {
    "name": "ipython",
    "version": 3
   },
   "file_extension": ".py",
   "mimetype": "text/x-python",
   "name": "python",
   "nbconvert_exporter": "python",
   "pygments_lexer": "ipython3",
   "version": "3.9.7"
  },
  "minecraft": {
   "description": "第1節",
   "page_id": "1.1",
   "page_name": "第1節",
   "style": "minecraft.css"
  }
 },
 "nbformat": 4,
 "nbformat_minor": 4
}
