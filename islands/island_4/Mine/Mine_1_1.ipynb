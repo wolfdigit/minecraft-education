{
 "cells": [
  {
   "cell_type": "markdown",
   "metadata": {},
   "source": [
    "# Sort the mined material.\n",
    "\n",
    "![Sorting room](cover.jpg)\n",
    "\n",
    "Welcome to the Mine! The miners need a hand with sorting today's mined ores. However, the sorting room has too much dust for you to go in. So your agent has been sent in. Program it to sort and mark ores ready for processing.    \n",
    "You will need to find 3 Diamond ores in this task.   "
   ]
  },
  {
   "cell_type": "markdown",
   "metadata": {},
   "source": [
    "## Step 1\n",
    "\n",
    "First, we want to create the **while loop** that runs while you haven't yet found all three 3 Diamond ore blocks you are looking for.\n",
    "\n",
    "To do this, we can use a while loop and check if a variable that we use to keep count of the Diamonds, is less than 3. To do this, we can use the `<` operator. This means what is on the left is less than what's on the right.\n",
    "\n",
    "**Below is an example of a while loop, move onto step 2 when you're ready**"
   ]
  },
  {
   "cell_type": "code",
   "execution_count": null,
   "metadata": {
    "minecraft": {
     "closeCodeBuilderOnRun": true,
     "onCodeCancelledCommand": "scoreboard players set @s codeExecution 0",
     "onCodeErrorCommand": "scoreboard players set @s codeExecution -1",
     "onCodeStartedCommand": "scoreboard players set @s codeExecution 1",
     "onCodeStoppedCommand": "scoreboard players set @s codeExecution 0",
     "onCodeSuccessfulCommand": "scoreboard players set @s codeExecution 2",
     "overridePython": "import time\n\ndef check_ore(direction: str):\n    inspect = agent.inspect(direction)\n    block = str(inspect.id)\n    if block == \"deepslate_copper_ore\":\n        return \"diamond_ore\"\n    elif block == \"deepslate_coal_ore\":\n        return \"dirt\"\n    else:\n        return block\n\ndef mark_diamond():\n    if check_ore(\"forward\") is not \"air\":\n        agent.place(\"up\", 2)\n    else:\n        say(\"Unable to detect a block!\")\n        raise Exception(\"Unable to detect block\")\n\ndef mark_bin():\n    if check_ore(\"forward\") is not \"air\":\n        agent.place(\"up\", 1)\n    else:\n        say(\"Unable to detect a block!\")\n        raise Exception(\"Unable to detect block\")\n\n@user-code\n    time.sleep(0.5)\n",
     "readonly": true
    },
    "tags": []
   },
   "outputs": [],
   "source": [
    "found_diamond = 0\n",
    "while found_diamond < 3 :\n",
    "    # This is how a while loop is made\n",
    "    say(\"I keep Looping\")"
   ]
  },
  {
   "cell_type": "markdown",
   "metadata": {},
   "source": [
    "## Step 2\n",
    "\n",
    "Now that you've set the while loop up. You can add the code for checking what ore is placed in front of the agent. To do this, we can use the `check_ore()` function, with an `if statement`. If we get returned *diamond_ore*, then we can say it's diamond ore.\n",
    "\n",
    "Each time we find diamond ore, we can add 1 to the variable `found_diamond`, so we can keep count of how many diamonds we have found.\n",
    "\n",
    "#### Check Ore\n",
    "To inspect the block to see what ore it is, we can use `check_ore()` as shown below:\n",
    "```python\n",
    "check_ore(direction)\n",
    "```\n",
    "- `direction`: The direction of the block we want to check. The directions you can use are: `forward`, `back`, `left`, `right`, `up`, `down`.\n",
    "\n",
    "The function will return the name of the block in the direction chosen.\n",
    "\n",
    "**Complete the code below so that it checks the ore in front of your agent, is diamond**"
   ]
  },
  {
   "cell_type": "code",
   "execution_count": null,
   "metadata": {
    "minecraft": {
     "closeCodeBuilderOnRun": true,
     "onCodeCancelledCommand": "scoreboard players set @s codeExecution 0",
     "onCodeErrorCommand": "scoreboard players set @s codeExecution -1",
     "onCodeStartedCommand": "scoreboard players set @s codeExecution 1",
     "onCodeStoppedCommand": "scoreboard players set @s codeExecution 0",
     "onCodeSuccessfulCommand": "scoreboard players set @s codeExecution 2",
     "overridePython": "import time\n\ndef check_ore(direction: str):\n    inspect = agent.inspect(direction)\n    block = str(inspect.id)\n    if block == \"deepslate_copper_ore\":\n        return \"diamond_ore\"\n    elif block == \"deepslate_coal_ore\":\n        return \"dirt\"\n    else:\n        return block\n\ndef mark_diamond():\n    if check_ore(\"forward\") is not \"air\":\n        agent.place(\"up\", 2)\n    else:\n        say(\"Unable to detect a block!\")\n        raise Exception(\"Unable to detect block\")\n\ndef mark_bin():\n    if check_ore(\"forward\") is not \"air\":\n        agent.place(\"up\", 1)\n    else:\n        say(\"Unable to detect a block!\")\n        raise Exception(\"Unable to detect block\")\n\n@user-code\n    time.sleep(0.5)\n",
     "readonly": false
    },
    "tags": []
   },
   "outputs": [],
   "source": [
    "found_diamond = 0\n",
    "while found_diamond < 3:\n",
    "    if check_   (\"     \") == \"diamond_ore\":\n",
    "        # Complete the line of code above\n",
    "        say(\"Hey! That's diamond ore!\")\n",
    "        found_diamond = found_diamond + 1"
   ]
  },
  {
   "cell_type": "markdown",
   "metadata": {},
   "source": [
    "Great! When you're ready to move on, stop the code from running and click the next button."
   ]
  }
 ],
 "metadata": {
  "kernelspec": {
   "display_name": "Python 3 (ipykernel)",
   "language": "python",
   "name": "python3"
  },
  "language_info": {
   "codemirror_mode": {
    "name": "ipython",
    "version": 3
   },
   "file_extension": ".py",
   "mimetype": "text/x-python",
   "name": "python",
   "nbconvert_exporter": "python",
   "pygments_lexer": "ipython3",
   "version": "3.9.7"
  },
  "minecraft": {
   "description": "Section 1",
   "page_id": "1.1",
   "page_name": "Section 1",
   "style": "minecraft.css"
  }
 },
 "nbformat": 4,
 "nbformat_minor": 4
}
