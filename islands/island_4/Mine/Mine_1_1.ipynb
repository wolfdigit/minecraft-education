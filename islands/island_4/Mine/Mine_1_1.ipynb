{
 "cells": [
  {
   "cell_type": "markdown",
   "metadata": {},
   "source": [
    "# 將開採出來的原料分類。\n",
    "\n",
    "![Sorting room](cover.jpg)\n",
    "\n",
    "歡迎來到礦場！ 礦工們需要有人幫忙分類今天開採出來的原礦。 但是呢，分類室裡面太多灰塵了，你不能進去。 所以你的agent被送進去了。 寫程式控制它來分類原礦，並且將可以進行下一步處理的標記起來。    \n",
    "在這個任務裡你需要找到3個鑽石礦。   "
   ]
  },
  {
   "cell_type": "markdown",
   "metadata": {},
   "source": [
    "## 步驟 1\n",
    "\n",
    "首先，我們我們想要創建**while迴圈**，這個迴圈要在你還沒找到所需的3個鑽石礦的時候持續執行。\n",
    "\n",
    "要達成這件事，我們可以用一個while迴圈然後檢查我們用來數鑽石數量的變數是否小於3。 這件事我們可以用`<`運算子來做到。 它代表左邊的東西*小於*右邊的東西。\n",
    "\n",
    "**下面是一個while迴圈的範例，你準備好之後就可以進到步驟2**"
   ]
  },
  {
   "cell_type": "code",
   "execution_count": null,
   "metadata": {
    "minecraft": {
     "closeCodeBuilderOnRun": true,
     "onCodeCancelledCommand": "scoreboard players set @s codeExecution 0",
     "onCodeErrorCommand": "scoreboard players set @s codeExecution -1",
     "onCodeStartedCommand": "scoreboard players set @s codeExecution 1",
     "onCodeStoppedCommand": "scoreboard players set @s codeExecution 0",
     "onCodeSuccessfulCommand": "scoreboard players set @s codeExecution 2",
     "overridePython": "import time\n\ndef check_ore(direction: str):\n    inspect = agent.inspect(direction)\n    block = str(inspect.id)\n    if block == \"deepslate_copper_ore\":\n        return \"diamond_ore\"\n    elif block == \"deepslate_coal_ore\":\n        return \"dirt\"\n    else:\n        return block\n\ndef mark_diamond():\n    if check_ore(\"forward\") is not \"air\":\n        agent.place(\"up\", 2)\n    else:\n        say(\"偵測不到方塊！\")\n        raise Exception(\"Unable to detect block\")\n\ndef mark_bin():\n    if check_ore(\"forward\") is not \"air\":\n        agent.place(\"up\", 1)\n    else:\n        say(\"偵測不到方塊！\")\n        raise Exception(\"Unable to detect block\")\n\n@user-code\n    time.sleep(0.5)\n",
     "readonly": true
    },
    "tags": []
   },
   "outputs": [],
   "source": [
    "found_diamond = 0\n",
    "while found_diamond < 3 :\n",
    "    # 這就是while迴圈的寫法\n",
    "    say(\"我會繼續找\")"
   ]
  },
  {
   "cell_type": "markdown",
   "metadata": {},
   "source": [
    "## 步驟 2\n",
    "\n",
    "你已經建好while迴圈了。 你可以加上用來檢查agent前方是哪種原礦的程式碼。 要達成這件事，你可以用`check_ore()`函式，還有`if`敘述。 如果我們得到回傳值是*diamond_ore*，我們就可以知道它是鑽石礦。\n",
    "\n",
    "每次我們找到一個鑽石礦，我們可以把`found_diamond`變數加1，這樣我們就可以知道目前我們找到了多少個鑽石礦。\n",
    "\n",
    "#### 檢查原礦\n",
    "要檢查方塊看它是哪種原礦，我們可以用`check_ore()`像下面的範例：\n",
    "```python\n",
    "check_ore(方向)\n",
    "```\n",
    "- `方向`: 我們想要檢查的方塊的方向。可以用的方向有`forward`(前), `back`(後), `left`(左), `right`(右), `up`(上), `down`(下)\n",
    "\n",
    "這個函式會回傳指定方向的方塊名稱。\n",
    "\n",
    "**完成下面這段程式讓它檢查你agent前面的原礦是不是鑽石**"
   ]
  },
  {
   "cell_type": "code",
   "execution_count": null,
   "metadata": {
    "minecraft": {
     "closeCodeBuilderOnRun": true,
     "onCodeCancelledCommand": "scoreboard players set @s codeExecution 0",
     "onCodeErrorCommand": "scoreboard players set @s codeExecution -1",
     "onCodeStartedCommand": "scoreboard players set @s codeExecution 1",
     "onCodeStoppedCommand": "scoreboard players set @s codeExecution 0",
     "onCodeSuccessfulCommand": "scoreboard players set @s codeExecution 2",
     "overridePython": "import time\n\ndef check_ore(direction: str):\n    inspect = agent.inspect(direction)\n    block = str(inspect.id)\n    if block == \"deepslate_copper_ore\":\n        return \"diamond_ore\"\n    elif block == \"deepslate_coal_ore\":\n        return \"dirt\"\n    else:\n        return block\n\ndef mark_diamond():\n    if check_ore(\"forward\") is not \"air\":\n        agent.place(\"up\", 2)\n    else:\n        say(\"偵測不到方塊！\")\n        raise Exception(\"Unable to detect block\")\n\ndef mark_bin():\n    if check_ore(\"forward\") is not \"air\":\n        agent.place(\"up\", 1)\n    else:\n        say(\"偵測不到方塊！\")\n        raise Exception(\"Unable to detect block\")\n\n@user-code\n    time.sleep(0.5)\n",
     "readonly": false
    },
    "tags": []
   },
   "outputs": [],
   "source": [
    "found_diamond = 0\n",
    "while found_diamond < 3:\n",
    "    if check_   (\"     \") == \"diamond_ore\":\n",
    "        # 完成上面這一行程式\n",
    "        say(\"嘿！ 這是鑽石礦！\")\n",
    "        found_diamond = found_diamond + 1"
   ]
  },
  {
   "cell_type": "markdown",
   "metadata": {},
   "source": [
    "很好！ 當你準備好繼續下一步，先停止正在執行的程式，然後按下下一步按鈕。"
   ]
  }
 ],
 "metadata": {
  "kernelspec": {
   "display_name": "Python 3 (ipykernel)",
   "language": "python",
   "name": "python3"
  },
  "language_info": {
   "codemirror_mode": {
    "name": "ipython",
    "version": 3
   },
   "file_extension": ".py",
   "mimetype": "text/x-python",
   "name": "python",
   "nbconvert_exporter": "python",
   "pygments_lexer": "ipython3",
   "version": "3.9.7"
  },
  "minecraft": {
   "description": "第1節",
   "page_id": "1.1",
   "page_name": "第1節",
   "style": "minecraft.css"
  }
 },
 "nbformat": 4,
 "nbformat_minor": 4
}
