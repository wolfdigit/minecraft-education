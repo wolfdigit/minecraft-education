{
 "cells": [
  {
   "cell_type": "markdown",
   "metadata": {},
   "source": [
    "## 步驟 3\n",
    "\n",
    "現在我們知道怎麼找出鑽石礦了，我們要替礦工標記出有包含鑽石礦的方塊。 要做到這件事，我們可以用`mark_diamond()`，這會標記出可以進行下一步處理的鑽石礦。\n",
    "\n",
    "我們也需要標記出不是鑽石的其他原礦，是要丟棄的。 要做到這件事，我們可以在if敘述之後加上`else`敘述和`mark_bin()`來標記要丟棄的原礦。 else敘述會被執行的時機是，當它上面的`if`敘述沒有被觸發的時候。\n",
    "\n",
    "#### 標記鑽石\n",
    "要標記我們找到的鑽石，我們可以用`mark_diamond()`，像這樣：\n",
    "```python\n",
    "mark_diamond()\n",
    "```\n",
    "\n",
    "### 標記垃圾桶\n",
    "為了標記要丟棄的方塊，你可以使用`mark_bin()`\n",
    "```python\n",
    "mark_bin()\n",
    "```\n",
    "\n",
    "它會標記這個方塊讓礦工做後續處理，在輸送帶的盡頭。\n",
    "\n",
    "**完成下面的程式碼，來標記鑽石礦以及要丟棄的原礦**"
   ]
  },
  {
   "cell_type": "code",
   "execution_count": null,
   "metadata": {
    "default_code": "found_diamond = 0\nwhile found_diamond < 3:\n    if check_ore(\"forward\") == \"diamond_ore\":\n        mark_     ()\n        # 完成上面這行 \n        found_diamond = found_diamond + 1\n    else:\n        mark_   ()\n        # 完成上面這行來丟棄其他的原礦",
    "minecraft": {
     "closeCodeBuilderOnRun": true,
     "onCodeCancelledCommand": "scoreboard players set @s codeExecution 0",
     "onCodeErrorCommand": "scoreboard players set @s codeExecution -1",
     "onCodeStartedCommand": "scoreboard players set @s codeExecution 1",
     "onCodeStoppedCommand": "scoreboard players set @s codeExecution 0",
     "onCodeSuccessfulCommand": "scoreboard players set @s codeExecution 2",
     "overridePython": "import time\n\ndef check_ore(direction: str):\n    inspect = agent.inspect(direction)\n    block = str(inspect.id)\n    if block == \"deepslate_copper_ore\":\n        return \"diamond_ore\"\n    elif block == \"deepslate_coal_ore\":\n        return \"dirt\"\n    else:\n        return block\n\ndef mark_diamond():\n    if check_ore(\"forward\") is not \"air\":\n        agent.place(\"up\", 2)\n    else:\n        say(\"偵測不到方塊！\")\n        raise Exception(\"Unable to detect block\")\n\ndef mark_bin():\n    if check_ore(\"forward\") is not \"air\":\n        agent.place(\"up\", 1)\n    else:\n        say(\"偵測不到方塊！\")\n        raise Exception(\"Unable to detect block\")\n\n@user-code\n    time.sleep(0.5)\n",
     "readonly": false
    },
    "tags": []
   },
   "outputs": [],
   "source": [
    "found_diamond = 0\n",
    "while found_diamond < 3:\n",
    "    if check_ore(\"forward\") == \"diamond_ore\":\n",
    "        mark_     ()\n",
    "        # 完成上面這行 \n",
    "        found_diamond = found_diamond + 1\n",
    "    else:\n",
    "        mark_   ()\n",
    "        # 完成上面這行來丟棄其他的原礦"
   ]
  },
  {
   "cell_type": "markdown",
   "metadata": {},
   "source": [
    "寫好你的程式碼之後，就直接執行你的程式吧！"
   ]
  }
 ],
 "metadata": {
  "kernelspec": {
   "display_name": "Python 3 (ipykernel)",
   "language": "python",
   "name": "python3"
  },
  "language_info": {
   "codemirror_mode": {
    "name": "ipython",
    "version": 3
   },
   "file_extension": ".py",
   "mimetype": "text/x-python",
   "name": "python",
   "nbconvert_exporter": "python",
   "pygments_lexer": "ipython3",
   "version": "3.9.7"
  },
  "minecraft": {
   "description": "第2節",
   "page_id": "1.2",
   "page_name": "第2節",
   "style": "minecraft.css"
  }
 },
 "nbformat": 4,
 "nbformat_minor": 4
}
