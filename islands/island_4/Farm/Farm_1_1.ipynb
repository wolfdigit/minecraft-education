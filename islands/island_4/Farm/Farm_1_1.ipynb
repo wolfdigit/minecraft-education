{
 "cells": [
  {
   "cell_type": "markdown",
   "metadata": {},
   "source": [
    "# 自動化採花及分類\n",
    "\n",
    "![Cover image](cover.jpg)\n",
    "\n",
    "**園丁** - \"*歡迎來到植物園！ 我們需要你幫忙採一些罌粟花，用來做成你需要的紅色染料。 你和你的agent可以幫忙採罌粟花給我嗎？*\"   \n",
    "\n",
    "使用**While迴圈**，你的agent要在**當你收集還不夠多的時候**一直收集罌粟花。 一旦你有足夠數量(4個)了，你的agent要停下來。   "
   ]
  },
  {
   "cell_type": "markdown",
   "metadata": {},
   "source": [
    "## 步驟 1\n",
    "\n",
    "你要準備的第一件事就是你的迴圈。 在這個任務裡，你要檢查你agent物品欄裡面有多少罌粟。 當你開採罌粟方塊時，園丁會將罌粟放在你的agent物品欄**第1格**。 你可以用`agent.get_item_count()`取得某個格子裡的物品數量。 我們需要*4*個罌粟來製作足夠飛船使用的染料。\n",
    "\n",
    "這是`agent.get_item_count()`的用法：\n",
    "```python\n",
    "agent.get_item_count(欄位)\n",
    "```\n",
    "- 欄位: 你想要數物品數量的欄位編號 (通常是數第1格)。\n",
    "\n",
    "**完成下面程式碼， 創建一個while迴圈，當agent物品欄第1格的罌粟數量小於4的時候要重複執行。**"
   ]
  },
  {
   "cell_type": "code",
   "execution_count": null,
   "metadata": {
    "minecraft": {
     "closeCodeBuilderOnRun": true,
     "onCodeCancelledCommand": "scoreboard players set @s codeExecution 0",
     "onCodeErrorCommand": "scoreboard players set @s codeExecution -1",
     "onCodeStartedCommand": "scoreboard players set @s codeExecution 1",
     "onCodeStoppedCommand": "scoreboard players set @s codeExecution 0",
     "onCodeSuccessfulCommand": "scoreboard players set @s codeExecution 2",
     "overridePython": "def check_flower(direction: str):\n    inspect = agent.inspect(direction)\n    block = str(inspect.id)\n    data = int(inspect.data)\n    flower_list = {\n        1: 'blue_orchid',\n        2: 'allium',\n        3: 'houstonia',\n        4: 'red_tulip',\n        5: 'orange_tulip',\n        6: 'white_tulip',\n        7: 'pink_tulip',\n        8: 'oxeye_daisy',\n        9: 'cornflower',\n        10: 'lily_of_the_valley',\n    }\n    if block == 'red_flower':\n        return flower_list.get(data, block)\n    elif block == \"pointed_dripstone\":\n        return \"poppy\"\n    else:\n        return block\n\n@user-code\n",
     "readonly": false
    },
    "tags": []
   },
   "outputs": [],
   "source": [
    "while agent.              < 4:\n",
    "    # 完成上面這一行的程式碼\n",
    "    say(\"我還需要更多罌粟！\")"
   ]
  },
  {
   "cell_type": "markdown",
   "metadata": {},
   "source": [
    "繼續下一步之前，別忘了停止你的程式，不然的話它會永遠不停地執行下去！"
   ]
  },
  {
   "cell_type": "markdown",
   "metadata": {},
   "source": [
    "## 步驟 2\n",
    "\n",
    "現在你已經建好一個**while迴圈**了， 再來你需要在每次迴圈執行時將你的agent往前`\"forward\"`移動。 你可以用`agent.move()`做到這件事。    \n",
    "   \n",
    "任何時候你都可以用你的哨子叫agent回到出發點。   \n",
    "\n",
    "**讓你的agent在每次迴圈步驟裡往前移動1格。**"
   ]
  },
  {
   "cell_type": "code",
   "execution_count": null,
   "metadata": {
    "minecraft": {
     "closeCodeBuilderOnRun": true,
     "onCodeCancelledCommand": "scoreboard players set @s codeExecution 0",
     "onCodeErrorCommand": "scoreboard players set @s codeExecution -1",
     "onCodeStartedCommand": "scoreboard players set @s codeExecution 1",
     "onCodeStoppedCommand": "scoreboard players set @s codeExecution 0",
     "onCodeSuccessfulCommand": "scoreboard players set @s codeExecution 2",
     "overridePython": "def check_flower(direction: str):\n    inspect = agent.inspect(direction)\n    block = str(inspect.id)\n    data = int(inspect.data)\n    flower_list = {\n        1: 'blue_orchid',\n        2: 'allium',\n        3: 'houstonia',\n        4: 'red_tulip',\n        5: 'orange_tulip',\n        6: 'white_tulip',\n        7: 'pink_tulip',\n        8: 'oxeye_daisy',\n        9: 'cornflower',\n        10: 'lily_of_the_valley',\n    }\n    if block == 'red_flower':\n        return flower_list.get(data, block)\n    elif block == \"pointed_dripstone\":\n        return \"poppy\"\n    else:\n        return block\n\n@user-code\n",
     "readonly": false
    },
    "tags": []
   },
   "outputs": [],
   "source": [
    "while agent.get_item_count(1) < 4:\n",
    "    agent.\n",
    "    # 完成上面這一行讓你的Agent每次都往前移動。"
   ]
  },
  {
   "cell_type": "markdown",
   "metadata": {},
   "source": [
    "準備好之後，就繼續下一節吧。"
   ]
  }
 ],
 "metadata": {
  "kernelspec": {
   "display_name": "Python 3 (ipykernel)",
   "language": "python",
   "name": "python3"
  },
  "language_info": {
   "codemirror_mode": {
    "name": "ipython",
    "version": 3
   },
   "file_extension": ".py",
   "mimetype": "text/x-python",
   "name": "python",
   "nbconvert_exporter": "python",
   "pygments_lexer": "ipython3",
   "version": "3.9.7"
  },
  "minecraft": {
   "description": "第1節",
   "page_id": "1.1",
   "page_name": "第1節",
   "style": "minecraft.css"
  }
 },
 "nbformat": 4,
 "nbformat_minor": 4
}
