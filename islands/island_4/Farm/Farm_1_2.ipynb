{
 "cells": [
  {
   "cell_type": "markdown",
   "metadata": {},
   "source": [
    "## 步驟 3\n",
    "\n",
    "你會讓你的agent移動了之後， 它要檢查下方是哪一種花，並且決定是否要收集(*開採*)它。    \n",
    "你可以用`check_flower()`達成這件事，它會回傳agent下面的花的種類。 有這項資訊，你可以用在`if敘述`裡，來判斷這朵花是不是罌粟`\"poppy\"`。 如果是罌粟你可以用`agent.destroy()`來摘取你agent下方(\"down\")的花。\n",
    "\n",
    "如何使用`check_flower()`：\n",
    "```python\n",
    "check_flower(方向)\n",
    "```\n",
    "- `方向`: Agent要檢查的花的方向。 可以用的方向有`forward`(前), `back`(後), `left`(左), `right`(右), `up`(上), `down`(下)。\n",
    "\n",
    "Here's how you use `agent.destroy()`\n",
    "```python\n",
    "agent.destroy(direction)\n",
    "```\n",
    "\n",
    "- `方向`: 你的agent要開採的方向。可以用的方向有`forward`(前), `back`(後), `left`(左), `right`(右), `up`(上), `down`(下)\n",
    "\n",
    "**完成下面的程式碼讓你的agent檢查花圃裡一排的每一朵花。**"
   ]
  },
  {
   "cell_type": "code",
   "execution_count": null,
   "metadata": {
    "minecraft": {
     "closeCodeBuilderOnRun": true,
     "default_code": "while               ==      :\nwhile agent.get_item_count(1) < 4:\n    agent.move(\"forward\")\n    if check_  == \"     \":    # Tip, on this line, make sure there is no extra spaces within the speech marks!\n        agent.destroy(\"    \")\n        # Complete the 2 lines above.",
     "onCodeCancelledCommand": "scoreboard players set @s codeExecution 0",
     "onCodeErrorCommand": "scoreboard players set @s codeExecution -1",
     "onCodeStartedCommand": "scoreboard players set @s codeExecution 1",
     "onCodeStoppedCommand": "scoreboard players set @s codeExecution 0",
     "onCodeSuccessfulCommand": "scoreboard players set @s codeExecution 2",
     "overridePython": "def check_flower(direction: str):\n    inspect = agent.inspect(direction)\n    block = str(inspect.id)\n    data = int(inspect.data)\n    flower_list = {\n        1: 'blue_orchid',\n        2: 'allium',\n        3: 'houstonia',\n        4: 'red_tulip',\n        5: 'orange_tulip',\n        6: 'white_tulip',\n        7: 'pink_tulip',\n        8: 'oxeye_daisy',\n        9: 'cornflower',\n        10: 'lily_of_the_valley',\n    }\n    if block == 'red_flower':\n        return flower_list.get(data, block)\n    elif block == \"pointed_dripstone\":\n        return \"poppy\"\n    else:\n        return block\n\n@user-code\n",
     "readonly": false
    },
    "tags": []
   },
   "outputs": [],
   "source": [
    "while agent.get_item_count(1) < 4:\n",
    "    agent.move(\"forward\")\n",
    "    if check_  == \"     \":    # 提示：在這一行，要確保雙引號裡面沒有多餘的空格！\n",
    "        agent.destroy(\"    \")\n",
    "        # 完成上面的2行。"
   ]
  },
  {
   "cell_type": "markdown",
   "metadata": {},
   "source": [
    "## 步驟 4\n",
    "你的agent已經可以檢查一整排花了， 再來你要在每次檢查完一排之後能移動到下一排。 要做到這件事，你要用`agent.move()`和`agent.turn()`讓你的agent開始下一排，**然後重複一遍步驟3**，直到你收集完所有需要的罌粟為止。\n",
    "\n",
    "如何使用`agent.move()`:\n",
    "```python\n",
    "agent.move(方向)\n",
    "```\n",
    "- `方向`: 我們想要讓agent移動的方向。可以用的方向有`forward`(前), `back`(後), `left`(左), `right`(右), `up`(上), `down`(下)\n",
    "\n",
    "如何使用`agent.turn()`:\n",
    "```python\n",
    "agent.turn(方向)\n",
    "```\n",
    "- `方向`: 你的agent要轉的方向。 可以用的方向有`left`(左), `right`(右)。\n",
    "\n",
    "**在下面的程式框寫一小段程式讓你的agent轉向、前進、再轉向一次，然後再執行一次步驟3的程式碼。**"
   ]
  },
  {
   "cell_type": "code",
   "execution_count": null,
   "metadata": {
    "minecraft": {
     "closeCodeBuilderOnRun": true,
     "onCodeCancelledCommand": "scoreboard players set @s codeExecution 0",
     "onCodeErrorCommand": "scoreboard players set @s codeExecution -1",
     "onCodeStartedCommand": "scoreboard players set @s codeExecution 1",
     "onCodeStoppedCommand": "scoreboard players set @s codeExecution 0",
     "onCodeSuccessfulCommand": "scoreboard players set @s codeExecution 2",
     "overridePython": "def check_flower(direction: str):\n    inspect = agent.inspect(direction)\n    block = str(inspect.id)\n    data = int(inspect.data)\n    flower_list = {\n        1: 'blue_orchid',\n        2: 'allium',\n        3: 'houstonia',\n        4: 'red_tulip',\n        5: 'orange_tulip',\n        6: 'white_tulip',\n        7: 'pink_tulip',\n        8: 'oxeye_daisy',\n        9: 'cornflower',\n        10: 'lily_of_the_valley',\n    }\n    if block == 'red_flower':\n        return flower_list.get(data, block)\n    elif block == \"pointed_dripstone\":\n        return \"poppy\"\n    else:\n        return block\n\n@user-code\n",
     "readonly": false
    },
    "tags": []
   },
   "outputs": [],
   "source": [
    "\n",
    "\n",
    "\n",
    "\n",
    "# 在上面這幾行填入你的程式碼。 別忘了要先停止之前正在執行的程式。"
   ]
  },
  {
   "cell_type": "markdown",
   "metadata": {},
   "source": [
    "很好！ 記得要重複步驟3和步驟4直到你收集到所有你需要的罌粟！"
   ]
  }
 ],
 "metadata": {
  "kernelspec": {
   "display_name": "Python 3 (ipykernel)",
   "language": "python",
   "name": "python3"
  },
  "language_info": {
   "codemirror_mode": {
    "name": "ipython",
    "version": 3
   },
   "file_extension": ".py",
   "mimetype": "text/x-python",
   "name": "python",
   "nbconvert_exporter": "python",
   "pygments_lexer": "ipython3",
   "version": "3.9.7"
  },
  "minecraft": {
   "description": "第2節",
   "page_id": "1.2",
   "page_name": "第2節",
   "style": "minecraft.css"
  }
 },
 "nbformat": 4,
 "nbformat_minor": 4
}
