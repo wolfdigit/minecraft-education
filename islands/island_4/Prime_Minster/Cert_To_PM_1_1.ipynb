{
 "cells": [
  {
   "cell_type": "markdown",
   "metadata": {},
   "source": [
    "# Deliver the Certificate of Airworthiness\n",
    "\n",
    "![PM With certificate of airworthiness](Cert_Cover.jpg)\n",
    "\n",
    "One of my staff has informed me that you've got the Certificate of Airworthiness for the new airship.\n",
    "\n",
    "Please deliver the Certificate to me as possible please.   \n",
    "\n",
    "**Prime Minister**"
   ]
  }
 ],
 "metadata": {
  "kernelspec": {
   "display_name": "Python 3",
   "language": "python",
   "name": "python3"
  },
  "language_info": {
   "codemirror_mode": {
    "name": "ipython",
    "version": 3
   },
   "file_extension": ".py",
   "mimetype": "text/x-python",
   "name": "python",
   "nbconvert_exporter": "python",
   "pygments_lexer": "ipython3",
   "version": "3.8.5"
  },
  "minecraft": {
   "description": "Section 1",
   "page_id": "1.1",
   "page_name": "Section 1",
   "style": "minecraft.css"
  }
 },
 "nbformat": 4,
 "nbformat_minor": 4
}
