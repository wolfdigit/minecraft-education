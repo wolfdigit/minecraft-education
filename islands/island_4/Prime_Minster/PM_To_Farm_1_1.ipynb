{
 "cells": [
  {
   "cell_type": "markdown",
   "metadata": {},
   "source": [
    "# Message from the Prime Minister\n",
    "\n",
    "![Photo of Prime Minster](PM_Photo.jpg)\n",
    "\n",
    "I am receiving some worrying news... The island you are currently on is on a slow collision course with the mining island!   \n",
    "\n",
    "We must help the gentleman that lives on this island...   \n",
    "I say we should build an airship for him!   \n",
    "\n",
    "Head over to the mine and get the diamond for the new airship that's getting built. \n",
    "\n",
    "There you will meet Frankie, our mine technician.\n",
    "\n",
    "**Prime Minister**"
   ]
  }
 ],
 "metadata": {
  "kernelspec": {
   "display_name": "Python 3",
   "language": "python",
   "name": "python3"
  },
  "language_info": {
   "codemirror_mode": {
    "name": "ipython",
    "version": 3
   },
   "file_extension": ".py",
   "mimetype": "text/x-python",
   "name": "python",
   "nbconvert_exporter": "python",
   "pygments_lexer": "ipython3",
   "version": "3.8.3"
  },
  "minecraft": {
   "description": "Section 1",
   "page_id": "1.1",
   "page_name": "Section 1",
   "style": "minecraft.css"
  }
 },
 "nbformat": 4,
 "nbformat_minor": 4
}
