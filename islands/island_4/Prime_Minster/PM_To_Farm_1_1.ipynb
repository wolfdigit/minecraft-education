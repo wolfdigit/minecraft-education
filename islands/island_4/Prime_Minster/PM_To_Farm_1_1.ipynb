{
 "cells": [
  {
   "cell_type": "markdown",
   "metadata": {},
   "source": [
    "# 總理傳來的訊息\n",
    "\n",
    "![Photo of Prime Minster](PM_Photo.jpg)\n",
    "\n",
    "我收到一些值得擔心的消息... 你現在站的島嶼的移動軌跡慢慢的將會跟挖礦島發生碰撞！   \n",
    "\n",
    "我們必須要拯救住在這座小島上的先生...   \n",
    "我看我們應該為他造一艘飛船！   \n",
    "\n",
    "去往礦場挖取建造新飛船需要的鑽石吧。 \n",
    "\n",
    "你會在那裡遇見Frankie，他是我們的礦場技術員。\n",
    "\n",
    "**總理**"
   ]
  }
 ],
 "metadata": {
  "kernelspec": {
   "display_name": "Python 3",
   "language": "python",
   "name": "python3"
  },
  "language_info": {
   "codemirror_mode": {
    "name": "ipython",
    "version": 3
   },
   "file_extension": ".py",
   "mimetype": "text/x-python",
   "name": "python",
   "nbconvert_exporter": "python",
   "pygments_lexer": "ipython3",
   "version": "3.8.3"
  },
  "minecraft": {
   "description": "第1節",
   "page_id": "1.1",
   "page_name": "第1節",
   "style": "minecraft.css"
  }
 },
 "nbformat": 4,
 "nbformat_minor": 4
}
