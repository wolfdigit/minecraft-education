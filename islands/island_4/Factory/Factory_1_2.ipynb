{
 "cells": [
  {
   "cell_type": "markdown",
   "metadata": {},
   "source": [
    "## 步驟 3\n",
    "\n",
    "agent已經在船塢最底下了，它可以撿起破掉而掉下去的方塊。 你可以從飛船下面的觀景窗看到那些方塊在哪裡。\n",
    "\n",
    "要撿起方塊，使用`agent.collect`函式。\n",
    "\n",
    "這是如何使用它：\n",
    "```python\n",
    "agent.collect()\n",
    "```\n",
    "\n",
    "**在下面框裡寫一行`agent.collect`來收集掉落的方塊。**"
   ]
  },
  {
   "cell_type": "code",
   "execution_count": null,
   "metadata": {
    "minecraft": {
     "closeCodeBuilderOnRun": true,
     "onCodeCancelledCommand": "scoreboard players set @s codeExecution 0",
     "onCodeErrorCommand": "scoreboard players set @s codeExecution -1",
     "onCodeStartedCommand": "scoreboard players set @s codeExecution 1",
     "onCodeStoppedCommand": "scoreboard players set @s codeExecution 0",
     "onCodeSuccessfulCommand": "scoreboard players set @s codeExecution 2",
     "overridePython": "",
     "readonly": false
    }
   },
   "outputs": [],
   "source": [
    "\n",
    "\n",
    "# 在上面加入你的程式碼"
   ]
  },
  {
   "cell_type": "markdown",
   "metadata": {},
   "source": [
    "## 步驟 4\n",
    "\n",
    "Agent已經拿著修復飛船要的方塊了，我們要把它移動回到正確的位置來放入方塊。\n",
    "\n",
    "工廠的工人告訴你，要修復的位置的`y`座標是`157`。\n",
    "\n",
    "要取得現在agent所在位置的y座標，可以用：\n",
    "```python\n",
    "agent.position.y\n",
    "```\n",
    "\n",
    "**完成下面的程式碼，當agent的y座標不等於`157`時就繼續重複執行。 注意，這邊用的 `!=` 代表 \"不等於\"。**"
   ]
  },
  {
   "cell_type": "code",
   "execution_count": null,
   "metadata": {
    "minecraft": {
     "closeCodeBuilderOnRun": true,
     "onCodeCancelledCommand": "scoreboard players set @s codeExecution 0",
     "onCodeErrorCommand": "scoreboard players set @s codeExecution -1",
     "onCodeStartedCommand": "scoreboard players set @s codeExecution 1",
     "onCodeStoppedCommand": "scoreboard players set @s codeExecution 0",
     "onCodeSuccessfulCommand": "scoreboard players set @s codeExecution 2",
     "overridePython": "",
     "readonly": false
    }
   },
   "outputs": [],
   "source": [
    "while(            !=    ):\n",
    "    agent.move(\"up\")"
   ]
  },
  {
   "cell_type": "markdown",
   "metadata": {},
   "source": [
    "一旦你完成這一節之後，就繼續往最後一節吧！"
   ]
  }
 ],
 "metadata": {
  "kernelspec": {
   "display_name": "Python 3 (ipykernel)",
   "language": "python",
   "name": "python3"
  },
  "language_info": {
   "codemirror_mode": {
    "name": "ipython",
    "version": 3
   },
   "file_extension": ".py",
   "mimetype": "text/x-python",
   "name": "python",
   "nbconvert_exporter": "python",
   "pygments_lexer": "ipython3",
   "version": "3.9.7"
  },
  "minecraft": {
   "description": "第2節",
   "page_id": "1.2",
   "page_name": "第2節",
   "style": "minecraft.css"
  }
 },
 "nbformat": 4,
 "nbformat_minor": 4
}
