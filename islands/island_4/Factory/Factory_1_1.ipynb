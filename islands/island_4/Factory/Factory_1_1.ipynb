{
 "cells": [
  {
   "cell_type": "code",
   "execution_count": null,
   "metadata": {
    "minecraft": {
     "closeCodeBuilderOnRun": true,
     "hidden": true,
     "onCodeCancelledCommand": "scoreboard players set @s codeExecution 0",
     "onCodeErrorCommand": "scoreboard players set @s codeExecution -1",
     "onCodeStartedCommand": "scoreboard players set @s codeExecution 1",
     "onCodeStoppedCommand": "scoreboard players set @s codeExecution 0",
     "onCodeSuccessfulCommand": "scoreboard players set @s codeExecution 2",
     "overridePython": "",
     "readonly": false
    }
   },
   "outputs": [],
   "source": [
    "\"\"\"\n",
    "TO BE REMOVED\n",
    "This is the final code students will write and is here to testing \n",
    "\"\"\"\n",
    "\n",
    "while(agent.inspect(\"forward\").id == \"air\"):\n",
    "    # Move forward\n",
    "    agent.move(\"forward\")\n",
    "    \n",
    "    # Go down\n",
    "    while(agent.inspect(\"down\").id == \"air\"):\n",
    "        agent.move(\"down\")\n",
    "\n",
    "    # Collect\n",
    "    agent.collect()\n",
    "\n",
    "    # Go up\n",
    "    while(agent.position.y != 157):\n",
    "        agent.move(\"up\")\n",
    "\n",
    "    # Place block below the Agent\n",
    "    agent.place(\"down\",1)"
   ]
  },
  {
   "cell_type": "markdown",
   "metadata": {},
   "source": [
    "# 修復船殼\n",
    "\n",
    "看來飛船工廠的工人們需要人幫忙修復一艘他們新造的飛船。 派你的Agent進去修復那些破洞吧！\n",
    "\n",
    "![Airship Factory](cover.jpg)"
   ]
  },
  {
   "cell_type": "markdown",
   "metadata": {},
   "source": [
    "## 步驟 0\n",
    "在我們開始之前，先關閉這個視窗去找到你的agent吧，它應該在飛船裡面。   "
   ]
  },
  {
   "cell_type": "markdown",
   "metadata": {},
   "source": [
    "## 步驟 1\n",
    "\n",
    "首先，讓我們移動agent往前1格，讓它懸浮在第一個要修的破洞上面。\n",
    "\n",
    "**寫程式移動你的agent往前。**"
   ]
  },
  {
   "cell_type": "code",
   "execution_count": null,
   "metadata": {
    "minecraft": {
     "closeCodeBuilderOnRun": true,
     "onCodeCancelledCommand": "scoreboard players set @s codeExecution 0",
     "onCodeErrorCommand": "scoreboard players set @s codeExecution -1",
     "onCodeStartedCommand": "scoreboard players set @s codeExecution 1",
     "onCodeStoppedCommand": "scoreboard players set @s codeExecution 0",
     "onCodeSuccessfulCommand": "scoreboard players set @s codeExecution 2",
     "overridePython": "",
     "readonly": false
    }
   },
   "outputs": [],
   "source": [
    "\n",
    "\n",
    "# 在這上面加入你的程式碼"
   ]
  },
  {
   "cell_type": "markdown",
   "metadata": {},
   "source": [
    "## 步驟 2\n",
    "\n",
    "現在agent已經就位了， 我們要讓agent往下移動到船塢的最底下把掉下去的方塊撿回來。   \n",
    "\n",
    "我們要用一個while迴圈把agent往下移，只有當下方是空氣(air)的時候才重複迴圈。   \n",
    "\n",
    "**完成下面的while迴圈，當`agent.inspect`偵測`down`下方等於`\"air\"`空氣的時候執行`move`那行！**"
   ]
  },
  {
   "cell_type": "code",
   "execution_count": null,
   "metadata": {
    "minecraft": {
     "closeCodeBuilderOnRun": true,
     "onCodeCancelledCommand": "scoreboard players set @s codeExecution 0",
     "onCodeErrorCommand": "scoreboard players set @s codeExecution -1",
     "onCodeStartedCommand": "scoreboard players set @s codeExecution 1",
     "onCodeStoppedCommand": "scoreboard players set @s codeExecution 0",
     "onCodeSuccessfulCommand": "scoreboard players set @s codeExecution 2",
     "overridePython": "",
     "readonly": false
    }
   },
   "outputs": [],
   "source": [
    "while agent.    (    ).id ==            :\n",
    "    # 完成上面的while迴圈 \n",
    "    agent.move(\"down\")"
   ]
  },
  {
   "cell_type": "markdown",
   "metadata": {},
   "source": [
    "完成之後，進到下一節。"
   ]
  }
 ],
 "metadata": {
  "kernelspec": {
   "display_name": "Python 3 (ipykernel)",
   "language": "python",
   "name": "python3"
  },
  "language_info": {
   "codemirror_mode": {
    "name": "ipython",
    "version": 3
   },
   "file_extension": ".py",
   "mimetype": "text/x-python",
   "name": "python",
   "nbconvert_exporter": "python",
   "pygments_lexer": "ipython3",
   "version": "3.9.7"
  },
  "minecraft": {
   "description": "第1節",
   "page_id": "1.1",
   "page_name": "第1節",
   "style": "minecraft.css"
  }
 },
 "nbformat": 4,
 "nbformat_minor": 4
}
