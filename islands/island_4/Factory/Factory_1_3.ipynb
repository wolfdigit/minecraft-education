{
 "cells": [
  {
   "cell_type": "markdown",
   "metadata": {},
   "source": [
    "## Step 5\n",
    "\n",
    "Now that the agent is at the correct y (altitude) coordinate, you can place the block that your agent just collected, using the `agent.place` function.\n",
    "\n",
    "Here's a reminder on how to use the function...\n",
    "```python\n",
    "agent.place(direction, slot_number)\n",
    "```\n",
    "\n",
    "**In the code block below, write the line to place the block from slot number `1`, in the `\"down\"` direction.**"
   ]
  },
  {
   "cell_type": "code",
   "execution_count": null,
   "metadata": {
    "minecraft": {
     "closeCodeBuilderOnRun": true,
     "onCodeCancelledCommand": "scoreboard players set @s codeExecution 0",
     "onCodeErrorCommand": "scoreboard players set @s codeExecution -1",
     "onCodeStartedCommand": "scoreboard players set @s codeExecution 1",
     "onCodeStoppedCommand": "scoreboard players set @s codeExecution 0",
     "onCodeSuccessfulCommand": "scoreboard players set @s codeExecution 2",
     "overridePython": "",
     "readonly": false
    }
   },
   "outputs": [],
   "source": [
    "\n",
    "\n",
    "# Add your `agent.place` code above"
   ]
  },
  {
   "cell_type": "markdown",
   "metadata": {},
   "source": [
    "## Step 6\n",
    "\n",
    "Great, now that you have successfully guided your agent through fixing one block, let's put all of the previous code together into one big `while` loop to automate fixing the rest of the airship.\n",
    "\n",
    "**Complete the while loop below, so that the outer while loop runs while agent `inspect` `forward` direction is equal to `\"air\"`.**"
   ]
  },
  {
   "cell_type": "code",
   "execution_count": null,
   "metadata": {
    "default_code": "while               ==      :\n    # Complete the while loop above\n    # Step 1\n    agent.move(\"forward\")\n    \n    # Step 2\n    while agent.inspect(\"down\") == \"air\":\n        agent.move(\"down\")\n\n    # Step 3\n    agent.collect()\n\n    # Step 4\n    while agent.position.y != 157:\n        agent.move(\"up\")\n\n    # Step 5\n    agent.place(\"down\",1)",
    "minecraft": {
     "closeCodeBuilderOnRun": true,
     "onCodeCancelledCommand": "scoreboard players set @s codeExecution 0",
     "onCodeErrorCommand": "scoreboard players set @s codeExecution -1",
     "onCodeStartedCommand": "scoreboard players set @s codeExecution 1",
     "onCodeStoppedCommand": "scoreboard players set @s codeExecution 0",
     "onCodeSuccessfulCommand": "scoreboard players set @s codeExecution 2",
     "overridePython": "",
     "readonly": false
    }
   },
   "outputs": [],
   "source": [
    "while agent.    (    ).id ==      :\n",
    "    # Complete the while loop above\n",
    "    # Step 1\n",
    "    agent.move(\"forward\")\n",
    "    \n",
    "    # Step 2\n",
    "    while agent.inspect(\"down\").id == \"air\":\n",
    "        agent.move(\"down\")\n",
    "\n",
    "    # Step 3\n",
    "    agent.collect()\n",
    "\n",
    "    # Step 4\n",
    "    while agent.position.y != 157:\n",
    "        agent.move(\"up\")\n",
    "\n",
    "    # Step 5\n",
    "    agent.place(\"down\",1)"
   ]
  },
  {
   "cell_type": "markdown",
   "metadata": {},
   "source": [
    "Great! Run your code and have your agent finish repairing the airship."
   ]
  }
 ],
 "metadata": {
  "kernelspec": {
   "display_name": "Python 3 (ipykernel)",
   "language": "python",
   "name": "python3"
  },
  "language_info": {
   "codemirror_mode": {
    "name": "ipython",
    "version": 3
   },
   "file_extension": ".py",
   "mimetype": "text/x-python",
   "name": "python",
   "nbconvert_exporter": "python",
   "pygments_lexer": "ipython3",
   "version": "3.9.7"
  },
  "minecraft": {
   "description": "Section 3",
   "page_id": "1.3",
   "page_name": "Section 3",
   "style": "minecraft.css"
  }
 },
 "nbformat": 4,
 "nbformat_minor": 4
}
