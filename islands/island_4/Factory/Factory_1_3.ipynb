{
 "cells": [
  {
   "cell_type": "markdown",
   "metadata": {},
   "source": [
    "## 步驟 5\n",
    "\n",
    "現在agent已經到達正確的y座標(高度)了，你可以放置你的agent剛剛撿起來的方塊，使用`agent.place`函式。\n",
    "\n",
    "這邊提醒你如何使用這個函式...\n",
    "```python\n",
    "agent.place(方向, 物品欄編號)\n",
    "```\n",
    "\n",
    "**在下面的程式碼框，寫一行程式來往下`\"down\"`放置在物品欄第`1`格的方塊。**"
   ]
  },
  {
   "cell_type": "code",
   "execution_count": null,
   "metadata": {
    "minecraft": {
     "closeCodeBuilderOnRun": true,
     "onCodeCancelledCommand": "scoreboard players set @s codeExecution 0",
     "onCodeErrorCommand": "scoreboard players set @s codeExecution -1",
     "onCodeStartedCommand": "scoreboard players set @s codeExecution 1",
     "onCodeStoppedCommand": "scoreboard players set @s codeExecution 0",
     "onCodeSuccessfulCommand": "scoreboard players set @s codeExecution 2",
     "overridePython": "",
     "readonly": false
    }
   },
   "outputs": [],
   "source": [
    "\n",
    "\n",
    "# 在上面加入你的`agent.place`程式碼"
   ]
  },
  {
   "cell_type": "markdown",
   "metadata": {},
   "source": [
    "## 步驟 6\n",
    "\n",
    "很好， 你已經成功引導你的agent修復一個方塊了。 讓我們把前面那些程式碼結合在一起形成一個大的`while`迴圈，可以用來自動化修復飛船剩下的那些破洞。\n",
    "\n",
    "**完成下面的while迴圈， 外層的while迴圈是在當agent偵測`inspect`前方`forward`等於空氣`\"air\"`時要重複執行。**"
   ]
  },
  {
   "cell_type": "code",
   "execution_count": null,
   "metadata": {
    "default_code": "while               ==      :\n    # Complete the while loop above\n    # Step 1\n    agent.move(\"forward\")\n    \n    # Step 2\n    while agent.inspect(\"down\") == \"air\":\n        agent.move(\"down\")\n\n    # Step 3\n    agent.collect()\n\n    # Step 4\n    while agent.position.y != 157:\n        agent.move(\"up\")\n\n    # Step 5\n    agent.place(\"down\",1)",
    "minecraft": {
     "closeCodeBuilderOnRun": true,
     "onCodeCancelledCommand": "scoreboard players set @s codeExecution 0",
     "onCodeErrorCommand": "scoreboard players set @s codeExecution -1",
     "onCodeStartedCommand": "scoreboard players set @s codeExecution 1",
     "onCodeStoppedCommand": "scoreboard players set @s codeExecution 0",
     "onCodeSuccessfulCommand": "scoreboard players set @s codeExecution 2",
     "overridePython": "",
     "readonly": false
    }
   },
   "outputs": [],
   "source": [
    "while agent.    (    ).id ==      :\n",
    "    # 完成上面的while迴圈\n",
    "    # 步驟 1\n",
    "    agent.move(\"forward\")\n",
    "    \n",
    "    # 步驟 2\n",
    "    while agent.inspect(\"down\").id == \"air\":\n",
    "        agent.move(\"down\")\n",
    "\n",
    "    # 步驟 3\n",
    "    agent.collect()\n",
    "\n",
    "    # 步驟 4\n",
    "    while agent.position.y != 157:\n",
    "        agent.move(\"up\")\n",
    "\n",
    "    # 步驟 5\n",
    "    agent.place(\"down\",1)"
   ]
  },
  {
   "cell_type": "markdown",
   "metadata": {},
   "source": [
    "太棒了！ 執行你的程式讓agent完成飛船的修復工作。"
   ]
  }
 ],
 "metadata": {
  "kernelspec": {
   "display_name": "Python 3 (ipykernel)",
   "language": "python",
   "name": "python3"
  },
  "language_info": {
   "codemirror_mode": {
    "name": "ipython",
    "version": 3
   },
   "file_extension": ".py",
   "mimetype": "text/x-python",
   "name": "python",
   "nbconvert_exporter": "python",
   "pygments_lexer": "ipython3",
   "version": "3.9.7"
  },
  "minecraft": {
   "description": "第3節",
   "page_id": "1.3",
   "page_name": "第3節",
   "style": "minecraft.css"
  }
 },
 "nbformat": 4,
 "nbformat_minor": 4
}
